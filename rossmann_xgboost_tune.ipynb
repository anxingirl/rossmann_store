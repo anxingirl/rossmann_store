{
 "cells": [
  {
   "cell_type": "code",
   "execution_count": 45,
   "metadata": {},
   "outputs": [],
   "source": [
    "import pandas as pd\n",
    "import numpy as np\n",
    "import matplotlib.pyplot as plt\n",
    "import seaborn as sns"
   ]
  },
  {
   "cell_type": "code",
   "execution_count": 46,
   "metadata": {},
   "outputs": [],
   "source": [
    "train_val = pd.read_csv('train_val.csv',low_memory=False)\n",
    "train_tra = pd.read_csv('train_tra.csv',low_memory=False)\n",
    "test = pd.read_csv('test_done.csv', low_memory=False)"
   ]
  },
  {
   "cell_type": "code",
   "execution_count": 47,
   "metadata": {},
   "outputs": [],
   "source": [
    "# 拆分特征和标签\n",
    "train_tra_x = train_tra.drop(['Sales'], axis=1)\n",
    "train_tra_y = train_tra['Sales']\n",
    "\n",
    "train_val_x = train_val.drop(['Sales'], axis=1)\n",
    "train_val_y = train_val['Sales']\n"
   ]
  },
  {
   "cell_type": "code",
   "execution_count": 48,
   "metadata": {},
   "outputs": [],
   "source": [
    "import rossmann as ross"
   ]
  },
  {
   "cell_type": "code",
   "execution_count": 49,
   "metadata": {},
   "outputs": [
    {
     "name": "stdout",
     "output_type": "stream",
     "text": [
      "rossmann package\n"
     ]
    }
   ],
   "source": [
    "ross.rossmann_test()"
   ]
  },
  {
   "cell_type": "markdown",
   "metadata": {},
   "source": [
    "### 構建XGBOOST"
   ]
  },
  {
   "cell_type": "code",
   "execution_count": 50,
   "metadata": {},
   "outputs": [],
   "source": [
    "import xgboost as xgb\n",
    "from time import time"
   ]
  },
  {
   "cell_type": "code",
   "execution_count": 51,
   "metadata": {},
   "outputs": [],
   "source": [
    "dtrain = xgb.DMatrix(train_tra_x, train_tra_y)"
   ]
  },
  {
   "cell_type": "code",
   "execution_count": 52,
   "metadata": {},
   "outputs": [],
   "source": [
    "dvalid = xgb.DMatrix(train_val_x, train_val_y)"
   ]
  },
  {
   "cell_type": "code",
   "execution_count": 53,
   "metadata": {},
   "outputs": [],
   "source": [
    "watchlist = [(dtrain, 'train'), (dvalid, 'eval')]"
   ]
  },
  {
   "cell_type": "code",
   "execution_count": 33,
   "metadata": {},
   "outputs": [
    {
     "name": "stdout",
     "output_type": "stream",
     "text": [
      "[0]\ttrain-rmse:7.43811+0.00059302\ttrain-rmspe:0.999521+0\ttest-rmse:7.43812+0.001251\ttest-rmspe:0.999521+4.71405e-07\n",
      "[1]\ttrain-rmse:6.69644+0.000461103\ttrain-rmspe:0.998808+1.41421e-06\ttest-rmse:6.69646+0.00139712\ttest-rmspe:0.998808+8.16497e-07\n",
      "[2]\ttrain-rmse:6.02909+0.00053173\ttrain-rmspe:0.997518+1.24722e-06\ttest-rmse:6.02909+0.00130242\ttest-rmspe:0.997518+4.54606e-06\n",
      "[3]\ttrain-rmse:5.42877+0.000534328\ttrain-rmspe:0.995342+6.2361e-06\ttest-rmse:5.42877+0.0012936\ttest-rmspe:0.995342+1.15181e-05\n",
      "[4]\ttrain-rmse:4.88831+0.000437988\ttrain-rmspe:0.991912+1.26579e-05\ttest-rmse:4.8883+0.00137179\ttest-rmspe:0.991911+1.98158e-05\n",
      "[5]\ttrain-rmse:4.40228+0.000382665\ttrain-rmspe:0.986767+1.91543e-05\ttest-rmse:4.40229+0.00147186\ttest-rmspe:0.986766+2.80832e-05\n",
      "[6]\ttrain-rmse:3.96512+0.000524809\ttrain-rmspe:0.979444+3.30387e-05\ttest-rmse:3.96512+0.00126276\ttest-rmspe:0.979442+5.89406e-05\n",
      "[7]\ttrain-rmse:3.57173+0.000713886\ttrain-rmspe:0.969529+6.07124e-05\ttest-rmse:3.57169+0.00107966\ttest-rmspe:0.969526+0.000101263\n",
      "[8]\ttrain-rmse:3.21806+0.000633381\ttrain-rmspe:0.956607+8.22084e-05\ttest-rmse:3.21801+0.00128308\ttest-rmspe:0.956604+0.000123764\n",
      "[9]\ttrain-rmse:2.8998+0.000614012\ttrain-rmspe:0.940436+9.46585e-05\ttest-rmse:2.89975+0.00115872\ttest-rmspe:0.940428+0.000163139\n",
      "[10]\ttrain-rmse:2.61361+0.000683512\ttrain-rmspe:0.920873+0.000110836\ttest-rmse:2.61355+0.00112843\ttest-rmspe:0.920861+0.000201102\n",
      "[11]\ttrain-rmse:2.35623+0.000874054\ttrain-rmspe:0.897884+0.000157114\ttest-rmse:2.35617+0.00103004\ttest-rmspe:0.897869+0.00029041\n",
      "[12]\ttrain-rmse:2.12491+0.00070217\ttrain-rmspe:0.871612+0.000139258\ttest-rmse:2.12484+0.00108315\ttest-rmspe:0.871593+0.000306667\n",
      "[13]\ttrain-rmse:1.9172+0.000554675\ttrain-rmspe:0.842274+0.000115016\ttest-rmse:1.91713+0.0010371\ttest-rmspe:0.84225+0.000358258\n",
      "[14]\ttrain-rmse:1.73071+0.000448388\ttrain-rmspe:0.810298+9.41996e-05\ttest-rmse:1.73066+0.00106154\ttest-rmspe:0.81027+0.000442662\n",
      "[15]\ttrain-rmse:1.56316+0.000278322\ttrain-rmspe:0.776217+0.00010597\ttest-rmse:1.56312+0.00122875\ttest-rmspe:0.776194+0.000523482\n",
      "[16]\ttrain-rmse:1.41277+9.23616e-05\ttrain-rmspe:0.740533+0.000121612\ttest-rmse:1.41274+0.0013336\ttest-rmspe:0.740506+0.000648381\n",
      "[17]\ttrain-rmse:1.27802+8.41467e-05\ttrain-rmspe:0.703813+0.000166386\ttest-rmse:1.27802+0.00129077\ttest-rmspe:0.703796+0.000840398\n",
      "[18]\ttrain-rmse:1.15714+0.000366525\ttrain-rmspe:0.666634+0.00030296\ttest-rmse:1.15718+0.00159735\ttest-rmspe:0.666626+0.00100088\n",
      "[19]\ttrain-rmse:1.0487+0.000406358\ttrain-rmspe:0.629583+0.000420087\ttest-rmse:1.04877+0.00168557\ttest-rmspe:0.629596+0.00122767\n",
      "[20]\ttrain-rmse:0.95205+0.000439137\ttrain-rmspe:0.593151+0.000576465\ttest-rmse:0.952146+0.00175136\ttest-rmspe:0.593189+0.00151483\n",
      "[21]\ttrain-rmse:0.865226+0.00045852\ttrain-rmspe:0.557811+0.000730144\ttest-rmse:0.865385+0.0017714\ttest-rmspe:0.557892+0.00188168\n",
      "[22]\ttrain-rmse:0.788162+0.000604708\ttrain-rmspe:0.523979+0.000892903\ttest-rmse:0.788405+0.00190496\ttest-rmspe:0.524113+0.00235937\n",
      "[23]\ttrain-rmse:0.719028+0.000557664\ttrain-rmspe:0.49188+0.00115006\ttest-rmse:0.719306+0.00166242\ttest-rmspe:0.492123+0.00283983\n",
      "[24]\ttrain-rmse:0.657776+0.000315942\ttrain-rmspe:0.461969+0.00138941\ttest-rmse:0.658116+0.00153136\ttest-rmspe:0.462288+0.00344609\n",
      "[25]\ttrain-rmse:0.603646+0.000516979\ttrain-rmspe:0.434386+0.00174087\ttest-rmse:0.604039+0.00155401\ttest-rmspe:0.434839+0.0040448\n",
      "[26]\ttrain-rmse:0.555523+0.000382494\ttrain-rmspe:0.409229+0.00204221\ttest-rmse:0.555992+0.00159402\ttest-rmspe:0.409766+0.0047351\n",
      "[27]\ttrain-rmse:0.513337+0.000227333\ttrain-rmspe:0.386725+0.00264168\ttest-rmse:0.513866+0.00098581\ttest-rmspe:0.387511+0.0053541\n",
      "[28]\ttrain-rmse:0.476507+0.000414637\ttrain-rmspe:0.366908+0.00313212\ttest-rmse:0.477128+0.000870517\ttest-rmspe:0.36786+0.00607544\n",
      "[29]\ttrain-rmse:0.443127+0.000782471\ttrain-rmspe:0.348931+0.00314063\ttest-rmse:0.443815+0.00169615\ttest-rmspe:0.350102+0.00736567\n",
      "[30]\ttrain-rmse:0.414931+0.00102932\ttrain-rmspe:0.334053+0.00378839\ttest-rmse:0.415699+0.00164764\ttest-rmspe:0.335598+0.00825419\n",
      "[31]\ttrain-rmse:0.389637+0.000548095\ttrain-rmspe:0.320737+0.00405568\ttest-rmse:0.390467+0.00136445\ttest-rmspe:0.322297+0.0090395\n",
      "[32]\ttrain-rmse:0.367529+0.000360816\ttrain-rmspe:0.309528+0.00428343\ttest-rmse:0.36846+0.00140862\ttest-rmspe:0.311025+0.01013\n",
      "[33]\ttrain-rmse:0.348557+0.000911057\ttrain-rmspe:0.300433+0.00464576\ttest-rmse:0.349601+0.00177595\ttest-rmspe:0.302043+0.0111883\n",
      "[34]\ttrain-rmse:0.332324+0.000519253\ttrain-rmspe:0.293139+0.0053098\ttest-rmse:0.333451+0.00132025\ttest-rmspe:0.294942+0.0116534\n",
      "[35]\ttrain-rmse:0.317618+0.00124616\ttrain-rmspe:0.286769+0.00532273\ttest-rmse:0.318829+0.00196874\ttest-rmspe:0.288705+0.0128116\n",
      "[36]\ttrain-rmse:0.30561+0.00210491\ttrain-rmspe:0.28226+0.00546471\ttest-rmse:0.306922+0.00271857\ttest-rmspe:0.28422+0.01381\n",
      "[37]\ttrain-rmse:0.294571+0.00151531\ttrain-rmspe:0.277993+0.00653275\ttest-rmse:0.295932+0.00200473\ttest-rmspe:0.280041+0.0138738\n",
      "[38]\ttrain-rmse:0.284847+0.00127129\ttrain-rmspe:0.274446+0.00614278\ttest-rmse:0.286298+0.00220014\ttest-rmspe:0.276501+0.0149915\n",
      "[39]\ttrain-rmse:0.276711+0.000758647\ttrain-rmspe:0.272055+0.00732942\ttest-rmse:0.278257+0.00155589\ttest-rmspe:0.274112+0.0148664\n",
      "[40]\ttrain-rmse:0.268754+0.00248313\ttrain-rmspe:0.269132+0.00680175\ttest-rmse:0.270376+0.00306588\ttest-rmspe:0.270902+0.0166481\n",
      "[41]\ttrain-rmse:0.262243+0.0023211\ttrain-rmspe:0.267087+0.00719421\ttest-rmse:0.263906+0.00287267\ttest-rmspe:0.268763+0.0166168\n",
      "[42]\ttrain-rmse:0.256657+0.00241205\ttrain-rmspe:0.26546+0.00729554\ttest-rmse:0.258396+0.00295756\ttest-rmspe:0.267243+0.0171577\n",
      "[43]\ttrain-rmse:0.251892+0.00272329\ttrain-rmspe:0.264313+0.00720706\ttest-rmse:0.253707+0.00325742\ttest-rmspe:0.266145+0.0177769\n",
      "[44]\ttrain-rmse:0.246333+0.00171494\ttrain-rmspe:0.261959+0.00923159\ttest-rmse:0.248193+0.00172364\ttest-rmspe:0.264846+0.0174156\n",
      "[45]\ttrain-rmse:0.241997+0.00193179\ttrain-rmspe:0.260424+0.00987317\ttest-rmse:0.243934+0.00167931\ttest-rmspe:0.263544+0.0173194\n",
      "[46]\ttrain-rmse:0.238778+0.00196239\ttrain-rmspe:0.259679+0.00982965\ttest-rmse:0.240799+0.00179353\ttest-rmspe:0.262721+0.0178098\n",
      "[47]\ttrain-rmse:0.235627+0.00124476\ttrain-rmspe:0.258873+0.00971603\ttest-rmse:0.237678+0.00127572\ttest-rmspe:0.261909+0.0182878\n",
      "[48]\ttrain-rmse:0.232815+0.000981393\ttrain-rmspe:0.257998+0.0101123\ttest-rmse:0.234958+0.000806693\ttest-rmspe:0.261225+0.0183426\n",
      "[49]\ttrain-rmse:0.230793+0.000834848\ttrain-rmspe:0.257806+0.0102968\ttest-rmse:0.233006+0.000598429\ttest-rmspe:0.261251+0.0185822\n",
      "[50]\ttrain-rmse:0.228654+0.000344946\ttrain-rmspe:0.256049+0.00961975\ttest-rmse:0.230934+0.000508011\ttest-rmspe:0.260848+0.0190011\n",
      "[51]\ttrain-rmse:0.226771+0.000293783\ttrain-rmspe:0.255452+0.0090308\ttest-rmse:0.229082+0.00103342\ttest-rmspe:0.26022+0.0198556\n",
      "[52]\ttrain-rmse:0.224108+0.00124563\ttrain-rmspe:0.254394+0.00854279\ttest-rmse:0.226436+0.00189848\ttest-rmspe:0.258789+0.020927\n",
      "[53]\ttrain-rmse:0.221536+0.000579858\ttrain-rmspe:0.251834+0.00898112\ttest-rmse:0.223949+0.00129848\ttest-rmspe:0.257649+0.0207655\n",
      "[54]\ttrain-rmse:0.218773+0.0017989\ttrain-rmspe:0.249912+0.0109819\ttest-rmse:0.221262+0.00152649\ttest-rmspe:0.256058+0.0193115\n",
      "[55]\ttrain-rmse:0.216757+0.00163498\ttrain-rmspe:0.2488+0.010774\ttest-rmse:0.219301+0.00148121\ttest-rmspe:0.254762+0.0197348\n",
      "[56]\ttrain-rmse:0.214757+0.00253674\ttrain-rmspe:0.24751+0.0117588\ttest-rmse:0.217328+0.00218384\ttest-rmspe:0.253569+0.0189571\n",
      "[57]\ttrain-rmse:0.212876+0.00209336\ttrain-rmspe:0.246308+0.0115946\ttest-rmse:0.215488+0.00185461\ttest-rmspe:0.252354+0.0196404\n",
      "[58]\ttrain-rmse:0.209818+0.00160307\ttrain-rmspe:0.243854+0.011809\ttest-rmse:0.212468+0.00109469\ttest-rmspe:0.250023+0.0200486\n",
      "[59]\ttrain-rmse:0.208439+0.00166282\ttrain-rmspe:0.242828+0.0115531\ttest-rmse:0.211135+0.00136158\ttest-rmspe:0.249666+0.0209941\n",
      "[60]\ttrain-rmse:0.205568+0.00047444\ttrain-rmspe:0.240393+0.0109371\ttest-rmse:0.208305+0.000694606\ttest-rmspe:0.247169+0.022468\n",
      "[61]\ttrain-rmse:0.203891+0.000890596\ttrain-rmspe:0.239049+0.0113184\ttest-rmse:0.206697+0.00077694\ttest-rmspe:0.245951+0.0223448\n",
      "[62]\ttrain-rmse:0.201516+0.00154145\ttrain-rmspe:0.235281+0.00958677\ttest-rmse:0.204375+0.00146238\ttest-rmspe:0.243853+0.0228131\n",
      "[63]\ttrain-rmse:0.1999+0.00184007\ttrain-rmspe:0.233991+0.0092834\ttest-rmse:0.202798+0.00187707\ttest-rmspe:0.242658+0.0232818\n",
      "[64]\ttrain-rmse:0.198318+0.00194353\ttrain-rmspe:0.232634+0.010056\ttest-rmse:0.201248+0.00168486\ttest-rmspe:0.241649+0.0235283\n"
     ]
    },
    {
     "name": "stdout",
     "output_type": "stream",
     "text": [
      "[65]\ttrain-rmse:0.197076+0.00164786\ttrain-rmspe:0.231579+0.0100841\ttest-rmse:0.200049+0.00147319\ttest-rmspe:0.24083+0.0238427\n",
      "[66]\ttrain-rmse:0.195682+0.00190935\ttrain-rmspe:0.230392+0.0102449\ttest-rmse:0.198706+0.00170342\ttest-rmspe:0.239579+0.0240102\n",
      "[67]\ttrain-rmse:0.194259+0.00191268\ttrain-rmspe:0.229171+0.0103624\ttest-rmse:0.197329+0.00164129\ttest-rmspe:0.238649+0.0243128\n",
      "[68]\ttrain-rmse:0.193342+0.00197263\ttrain-rmspe:0.228374+0.0103441\ttest-rmse:0.196496+0.00170448\ttest-rmspe:0.238027+0.0242984\n",
      "[69]\ttrain-rmse:0.192401+0.0020658\ttrain-rmspe:0.226672+0.00950618\ttest-rmse:0.195589+0.0017607\ttest-rmspe:0.237031+0.0241139\n",
      "[70]\ttrain-rmse:0.19153+0.00243634\ttrain-rmspe:0.22586+0.00959816\ttest-rmse:0.194745+0.00218774\ttest-rmspe:0.236451+0.0244921\n",
      "[71]\ttrain-rmse:0.190844+0.00232432\ttrain-rmspe:0.225316+0.00972673\ttest-rmse:0.194089+0.00202429\ttest-rmspe:0.235918+0.0244039\n",
      "[72]\ttrain-rmse:0.189437+0.002071\ttrain-rmspe:0.224067+0.00943443\ttest-rmse:0.192709+0.0019046\ttest-rmspe:0.234594+0.0248979\n",
      "[73]\ttrain-rmse:0.188743+0.00174147\ttrain-rmspe:0.223529+0.00927194\ttest-rmse:0.192042+0.0016866\ttest-rmspe:0.233935+0.0249208\n",
      "[74]\ttrain-rmse:0.186955+0.00208928\ttrain-rmspe:0.220807+0.0080239\ttest-rmse:0.190313+0.00210456\ttest-rmspe:0.232401+0.0255049\n",
      "[75]\ttrain-rmse:0.185208+0.00243509\ttrain-rmspe:0.219253+0.00824651\ttest-rmse:0.188606+0.00233111\ttest-rmspe:0.230812+0.0255171\n",
      "[76]\ttrain-rmse:0.183929+0.00298003\ttrain-rmspe:0.218059+0.00814995\ttest-rmse:0.18736+0.0029034\ttest-rmspe:0.229642+0.0260007\n",
      "[77]\ttrain-rmse:0.182258+0.00282579\ttrain-rmspe:0.216359+0.00719542\ttest-rmse:0.185716+0.00301693\ttest-rmspe:0.227915+0.026975\n",
      "[78]\ttrain-rmse:0.181936+0.0028596\ttrain-rmspe:0.21613+0.00715017\ttest-rmse:0.185418+0.00303476\ttest-rmspe:0.227642+0.026986\n",
      "[79]\ttrain-rmse:0.180742+0.00258834\ttrain-rmspe:0.214759+0.00832046\ttest-rmse:0.184294+0.00249827\ttest-rmspe:0.226656+0.0262671\n",
      "[80]\ttrain-rmse:0.179076+0.00374256\ttrain-rmspe:0.213201+0.00805674\ttest-rmse:0.182623+0.00372447\ttest-rmspe:0.224875+0.0269593\n",
      "[81]\ttrain-rmse:0.177932+0.00340149\ttrain-rmspe:0.212101+0.00814344\ttest-rmse:0.181515+0.00337842\ttest-rmspe:0.223875+0.0269017\n",
      "[82]\ttrain-rmse:0.176995+0.00330674\ttrain-rmspe:0.211153+0.00883413\ttest-rmse:0.180621+0.00310567\ttest-rmspe:0.223092+0.0263887\n",
      "[83]\ttrain-rmse:0.1766+0.00336297\ttrain-rmspe:0.210783+0.00888687\ttest-rmse:0.180271+0.00318113\ttest-rmspe:0.2228+0.0264279\n",
      "[84]\ttrain-rmse:0.175849+0.00291666\ttrain-rmspe:0.210202+0.00852199\ttest-rmse:0.179537+0.00286801\ttest-rmspe:0.222093+0.0268112\n",
      "[85]\ttrain-rmse:0.174617+0.00357502\ttrain-rmspe:0.208189+0.00767339\ttest-rmse:0.178348+0.00351278\ttest-rmspe:0.22093+0.0272137\n",
      "[86]\ttrain-rmse:0.17361+0.00413263\ttrain-rmspe:0.207059+0.00767804\ttest-rmse:0.177379+0.00407766\ttest-rmspe:0.219888+0.0276847\n",
      "[87]\ttrain-rmse:0.172628+0.00402899\ttrain-rmspe:0.206097+0.0074951\ttest-rmse:0.17642+0.00401831\ttest-rmspe:0.218948+0.0279247\n",
      "[88]\ttrain-rmse:0.17164+0.00473725\ttrain-rmspe:0.20513+0.00745664\ttest-rmse:0.17548+0.00473895\ttest-rmspe:0.218244+0.0288575\n",
      "[89]\ttrain-rmse:0.170331+0.00481771\ttrain-rmspe:0.203645+0.00823063\ttest-rmse:0.174222+0.00469315\ttest-rmspe:0.217038+0.0283776\n",
      "[90]\ttrain-rmse:0.169485+0.0045413\ttrain-rmspe:0.202782+0.00791491\ttest-rmse:0.173411+0.00445338\ttest-rmspe:0.216308+0.0285019\n",
      "[91]\ttrain-rmse:0.168757+0.00443229\ttrain-rmspe:0.2021+0.00778367\ttest-rmse:0.172703+0.0043749\ttest-rmspe:0.215657+0.0286746\n",
      "[92]\ttrain-rmse:0.167973+0.00405477\ttrain-rmspe:0.201255+0.00783641\ttest-rmse:0.171942+0.00402207\ttest-rmspe:0.214907+0.0285541\n",
      "[93]\ttrain-rmse:0.167243+0.0038464\ttrain-rmspe:0.200515+0.00815699\ttest-rmse:0.171242+0.0037274\ttest-rmspe:0.214291+0.0282929\n",
      "[94]\ttrain-rmse:0.166723+0.00381408\ttrain-rmspe:0.199886+0.00806019\ttest-rmse:0.170775+0.00370736\ttest-rmspe:0.213569+0.0281863\n",
      "[95]\ttrain-rmse:0.165621+0.0037369\ttrain-rmspe:0.198754+0.00759456\ttest-rmse:0.169706+0.00377957\ttest-rmspe:0.212487+0.0287421\n",
      "[96]\ttrain-rmse:0.164361+0.00380035\ttrain-rmspe:0.197618+0.00689469\ttest-rmse:0.168479+0.00399648\ttest-rmspe:0.211292+0.0294328\n",
      "[97]\ttrain-rmse:0.163288+0.00399629\ttrain-rmspe:0.196768+0.00647271\ttest-rmse:0.167447+0.00429908\ttest-rmspe:0.210316+0.0300115\n",
      "[98]\ttrain-rmse:0.162516+0.00405636\ttrain-rmspe:0.195879+0.00602263\ttest-rmse:0.166677+0.00444133\ttest-rmspe:0.20943+0.030232\n",
      "[99]\ttrain-rmse:0.160799+0.00402257\ttrain-rmspe:0.194117+0.0063676\ttest-rmse:0.165007+0.00435149\ttest-rmspe:0.207722+0.0301445\n",
      "Wall time: 1min 31s\n"
     ]
    }
   ],
   "source": [
    "%%time\n",
    "\n",
    "bst_cv1 = xgb.cv(params1, dtrain, num_boost_round, nfold=3,\n",
    "                feval=rmspe_xg, maximize=False,early_stopping_rounds=100, verbose_eval=True)"
   ]
  },
  {
   "cell_type": "code",
   "execution_count": 36,
   "metadata": {},
   "outputs": [
    {
     "data": {
      "text/plain": [
       "<matplotlib.legend.Legend at 0x16d08eceb70>"
      ]
     },
     "execution_count": 36,
     "metadata": {},
     "output_type": "execute_result"
    },
    {
     "data": {
      "image/png": "[encoded data removed]",
      "text/plain": [
       "<Figure size 1152x288 with 2 Axes>"
      ]
     },
     "metadata": {
      "needs_background": "light"
     },
     "output_type": "display_data"
    }
   ],
   "source": [
    "fig, (ax1,ax2) = plt.subplots(1,2)\n",
    "fig.set_size_inches(16,4)\n",
    "\n",
    "ax1.set_title('100 rounds of training')\n",
    "ax1.set_xlabel('Rounds')\n",
    "ax1.set_ylabel('Loss')\n",
    "ax1.grid(True)\n",
    "ax1.plot(bst_cv1[['train-rmspe-mean','test-rmspe-mean']])\n",
    "ax1.legend(['Training Loss','Test Loss'])\n",
    "\n",
    "ax2.set_title('60 rounds of training')\n",
    "ax2.set_xlabel('Rounds')\n",
    "ax2.set_ylabel('Loss')\n",
    "ax2.grid(True)\n",
    "ax2.plot(bst_cv1[40:][['train-rmspe-mean','test-rmspe-mean']])\n",
    "ax2.legend(['Training Loss','Test Loss'])"
   ]
  },
  {
   "cell_type": "code",
   "execution_count": 43,
   "metadata": {},
   "outputs": [],
   "source": [
    "xgb_bst1 = xgb.train(params=params1, dtrain=dtrain, num_boost_round=100,\n",
    "                             feval=rmspe_xg, maximize=False)"
   ]
  },
  {
   "cell_type": "code",
   "execution_count": 45,
   "metadata": {},
   "outputs": [
    {
     "name": "stdout",
     "output_type": "stream",
     "text": [
      "validating\n",
      "RMSPE: 0.195332\n"
     ]
    }
   ],
   "source": [
    "#采用保留数据集进行检测\n",
    "print(\"validating\")\n",
    "yhat = xgb_bst1.predict(xgb.DMatrix(train_tra_x))\n",
    "error = rmspe(np.expm1(train_tra_y), np.expm1(yhat))\n",
    "\n",
    "print('RMSPE: {:.6f}'.format(error))"
   ]
  },
  {
   "cell_type": "markdown",
   "metadata": {},
   "source": [
    "#### 说明num_boost_round设置为100太小，但是也不需要设置的太大 ，后期发生了比较严重的过拟合问题。"
   ]
  },
  {
   "cell_type": "markdown",
   "metadata": {},
   "source": [
    "### XGBoost 參數調節"
   ]
  },
  {
   "cell_type": "code",
   "execution_count": 58,
   "metadata": {},
   "outputs": [],
   "source": [
    "class XGBoostRegressor(object):\n",
    "    def __init__(self, **kwargs):\n",
    "        self.params = kwargs\n",
    "        if 'num_boost_round' in self.params:\n",
    "            self.num_boost_round = self.params['num_boost_round']\n",
    "        self.params.update({'silent': 1, 'objective': 'reg:linear', 'seed': 0})\n",
    "\n",
    "    def fit(self, x_train, y_train):\n",
    "        dtrain = xgb.DMatrix(x_train, y_train)\n",
    "        self.bst = xgb.train(params=self.params, dtrain=dtrain, num_boost_round=self.num_boost_round,\n",
    "                             feval=rmspe_xg, maximize=False)\n",
    "\n",
    "    def predict(self, x_pred):\n",
    "        dpred = xgb.DMatrix(x_pred)\n",
    "        return self.bst.predict(dpred)\n",
    "\n",
    "    def kfold(self, x_train, y_train, nfold=5):\n",
    "        dtrain = xgb.DMatrix(x_train, y_train)\n",
    "        cv_rounds = xgb.cv(params=self.params, dtrain=dtrain, num_boost_round=self.num_boost_round,\n",
    "                           nfold=nfold, feval=rmspe_xg, maximize=False, early_stopping_rounds=10)\n",
    "        return cv_rounds.iloc[-1,:]\n",
    "\n",
    "    def plot_feature_importances(self):\n",
    "        feat_imp = pd.Series(self.bst.get_fscore()).sort_values(ascending=False)\n",
    "        feat_imp.plot(title='Feature Importances')\n",
    "        plt.ylabel('Feature Importance Score')\n",
    "\n",
    "    def get_params(self, deep=True):\n",
    "        return self.params\n",
    "\n",
    "    def set_params(self, **params):\n",
    "        self.params.update(params)\n",
    "        return self\n",
    "    "
   ]
  },
  {
   "cell_type": "code",
   "execution_count": 66,
   "metadata": {},
   "outputs": [],
   "source": [
    "from sklearn.model_selection import ShuffleSplit"
   ]
  },
  {
   "cell_type": "markdown",
   "metadata": {},
   "source": [
    "####  1. 修改max_depth和min_child_weight"
   ]
  },
  {
   "cell_type": "code",
   "execution_count": 67,
   "metadata": {},
   "outputs": [
    {
     "data": {
      "text/plain": [
       "[8, 9, 10, 11]"
      ]
     },
     "execution_count": 67,
     "metadata": {},
     "output_type": "execute_result"
    }
   ],
   "source": [
    "xgb_param_grid = {'max_depth': list(range(8,12)), 'min_child_weight': list((1,3,6))}\n",
    "xgb_param_grid['max_depth']"
   ]
  },
  {
   "cell_type": "code",
   "execution_count": 68,
   "metadata": {},
   "outputs": [],
   "source": [
    "params3 = {\"objective\": \"reg:linear\",\n",
    "          \"booster\" : \"gbtree\",\n",
    "          \"seed\": 0,\n",
    "          \"silent\": 1,\n",
    "          }\n",
    "num_boost_round = 400"
   ]
  },
  {
   "cell_type": "code",
   "execution_count": 69,
   "metadata": {},
   "outputs": [],
   "source": [
    "from sklearn.model_selection import GridSearchCV"
   ]
  },
  {
   "cell_type": "code",
   "execution_count": 70,
   "metadata": {
    "scrolled": false
   },
   "outputs": [
    {
     "name": "stdout",
     "output_type": "stream",
     "text": [
      "Wall time: 0 ns\n"
     ]
    }
   ],
   "source": [
    "%%time\n",
    "#网格搜索 \n",
    "grid = GridSearchCV(XGBoostRegressor( num_boost_round=500),\n",
    "                param_grid=xgb_param_grid, cv=ShuffleSplit(test_size=0.20, n_splits =1, random_state=0), scoring=rmspe_score)"
   ]
  },
  {
   "cell_type": "code",
   "execution_count": 71,
   "metadata": {},
   "outputs": [
    {
     "data": {
      "text/plain": [
       "(700535, 27)"
      ]
     },
     "execution_count": 71,
     "metadata": {},
     "output_type": "execute_result"
    }
   ],
   "source": [
    "train_tra_x.shape"
   ]
  },
  {
   "cell_type": "code",
   "execution_count": 72,
   "metadata": {},
   "outputs": [
    {
     "name": "stdout",
     "output_type": "stream",
     "text": [
      "Wall time: 43min 8s\n"
     ]
    },
    {
     "data": {
      "text/plain": [
       "GridSearchCV(cv=ShuffleSplit(n_splits=1, random_state=0, test_size=0.2, train_size=None),\n",
       "             error_score='raise-deprecating',\n",
       "             estimator=<__main__.XGBoostRegressor object at 0x0000020D81A995F8>,\n",
       "             iid='warn', n_jobs=None,\n",
       "             param_grid={'max_depth': [8, 9, 10, 11],\n",
       "                         'min_child_weight': [1, 3, 6]},\n",
       "             pre_dispatch='2*n_jobs', refit=True, return_train_score=False,\n",
       "             scoring=make_scorer(rmspe, greater_is_better=False), verbose=0)"
      ]
     },
     "execution_count": 72,
     "metadata": {},
     "output_type": "execute_result"
    }
   ],
   "source": [
    "%%time\n",
    "grid.fit(train_tra_x, train_tra_y)"
   ]
  },
  {
   "cell_type": "code",
   "execution_count": 73,
   "metadata": {},
   "outputs": [
    {
     "data": {
      "text/plain": [
       "{'max_depth': 10, 'min_child_weight': 6}"
      ]
     },
     "execution_count": 73,
     "metadata": {},
     "output_type": "execute_result"
    }
   ],
   "source": [
    "grid.best_params_"
   ]
  },
  {
   "cell_type": "code",
   "execution_count": 74,
   "metadata": {},
   "outputs": [
    {
     "data": {
      "text/plain": [
       "[{'max_depth': 8, 'min_child_weight': 1},\n",
       " {'max_depth': 8, 'min_child_weight': 3},\n",
       " {'max_depth': 8, 'min_child_weight': 6},\n",
       " {'max_depth': 9, 'min_child_weight': 1},\n",
       " {'max_depth': 9, 'min_child_weight': 3},\n",
       " {'max_depth': 9, 'min_child_weight': 6},\n",
       " {'max_depth': 10, 'min_child_weight': 1},\n",
       " {'max_depth': 10, 'min_child_weight': 3},\n",
       " {'max_depth': 10, 'min_child_weight': 6},\n",
       " {'max_depth': 11, 'min_child_weight': 1},\n",
       " {'max_depth': 11, 'min_child_weight': 3},\n",
       " {'max_depth': 11, 'min_child_weight': 6}]"
      ]
     },
     "execution_count": 74,
     "metadata": {},
     "output_type": "execute_result"
    }
   ],
   "source": [
    "grid.cv_results_['params']"
   ]
  },
  {
   "cell_type": "code",
   "execution_count": 75,
   "metadata": {},
   "outputs": [
    {
     "data": {
      "text/plain": [
       "array([-0.12496345, -0.12479607, -0.12564314, -0.12498943, -0.12440787,\n",
       "       -0.1236658 , -0.12474744, -0.12465804, -0.12350449, -0.12702132,\n",
       "       -0.12587213, -0.12608268])"
      ]
     },
     "execution_count": 75,
     "metadata": {},
     "output_type": "execute_result"
    }
   ],
   "source": [
    "grid.cv_results_['mean_test_score']"
   ]
  },
  {
   "cell_type": "code",
   "execution_count": 130,
   "metadata": {},
   "outputs": [],
   "source": [
    "def plot_grid_search(cv_results, grid_param_1, grid_param_2, name_param_1, name_param_2):\n",
    "    # Get Test Scores Mean and std for each grid search\n",
    "    scores_mean = cv_results['mean_test_score']\n",
    "    scores_mean = np.array(scores_mean).reshape(len(grid_param_2),len(grid_param_1))\n",
    "\n",
    "    scores_sd = cv_results['std_test_score']\n",
    "    scores_sd = np.array(scores_sd).reshape(len(grid_param_2),len(grid_param_1))\n",
    "\n",
    "    # Plot Grid search scores\n",
    "    _, ax = plt.subplots(1,1)\n",
    "    _.set_size_inches(16,6)\n",
    "\n",
    "    # Param1 is the X-axis, Param 2 is represented as a different curve (color line)\n",
    "    for idx, val in enumerate(grid_param_2):\n",
    "        ax.plot(grid_param_1, scores_mean[idx,:], '-o', label= name_param_2 + ': ' + str(val))\n",
    "\n",
    "    ax.set_title(\"Grid Search Scores\", fontsize=20, fontweight='bold')\n",
    "    ax.set_xlabel(name_param_1, fontsize=16)\n",
    "    ax.set_ylabel('CV Average Score', fontsize=16)\n",
    "    ax.legend(loc=\"best\", fontsize=15)\n",
    "    ax.grid('on')"
   ]
  },
  {
   "cell_type": "code",
   "execution_count": 76,
   "metadata": {},
   "outputs": [
    {
     "data": {
      "image/png": "[encoded data removed]",
      "text/plain": [
       "<Figure size 432x288 with 1 Axes>"
      ]
     },
     "metadata": {
      "needs_background": "light"
     },
     "output_type": "display_data"
    }
   ],
   "source": [
    "# Calling Method \n",
    "plot_grid_search(grid.cv_results_, xgb_param_grid['max_depth'], xgb_param_grid['min_child_weight'], 'Max Depth', 'Min Child Weight')"
   ]
  },
  {
   "cell_type": "markdown",
   "metadata": {},
   "source": [
    "#### 选取出最佳的参数是MIN_CHILD_WEIGHT=3, MAX_DEPTH=9"
   ]
  },
  {
   "cell_type": "markdown",
   "metadata": {},
   "source": [
    "### 调节GAMMA值"
   ]
  },
  {
   "cell_type": "code",
   "execution_count": 120,
   "metadata": {},
   "outputs": [
    {
     "name": "stdout",
     "output_type": "stream",
     "text": [
      "Wall time: 0 ns\n"
     ]
    }
   ],
   "source": [
    "%%time\n",
    "\n",
    "xgb_param_grid = {'gamma':[ 0.1 * i for i in range(0,5)]}\n",
    "#网格搜索 "
   ]
  },
  {
   "cell_type": "code",
   "execution_count": 121,
   "metadata": {},
   "outputs": [],
   "source": [
    "grid2 = GridSearchCV(XGBoostRegressor( num_boost_round=500, max_depth=10, min_child_weight=6),\n",
    "                param_grid=xgb_param_grid, cv=ShuffleSplit(test_size=0.20, n_splits =1, random_state=0), scoring=rmspe_score)"
   ]
  },
  {
   "cell_type": "code",
   "execution_count": 84,
   "metadata": {},
   "outputs": [
    {
     "name": "stderr",
     "output_type": "stream",
     "text": [
      "D:\\ProgramData\\Anaconda3\\lib\\site-packages\\xgboost\\core.py:587: FutureWarning: Series.base is deprecated and will be removed in a future version\n",
      "  if getattr(data, 'base', None) is not None and \\\n",
      "D:\\ProgramData\\Anaconda3\\lib\\site-packages\\xgboost\\core.py:588: FutureWarning: Series.base is deprecated and will be removed in a future version\n",
      "  data.base is not None and isinstance(data, np.ndarray) \\\n"
     ]
    },
    {
     "name": "stdout",
     "output_type": "stream",
     "text": [
      "Wall time: 20min 18s\n"
     ]
    },
    {
     "data": {
      "text/plain": [
       "GridSearchCV(cv=ShuffleSplit(n_splits=1, random_state=0, test_size=0.2, train_size=None),\n",
       "             error_score='raise-deprecating',\n",
       "             estimator=<__main__.XGBoostRegressor object at 0x0000020D8EF71128>,\n",
       "             iid='warn', n_jobs=None,\n",
       "             param_grid={'gamma': [0.0, 0.1, 0.2, 0.30000000000000004, 0.4]},\n",
       "             pre_dispatch='2*n_jobs', refit=True, return_train_score=False,\n",
       "             scoring=make_scorer(rmspe, greater_is_better=False), verbose=0)"
      ]
     },
     "execution_count": 84,
     "metadata": {},
     "output_type": "execute_result"
    }
   ],
   "source": [
    "%%time\n",
    "grid2.fit(train_tra_x, train_tra_y)"
   ]
  },
  {
   "cell_type": "code",
   "execution_count": 85,
   "metadata": {},
   "outputs": [
    {
     "data": {
      "text/plain": [
       "{'gamma': 0.0}"
      ]
     },
     "execution_count": 85,
     "metadata": {},
     "output_type": "execute_result"
    }
   ],
   "source": [
    "grid2.best_params_"
   ]
  },
  {
   "cell_type": "code",
   "execution_count": 88,
   "metadata": {},
   "outputs": [
    {
     "data": {
      "text/plain": [
       "{'mean_fit_time': array([219.24154902, 189.24259782, 201.67000985, 194.78148127,\n",
       "        197.37676597]),\n",
       " 'std_fit_time': array([0., 0., 0., 0., 0.]),\n",
       " 'mean_score_time': array([4.45981622, 1.0487113 , 0.82792807, 0.76544309, 0.81766748]),\n",
       " 'std_score_time': array([0., 0., 0., 0., 0.]),\n",
       " 'param_gamma': masked_array(data=[0.0, 0.1, 0.2, 0.30000000000000004, 0.4],\n",
       "              mask=[False, False, False, False, False],\n",
       "        fill_value='?',\n",
       "             dtype=object),\n",
       " 'params': [{'gamma': 0.0},\n",
       "  {'gamma': 0.1},\n",
       "  {'gamma': 0.2},\n",
       "  {'gamma': 0.30000000000000004},\n",
       "  {'gamma': 0.4}],\n",
       " 'split0_test_score': array([-0.12350449, -0.13126807, -0.13252887, -0.13728874, -0.13669961]),\n",
       " 'mean_test_score': array([-0.12350449, -0.13126807, -0.13252887, -0.13728874, -0.13669961]),\n",
       " 'std_test_score': array([0., 0., 0., 0., 0.]),\n",
       " 'rank_test_score': array([1, 2, 3, 5, 4])}"
      ]
     },
     "execution_count": 88,
     "metadata": {},
     "output_type": "execute_result"
    }
   ],
   "source": [
    "grid2.cv_results_"
   ]
  },
  {
   "cell_type": "code",
   "execution_count": 124,
   "metadata": {},
   "outputs": [],
   "source": [
    "def plot_grid_search_one(cv_results, grid_param_1,  name_param_1):\n",
    "    # Get Test Scores Mean and std for each grid search\n",
    "    scores_mean = cv_results['mean_test_score']\n",
    "    scores_mean = np.array(scores_mean).reshape(len(grid_param_1))\n",
    "\n",
    "    scores_sd = cv_results['std_test_score']\n",
    "    scores_sd = np.array(scores_sd).reshape(len(grid_param_1))\n",
    "\n",
    "    # Plot Grid search scores\n",
    "    _, ax = plt.subplots(1,1)\n",
    "\n",
    "    # Param1 is the X-axis, Param 2 is represented as a different curve (color line)\n",
    "    ax.plot(grid_param_1, scores_mean, '-o')\n",
    "\n",
    "    ax.set_title(\"Grid Search Scores\", fontsize=20, fontweight='bold')\n",
    "    ax.set_xlabel(name_param_1, fontsize=16)\n",
    "    ax.set_ylabel('CV Average Score', fontsize=16)\n",
    "    ax.legend(loc=\"best\", fontsize=15)\n",
    "    ax.grid('on')\n"
   ]
  },
  {
   "cell_type": "code",
   "execution_count": 118,
   "metadata": {},
   "outputs": [
    {
     "ename": "AttributeError",
     "evalue": "'GridSearchCV' object has no attribute 'cv_results_'",
     "output_type": "error",
     "traceback": [
      "\u001b[1;31m---------------------------------------------------------------------------\u001b[0m",
      "\u001b[1;31mAttributeError\u001b[0m                            Traceback (most recent call last)",
      "\u001b[1;32m<ipython-input-118-cd5a9c30705a>\u001b[0m in \u001b[0;36m<module>\u001b[1;34m\u001b[0m\n\u001b[1;32m----> 1\u001b[1;33m \u001b[0mplot_grid_search_one\u001b[0m\u001b[1;33m(\u001b[0m\u001b[0mgrid2\u001b[0m\u001b[1;33m.\u001b[0m\u001b[0mcv_results_\u001b[0m\u001b[1;33m,\u001b[0m \u001b[0mxgb_param_grid\u001b[0m\u001b[1;33m[\u001b[0m\u001b[1;34m'gamma'\u001b[0m\u001b[1;33m]\u001b[0m\u001b[1;33m,\u001b[0m \u001b[1;34m'Gamma'\u001b[0m\u001b[1;33m)\u001b[0m\u001b[1;33m\u001b[0m\u001b[1;33m\u001b[0m\u001b[0m\n\u001b[0m",
      "\u001b[1;31mAttributeError\u001b[0m: 'GridSearchCV' object has no attribute 'cv_results_'"
     ]
    }
   ],
   "source": [
    "plot_grid_search_one(grid2.cv_results_, xgb_param_grid['gamma'], 'Gamma')"
   ]
  },
  {
   "cell_type": "markdown",
   "metadata": {},
   "source": [
    "###  调节样本采样方式 subsample 和 colsample_bytree"
   ]
  },
  {
   "cell_type": "code",
   "execution_count": 89,
   "metadata": {},
   "outputs": [],
   "source": [
    "from sklearn.model_selection import ShuffleSplit"
   ]
  },
  {
   "cell_type": "code",
   "execution_count": null,
   "metadata": {},
   "outputs": [],
   "source": [
    "xgb_param_grid3 = {'subsample':[ 0.1 * i for i in range(6,9)],\n",
    "                      'colsample_bytree':[ 0.1 * i for i in range(6,9)]}\n",
    "                      \n",
    "# xgb_param_grid3 = {'subsample':[ 0.1 * i for i in range(6,7)],}"
   ]
  },
  {
   "cell_type": "code",
   "execution_count": 90,
   "metadata": {},
   "outputs": [],
   "source": [
    "grid3 = GridSearchCV(XGBoostRegressor( num_boost_round=500, max_depth=10, min_child_weight=6, gamma=0.0),\n",
    "                                      param_grid=xgb_param_grid3, cv=ShuffleSplit(test_size=0.20, n_splits =1, random_state=0), scoring=rmspe_score)"
   ]
  },
  {
   "cell_type": "code",
   "execution_count": 91,
   "metadata": {},
   "outputs": [
    {
     "name": "stderr",
     "output_type": "stream",
     "text": [
      "D:\\ProgramData\\Anaconda3\\lib\\site-packages\\xgboost\\core.py:587: FutureWarning: Series.base is deprecated and will be removed in a future version\n",
      "  if getattr(data, 'base', None) is not None and \\\n",
      "D:\\ProgramData\\Anaconda3\\lib\\site-packages\\xgboost\\core.py:588: FutureWarning: Series.base is deprecated and will be removed in a future version\n",
      "  data.base is not None and isinstance(data, np.ndarray) \\\n"
     ]
    },
    {
     "name": "stdout",
     "output_type": "stream",
     "text": [
      "Wall time: 31min 50s\n"
     ]
    },
    {
     "data": {
      "text/plain": [
       "GridSearchCV(cv=ShuffleSplit(n_splits=1, random_state=0, test_size=0.2, train_size=None),\n",
       "             error_score='raise-deprecating',\n",
       "             estimator=<__main__.XGBoostRegressor object at 0x0000020D8FD036D8>,\n",
       "             iid='warn', n_jobs=None,\n",
       "             param_grid={'colsample_bytree': [0.6000000000000001,\n",
       "                                              0.7000000000000001, 0.8],\n",
       "                         'subsample': [0.6000000000000001, 0.7000000000000001,\n",
       "                                       0.8]},\n",
       "             pre_dispatch='2*n_jobs', refit=True, return_train_score=False,\n",
       "             scoring=make_scorer(rmspe, greater_is_better=False), verbose=0)"
      ]
     },
     "execution_count": 91,
     "metadata": {},
     "output_type": "execute_result"
    }
   ],
   "source": [
    "%%time\n",
    "grid3.fit(train_tra_x, train_tra_y)"
   ]
  },
  {
   "cell_type": "code",
   "execution_count": 101,
   "metadata": {},
   "outputs": [
    {
     "data": {
      "text/plain": [
       "{'mean_fit_time': array([177.30621219, 167.18331552, 159.61232972, 189.14898324,\n",
       "        181.18626022, 171.57964897, 209.60489726, 201.0508585 ,\n",
       "        198.42103124]),\n",
       " 'std_fit_time': array([0., 0., 0., 0., 0., 0., 0., 0., 0.]),\n",
       " 'mean_score_time': array([3.40775228, 3.52049112, 3.34536695, 3.34296227, 3.38982558,\n",
       "        3.40544629, 3.37560225, 3.37420511, 3.88682461]),\n",
       " 'std_score_time': array([0., 0., 0., 0., 0., 0., 0., 0., 0.]),\n",
       " 'param_colsample_bytree': masked_array(data=[0.6000000000000001, 0.6000000000000001,\n",
       "                    0.6000000000000001, 0.7000000000000001,\n",
       "                    0.7000000000000001, 0.7000000000000001, 0.8, 0.8, 0.8],\n",
       "              mask=[False, False, False, False, False, False, False, False,\n",
       "                    False],\n",
       "        fill_value='?',\n",
       "             dtype=object),\n",
       " 'param_subsample': masked_array(data=[0.6000000000000001, 0.7000000000000001, 0.8,\n",
       "                    0.6000000000000001, 0.7000000000000001, 0.8,\n",
       "                    0.6000000000000001, 0.7000000000000001, 0.8],\n",
       "              mask=[False, False, False, False, False, False, False, False,\n",
       "                    False],\n",
       "        fill_value='?',\n",
       "             dtype=object),\n",
       " 'params': [{'colsample_bytree': 0.6000000000000001,\n",
       "   'subsample': 0.6000000000000001},\n",
       "  {'colsample_bytree': 0.6000000000000001, 'subsample': 0.7000000000000001},\n",
       "  {'colsample_bytree': 0.6000000000000001, 'subsample': 0.8},\n",
       "  {'colsample_bytree': 0.7000000000000001, 'subsample': 0.6000000000000001},\n",
       "  {'colsample_bytree': 0.7000000000000001, 'subsample': 0.7000000000000001},\n",
       "  {'colsample_bytree': 0.7000000000000001, 'subsample': 0.8},\n",
       "  {'colsample_bytree': 0.8, 'subsample': 0.6000000000000001},\n",
       "  {'colsample_bytree': 0.8, 'subsample': 0.7000000000000001},\n",
       "  {'colsample_bytree': 0.8, 'subsample': 0.8}],\n",
       " 'split0_test_score': array([-0.1284274 , -0.12586865, -0.12631553, -0.12701739, -0.127339  ,\n",
       "        -0.12519035, -0.12722121, -0.12489571, -0.12592433]),\n",
       " 'mean_test_score': array([-0.1284274 , -0.12586865, -0.12631553, -0.12701739, -0.127339  ,\n",
       "        -0.12519035, -0.12722121, -0.12489571, -0.12592433]),\n",
       " 'std_test_score': array([0.00000000e+00, 0.00000000e+00, 0.00000000e+00, 0.00000000e+00,\n",
       "        0.00000000e+00, 0.00000000e+00, 0.00000000e+00, 1.38777878e-17,\n",
       "        0.00000000e+00]),\n",
       " 'rank_test_score': array([9, 3, 5, 6, 8, 2, 7, 1, 4])}"
      ]
     },
     "execution_count": 101,
     "metadata": {},
     "output_type": "execute_result"
    }
   ],
   "source": [
    "grid3.cv_results_"
   ]
  },
  {
   "cell_type": "code",
   "execution_count": 131,
   "metadata": {},
   "outputs": [
    {
     "data": {
      "image/png": "[encoded data removed]",
      "text/plain": [
       "<Figure size 1152x432 with 1 Axes>"
      ]
     },
     "metadata": {
      "needs_background": "light"
     },
     "output_type": "display_data"
    }
   ],
   "source": [
    "plot_grid_search(grid3.cv_results_, xgb_param_grid3['subsample'],xgb_param_grid3['colsample_bytree'] ,'subsample','colsample_bytree')"
   ]
  },
  {
   "cell_type": "markdown",
   "metadata": {},
   "source": [
    "### 减小学习率并增大树个数"
   ]
  },
  {
   "cell_type": "code",
   "execution_count": 122,
   "metadata": {},
   "outputs": [
    {
     "name": "stdout",
     "output_type": "stream",
     "text": [
      "Wall time: 0 ns\n"
     ]
    }
   ],
   "source": [
    "%%time\n",
    "\n",
    "xgb_param_grid = {'eta':[0.5,0.4,0.3,0.2,0.1,0.075,0.05,0.04,0.03]}"
   ]
  },
  {
   "cell_type": "code",
   "execution_count": 98,
   "metadata": {},
   "outputs": [
    {
     "name": "stdout",
     "output_type": "stream",
     "text": [
      "Wall time: 0 ns\n"
     ]
    }
   ],
   "source": [
    "grid4 = GridSearchCV(XGBoostRegressor(num_boost_round=500, gamma=0, max_depth=10, min_child_weight=6,colsample_bytree=0.8, subsample=0.7),\n",
    "                    param_grid=xgb_param_grid, cv=5, scoring=rmspe_score)"
   ]
  },
  {
   "cell_type": "code",
   "execution_count": 99,
   "metadata": {},
   "outputs": [
    {
     "name": "stderr",
     "output_type": "stream",
     "text": [
      "D:\\ProgramData\\Anaconda3\\lib\\site-packages\\xgboost\\core.py:588: FutureWarning: Series.base is deprecated and will be removed in a future version\n",
      "  data.base is not None and isinstance(data, np.ndarray) \\\n"
     ]
    },
    {
     "name": "stdout",
     "output_type": "stream",
     "text": [
      "Wall time: 2h 17min 15s\n"
     ]
    },
    {
     "data": {
      "text/plain": [
       "GridSearchCV(cv=5, error_score='raise-deprecating',\n",
       "             estimator=<__main__.XGBoostRegressor object at 0x0000020D8FD03CC0>,\n",
       "             iid='warn', n_jobs=None,\n",
       "             param_grid={'eta': [0.5, 0.4, 0.3, 0.2, 0.1, 0.075, 0.05, 0.04,\n",
       "                                 0.03]},\n",
       "             pre_dispatch='2*n_jobs', refit=True, return_train_score=False,\n",
       "             scoring=make_scorer(rmspe, greater_is_better=False), verbose=0)"
      ]
     },
     "execution_count": 99,
     "metadata": {},
     "output_type": "execute_result"
    }
   ],
   "source": [
    "%%time\n",
    "grid4.fit(train_tra_x, train_tra_y)"
   ]
  },
  {
   "cell_type": "code",
   "execution_count": 100,
   "metadata": {},
   "outputs": [
    {
     "data": {
      "text/plain": [
       "{'eta': 0.04}"
      ]
     },
     "execution_count": 100,
     "metadata": {},
     "output_type": "execute_result"
    }
   ],
   "source": [
    "grid4.best_params_"
   ]
  },
  {
   "cell_type": "code",
   "execution_count": 102,
   "metadata": {},
   "outputs": [
    {
     "data": {
      "text/plain": [
       "{'mean_fit_time': array([167.89401226, 168.76144242, 167.83579483, 167.35887136,\n",
       "        164.18374701, 163.42451239, 163.96570282, 199.31423812,\n",
       "        217.8762836 ]),\n",
       " 'std_fit_time': array([ 0.30363533,  1.8823429 ,  0.76545981,  0.93170775,  0.51738659,\n",
       "         0.63123028,  1.6447776 , 50.21462707, 62.81280606]),\n",
       " 'mean_score_time': array([2.99984603, 2.93374591, 2.9801712 , 2.81746826, 2.72436371,\n",
       "        2.56954226, 2.50240149, 2.83985763, 2.92885056]),\n",
       " 'std_score_time': array([0.16860192, 0.15145271, 0.16658992, 0.11962805, 0.11688835,\n",
       "        0.10107402, 0.1021562 , 0.46238579, 0.30920516]),\n",
       " 'param_eta': masked_array(data=[0.5, 0.4, 0.3, 0.2, 0.1, 0.075, 0.05, 0.04, 0.03],\n",
       "              mask=[False, False, False, False, False, False, False, False,\n",
       "                    False],\n",
       "        fill_value='?',\n",
       "             dtype=object),\n",
       " 'params': [{'eta': 0.5},\n",
       "  {'eta': 0.4},\n",
       "  {'eta': 0.3},\n",
       "  {'eta': 0.2},\n",
       "  {'eta': 0.1},\n",
       "  {'eta': 0.075},\n",
       "  {'eta': 0.05},\n",
       "  {'eta': 0.04},\n",
       "  {'eta': 0.03}],\n",
       " 'split0_test_score': array([-0.51151501, -0.43395116, -0.4110692 , -0.39204167, -0.38681966,\n",
       "        -0.38951012, -0.38244489, -0.37705039, -0.36823218]),\n",
       " 'split1_test_score': array([-0.45902891, -0.43055053, -0.37894103, -0.3912498 , -0.3902144 ,\n",
       "        -0.39627969, -0.3818981 , -0.37897355, -0.38990382]),\n",
       " 'split2_test_score': array([-0.48304403, -0.48013178, -0.47041651, -0.47991904, -0.46726412,\n",
       "        -0.47434599, -0.46481455, -0.45487255, -0.46150533]),\n",
       " 'split3_test_score': array([-0.54904858, -0.50991906, -0.4793942 , -0.45910211, -0.47709918,\n",
       "        -0.48248785, -0.4890977 , -0.47473018, -0.47495672]),\n",
       " 'split4_test_score': array([-0.62242405, -0.63537989, -0.49942897, -0.48172251, -0.47675834,\n",
       "        -0.47740532, -0.49544814, -0.46546716, -0.47075941]),\n",
       " 'mean_test_score': array([-0.52501211, -0.49798648, -0.44784998, -0.44080703, -0.43963114,\n",
       "        -0.44400579, -0.44274068, -0.43021877, -0.43307149]),\n",
       " 'std_test_score': array([0.05720859, 0.07481478, 0.04531214, 0.04092069, 0.04189733,\n",
       "        0.04186761, 0.0505009 , 0.0430917 , 0.04483485]),\n",
       " 'rank_test_score': array([9, 8, 7, 4, 3, 6, 5, 1, 2])}"
      ]
     },
     "execution_count": 102,
     "metadata": {},
     "output_type": "execute_result"
    }
   ],
   "source": [
    "grid4.cv_results_"
   ]
  },
  {
   "cell_type": "code",
   "execution_count": 125,
   "metadata": {},
   "outputs": [
    {
     "name": "stderr",
     "output_type": "stream",
     "text": [
      "No handles with labels found to put in legend.\n"
     ]
    },
    {
     "data": {
      "image/png": "[encoded data removed]",
      "text/plain": [
       "<Figure size 432x288 with 1 Axes>"
      ]
     },
     "metadata": {
      "needs_background": "light"
     },
     "output_type": "display_data"
    }
   ],
   "source": [
    "plot_grid_search_one(grid4.cv_results_,xgb_param_grid['eta'],'eta')"
   ]
  },
  {
   "cell_type": "code",
   "execution_count": 132,
   "metadata": {},
   "outputs": [],
   "source": [
    "params5 = {\"objective\": \"reg:linear\",\n",
    "          \"booster\" : \"gbtree\",\n",
    "          \"seed\": 0,\n",
    "          \"eta\": 0.04,\n",
    "          \"max_depth\": 10,\n",
    "          \"subsample\": 0.8,\n",
    "          \"colsample_bytree\": 0.7,\n",
    "          \"silent\": 1,\n",
    "          \"min_child_weight\": 6,\n",
    "          \"gamma\" : 0.0,\n",
    "          }"
   ]
  },
  {
   "cell_type": "code",
   "execution_count": 133,
   "metadata": {},
   "outputs": [
    {
     "name": "stdout",
     "output_type": "stream",
     "text": [
      "[0]\ttrain-rmse:7.93227\teval-rmse:7.96935\ttrain-rmspe:5802.22\teval-rmspe:6021.88\n",
      "Multiple eval metrics have been passed: 'eval-rmspe' will be used for early stopping.\n",
      "\n",
      "Will train until eval-rmspe hasn't improved in 100 rounds.\n",
      "[1]\ttrain-rmse:7.61567\teval-rmse:7.65218\ttrain-rmspe:3476.86\teval-rmspe:3607.18\n",
      "[2]\ttrain-rmse:7.31171\teval-rmse:7.34726\ttrain-rmspe:2274.53\teval-rmspe:2357.33\n",
      "[3]\ttrain-rmse:7.01989\teval-rmse:7.05461\ttrain-rmspe:1569.18\teval-rmspe:1624.84\n",
      "[4]\ttrain-rmse:6.73982\teval-rmse:6.77344\ttrain-rmspe:1123.89\teval-rmspe:1162.44\n",
      "[5]\ttrain-rmse:6.47096\teval-rmse:6.50353\ttrain-rmspe:825.837\teval-rmspe:853.245\n",
      "[6]\ttrain-rmse:6.21291\teval-rmse:6.24475\ttrain-rmspe:620.033\teval-rmspe:639.959\n",
      "[7]\ttrain-rmse:5.96524\teval-rmse:5.99615\ttrain-rmspe:473.776\teval-rmspe:488.436\n",
      "[8]\ttrain-rmse:5.72743\teval-rmse:5.75715\ttrain-rmspe:366.98\teval-rmspe:377.911\n",
      "[9]\ttrain-rmse:5.49913\teval-rmse:5.52801\ttrain-rmspe:287.977\teval-rmspe:296.312\n",
      "[10]\ttrain-rmse:5.28\teval-rmse:5.30832\ttrain-rmspe:228.659\teval-rmspe:235.204\n",
      "[11]\ttrain-rmse:5.06964\teval-rmse:5.09691\ttrain-rmspe:183.426\teval-rmspe:188.504\n",
      "[12]\ttrain-rmse:4.86771\teval-rmse:4.89395\ttrain-rmspe:148.613\teval-rmspe:152.59\n",
      "[13]\ttrain-rmse:4.67392\teval-rmse:4.70015\ttrain-rmspe:121.49\teval-rmspe:124.769\n",
      "[14]\ttrain-rmse:4.48787\teval-rmse:4.51328\ttrain-rmspe:100.133\teval-rmspe:102.753\n",
      "[15]\ttrain-rmse:4.30935\teval-rmse:4.33381\ttrain-rmspe:83.2045\teval-rmspe:85.3009\n",
      "[16]\ttrain-rmse:4.13789\teval-rmse:4.16211\ttrain-rmspe:69.5942\teval-rmspe:71.3424\n",
      "[17]\ttrain-rmse:3.97331\teval-rmse:3.9965\ttrain-rmspe:58.6365\teval-rmspe:60.0393\n",
      "[18]\ttrain-rmse:3.81538\teval-rmse:3.83819\ttrain-rmspe:49.7323\teval-rmspe:50.9127\n",
      "[19]\ttrain-rmse:3.66375\teval-rmse:3.6861\ttrain-rmspe:42.4303\teval-rmspe:43.4235\n",
      "[20]\ttrain-rmse:3.51833\teval-rmse:3.54078\ttrain-rmspe:36.4649\teval-rmspe:37.3422\n",
      "[21]\ttrain-rmse:3.37865\teval-rmse:3.39976\ttrain-rmspe:31.4856\teval-rmspe:32.2132\n",
      "[22]\ttrain-rmse:3.2446\teval-rmse:3.26487\ttrain-rmspe:27.3301\teval-rmspe:27.9414\n",
      "[23]\ttrain-rmse:3.11601\teval-rmse:3.13561\ttrain-rmspe:23.8578\teval-rmspe:24.3785\n",
      "[24]\ttrain-rmse:2.99259\teval-rmse:3.01127\ttrain-rmspe:20.9294\teval-rmspe:21.3723\n",
      "[25]\ttrain-rmse:2.87417\teval-rmse:2.89291\ttrain-rmspe:18.4432\teval-rmspe:18.8387\n",
      "[26]\ttrain-rmse:2.76053\teval-rmse:2.77861\ttrain-rmspe:16.3259\teval-rmspe:16.6705\n",
      "[27]\ttrain-rmse:2.65143\teval-rmse:2.66856\ttrain-rmspe:14.5042\teval-rmspe:14.796\n",
      "[28]\ttrain-rmse:2.54662\teval-rmse:2.56339\ttrain-rmspe:12.9264\teval-rmspe:13.1837\n",
      "[29]\ttrain-rmse:2.44611\teval-rmse:2.46214\ttrain-rmspe:11.5707\teval-rmspe:11.7927\n",
      "[30]\ttrain-rmse:2.34976\teval-rmse:2.36617\ttrain-rmspe:10.4011\teval-rmspe:10.6104\n",
      "[31]\ttrain-rmse:2.25718\teval-rmse:2.27302\ttrain-rmspe:9.37272\teval-rmspe:9.55717\n",
      "[32]\ttrain-rmse:2.16842\teval-rmse:2.18372\ttrain-rmspe:8.47696\teval-rmspe:8.64048\n",
      "[33]\ttrain-rmse:2.08332\teval-rmse:2.09799\ttrain-rmspe:7.69366\teval-rmspe:7.8368\n",
      "[34]\ttrain-rmse:2.00161\teval-rmse:2.01619\ttrain-rmspe:6.99913\teval-rmspe:7.13111\n",
      "[35]\ttrain-rmse:1.92323\teval-rmse:1.93718\ttrain-rmspe:6.38676\teval-rmspe:6.50489\n",
      "[36]\ttrain-rmse:1.84794\teval-rmse:1.86169\ttrain-rmspe:5.84009\teval-rmspe:5.94864\n",
      "[37]\ttrain-rmse:1.77586\teval-rmse:1.7892\ttrain-rmspe:5.35734\teval-rmspe:5.45501\n",
      "[38]\ttrain-rmse:1.70671\teval-rmse:1.7192\ttrain-rmspe:4.92619\teval-rmspe:5.01126\n",
      "[39]\ttrain-rmse:1.64037\teval-rmse:1.6522\ttrain-rmspe:4.53963\teval-rmspe:4.61447\n",
      "[40]\ttrain-rmse:1.57672\teval-rmse:1.58837\ttrain-rmspe:4.192\teval-rmspe:4.26137\n",
      "[41]\ttrain-rmse:1.51574\teval-rmse:1.52686\ttrain-rmspe:3.88001\teval-rmspe:3.94243\n",
      "[42]\ttrain-rmse:1.45718\teval-rmse:1.46786\ttrain-rmspe:3.59733\teval-rmspe:3.6551\n",
      "[43]\ttrain-rmse:1.40112\teval-rmse:1.41093\ttrain-rmspe:3.34253\teval-rmspe:3.39405\n",
      "[44]\ttrain-rmse:1.34734\teval-rmse:1.35695\ttrain-rmspe:3.11146\teval-rmspe:3.1595\n",
      "[45]\ttrain-rmse:1.29575\teval-rmse:1.3047\ttrain-rmspe:2.90102\teval-rmspe:2.94402\n",
      "[46]\ttrain-rmse:1.24637\teval-rmse:1.25481\ttrain-rmspe:2.71009\teval-rmspe:2.74961\n",
      "[47]\ttrain-rmse:1.19899\teval-rmse:1.20712\ttrain-rmspe:2.53512\teval-rmspe:2.5718\n",
      "[48]\ttrain-rmse:1.15307\teval-rmse:1.16123\ttrain-rmspe:2.36966\teval-rmspe:2.40527\n",
      "[49]\ttrain-rmse:1.10953\teval-rmse:1.11723\ttrain-rmspe:2.22336\teval-rmspe:2.25653\n",
      "[50]\ttrain-rmse:1.06776\teval-rmse:1.07563\ttrain-rmspe:2.08847\teval-rmspe:2.12096\n",
      "[51]\ttrain-rmse:1.02788\teval-rmse:1.03593\ttrain-rmspe:1.96547\teval-rmspe:1.99729\n",
      "[52]\ttrain-rmse:0.989703\teval-rmse:0.997733\ttrain-rmspe:1.85238\teval-rmspe:1.88313\n",
      "[53]\ttrain-rmse:0.953213\teval-rmse:0.961079\ttrain-rmspe:1.74843\teval-rmspe:1.77794\n",
      "[54]\ttrain-rmse:0.918046\teval-rmse:0.925912\ttrain-rmspe:1.65082\teval-rmspe:1.67907\n",
      "[55]\ttrain-rmse:0.884373\teval-rmse:0.891868\ttrain-rmspe:1.56056\teval-rmspe:1.58677\n",
      "[56]\ttrain-rmse:0.852349\teval-rmse:0.859661\ttrain-rmspe:1.47817\teval-rmspe:1.50322\n",
      "[57]\ttrain-rmse:0.821579\teval-rmse:0.828427\ttrain-rmspe:1.40104\teval-rmspe:1.42458\n",
      "[58]\ttrain-rmse:0.792073\teval-rmse:0.798685\ttrain-rmspe:1.32912\teval-rmspe:1.35148\n",
      "[59]\ttrain-rmse:0.763903\teval-rmse:0.770542\ttrain-rmspe:1.26259\teval-rmspe:1.28443\n",
      "[60]\ttrain-rmse:0.737055\teval-rmse:0.743704\ttrain-rmspe:1.20094\teval-rmspe:1.2222\n",
      "[61]\ttrain-rmse:0.711432\teval-rmse:0.717312\ttrain-rmspe:1.14362\teval-rmspe:1.16286\n",
      "[62]\ttrain-rmse:0.686901\teval-rmse:0.692557\ttrain-rmspe:1.09\teval-rmspe:1.10821\n",
      "[63]\ttrain-rmse:0.663247\teval-rmse:0.668848\ttrain-rmspe:1.03915\teval-rmspe:1.05678\n",
      "[64]\ttrain-rmse:0.640969\teval-rmse:0.64666\ttrain-rmspe:0.992783\teval-rmspe:1.0104\n",
      "[65]\ttrain-rmse:0.619431\teval-rmse:0.624925\ttrain-rmspe:0.948515\teval-rmspe:0.965389\n",
      "[66]\ttrain-rmse:0.598603\teval-rmse:0.604095\ttrain-rmspe:0.905848\teval-rmspe:0.922539\n",
      "[67]\ttrain-rmse:0.579036\teval-rmse:0.584613\ttrain-rmspe:0.867311\teval-rmspe:0.883854\n",
      "[68]\ttrain-rmse:0.560488\teval-rmse:0.566141\ttrain-rmspe:0.831495\teval-rmspe:0.847983\n",
      "[69]\ttrain-rmse:0.542661\teval-rmse:0.548387\ttrain-rmspe:0.797498\teval-rmspe:0.813999\n",
      "[70]\ttrain-rmse:0.525505\teval-rmse:0.5312\ttrain-rmspe:0.765036\teval-rmspe:0.781212\n",
      "[71]\ttrain-rmse:0.509115\teval-rmse:0.514984\ttrain-rmspe:0.734619\teval-rmspe:0.750917\n",
      "[72]\ttrain-rmse:0.493888\teval-rmse:0.499727\ttrain-rmspe:0.706994\teval-rmspe:0.722923\n",
      "[73]\ttrain-rmse:0.479448\teval-rmse:0.484844\ttrain-rmspe:0.681154\teval-rmspe:0.696143\n",
      "[74]\ttrain-rmse:0.465312\teval-rmse:0.470831\ttrain-rmspe:0.655921\teval-rmspe:0.670878\n",
      "[75]\ttrain-rmse:0.452085\teval-rmse:0.457215\ttrain-rmspe:0.632693\teval-rmspe:0.646714\n",
      "[76]\ttrain-rmse:0.439452\teval-rmse:0.444563\ttrain-rmspe:0.610697\teval-rmspe:0.624432\n",
      "[77]\ttrain-rmse:0.427407\teval-rmse:0.432527\ttrain-rmspe:0.589839\teval-rmspe:0.603316\n",
      "[78]\ttrain-rmse:0.416195\teval-rmse:0.421248\ttrain-rmspe:0.570702\teval-rmspe:0.583886\n",
      "[79]\ttrain-rmse:0.405362\teval-rmse:0.410592\ttrain-rmspe:0.5523\teval-rmspe:0.565651\n",
      "[80]\ttrain-rmse:0.394935\teval-rmse:0.400071\ttrain-rmspe:0.534549\teval-rmspe:0.547485\n",
      "[81]\ttrain-rmse:0.385046\teval-rmse:0.390317\ttrain-rmspe:0.517936\teval-rmspe:0.530916\n",
      "[82]\ttrain-rmse:0.375301\teval-rmse:0.380709\ttrain-rmspe:0.501416\teval-rmspe:0.514489\n",
      "[83]\ttrain-rmse:0.365912\teval-rmse:0.371457\ttrain-rmspe:0.485481\teval-rmspe:0.498694\n",
      "[84]\ttrain-rmse:0.357878\teval-rmse:0.363417\ttrain-rmspe:0.472244\teval-rmspe:0.485228\n",
      "[85]\ttrain-rmse:0.350011\teval-rmse:0.355717\ttrain-rmspe:0.459303\teval-rmspe:0.472374\n",
      "[86]\ttrain-rmse:0.342392\teval-rmse:0.348\ttrain-rmspe:0.446798\teval-rmspe:0.459543\n",
      "[87]\ttrain-rmse:0.335695\teval-rmse:0.341256\ttrain-rmspe:0.435829\teval-rmspe:0.448277\n",
      "[88]\ttrain-rmse:0.328857\teval-rmse:0.334736\ttrain-rmspe:0.424606\teval-rmspe:0.437418\n",
      "[89]\ttrain-rmse:0.322687\teval-rmse:0.328776\ttrain-rmspe:0.414497\teval-rmspe:0.427474\n",
      "[90]\ttrain-rmse:0.316867\teval-rmse:0.32309\ttrain-rmspe:0.404927\teval-rmspe:0.417889\n",
      "[91]\ttrain-rmse:0.310868\teval-rmse:0.31723\ttrain-rmspe:0.395087\teval-rmspe:0.408072\n",
      "[92]\ttrain-rmse:0.305701\teval-rmse:0.312282\ttrain-rmspe:0.386592\teval-rmspe:0.399729\n",
      "[93]\ttrain-rmse:0.300397\teval-rmse:0.307057\ttrain-rmspe:0.377869\teval-rmspe:0.390979\n",
      "[94]\ttrain-rmse:0.295677\teval-rmse:0.302123\ttrain-rmspe:0.370098\teval-rmspe:0.382679\n",
      "[95]\ttrain-rmse:0.291516\teval-rmse:0.298244\ttrain-rmspe:0.363153\teval-rmspe:0.37601\n",
      "[96]\ttrain-rmse:0.287133\teval-rmse:0.294077\ttrain-rmspe:0.355906\teval-rmspe:0.368977\n",
      "[97]\ttrain-rmse:0.28172\teval-rmse:0.288815\ttrain-rmspe:0.347061\teval-rmspe:0.360218\n"
     ]
    },
    {
     "name": "stdout",
     "output_type": "stream",
     "text": [
      "[98]\ttrain-rmse:0.278056\teval-rmse:0.285009\ttrain-rmspe:0.340937\teval-rmspe:0.353678\n",
      "[99]\ttrain-rmse:0.274209\teval-rmse:0.281205\ttrain-rmspe:0.334598\teval-rmspe:0.347205\n",
      "[100]\ttrain-rmse:0.270921\teval-rmse:0.278009\ttrain-rmspe:0.32901\teval-rmspe:0.341593\n",
      "[101]\ttrain-rmse:0.267943\teval-rmse:0.275083\ttrain-rmspe:0.323924\teval-rmspe:0.336368\n",
      "[102]\ttrain-rmse:0.264851\teval-rmse:0.272188\ttrain-rmspe:0.318703\teval-rmspe:0.33131\n",
      "[103]\ttrain-rmse:0.262146\teval-rmse:0.269688\ttrain-rmspe:0.314051\teval-rmspe:0.326867\n",
      "[104]\ttrain-rmse:0.259071\teval-rmse:0.266944\ttrain-rmspe:0.308964\teval-rmspe:0.32208\n",
      "[105]\ttrain-rmse:0.256839\teval-rmse:0.264775\ttrain-rmspe:0.305042\teval-rmspe:0.318072\n",
      "[106]\ttrain-rmse:0.254514\teval-rmse:0.262628\ttrain-rmspe:0.300883\teval-rmspe:0.314043\n",
      "[107]\ttrain-rmse:0.252411\teval-rmse:0.26073\ttrain-rmspe:0.297168\teval-rmspe:0.31053\n",
      "[108]\ttrain-rmse:0.250214\teval-rmse:0.258707\ttrain-rmspe:0.293367\teval-rmspe:0.306846\n",
      "[109]\ttrain-rmse:0.247935\teval-rmse:0.256467\ttrain-rmspe:0.289447\teval-rmspe:0.302893\n",
      "[110]\ttrain-rmse:0.245348\teval-rmse:0.254056\ttrain-rmspe:0.285189\teval-rmspe:0.298849\n",
      "[111]\ttrain-rmse:0.243659\teval-rmse:0.252427\ttrain-rmspe:0.282155\teval-rmspe:0.295807\n",
      "[112]\ttrain-rmse:0.242203\teval-rmse:0.251143\ttrain-rmspe:0.279437\teval-rmspe:0.293213\n",
      "[113]\ttrain-rmse:0.239653\teval-rmse:0.248696\ttrain-rmspe:0.275302\teval-rmspe:0.289168\n",
      "[114]\ttrain-rmse:0.238412\teval-rmse:0.247517\ttrain-rmspe:0.272955\teval-rmspe:0.28678\n",
      "[115]\ttrain-rmse:0.236694\teval-rmse:0.245997\ttrain-rmspe:0.270038\teval-rmspe:0.284052\n",
      "[116]\ttrain-rmse:0.233206\teval-rmse:0.242655\ttrain-rmspe:0.264672\teval-rmspe:0.278964\n",
      "[117]\ttrain-rmse:0.232104\teval-rmse:0.241551\ttrain-rmspe:0.262569\teval-rmspe:0.27668\n",
      "[118]\ttrain-rmse:0.231093\teval-rmse:0.240732\ttrain-rmspe:0.260603\teval-rmspe:0.274787\n",
      "[119]\ttrain-rmse:0.229879\teval-rmse:0.239537\ttrain-rmspe:0.258393\teval-rmspe:0.272523\n",
      "[120]\ttrain-rmse:0.228715\teval-rmse:0.238457\ttrain-rmspe:0.256322\teval-rmspe:0.270334\n",
      "[121]\ttrain-rmse:0.225459\teval-rmse:0.235318\ttrain-rmspe:0.25163\teval-rmspe:0.265782\n",
      "[122]\ttrain-rmse:0.224332\teval-rmse:0.234268\ttrain-rmspe:0.249654\teval-rmspe:0.263868\n",
      "[123]\ttrain-rmse:0.223503\teval-rmse:0.233608\ttrain-rmspe:0.248043\teval-rmspe:0.26239\n",
      "[124]\ttrain-rmse:0.221196\teval-rmse:0.231315\ttrain-rmspe:0.244719\teval-rmspe:0.259045\n",
      "[125]\ttrain-rmse:0.219078\teval-rmse:0.229289\ttrain-rmspe:0.241539\teval-rmspe:0.255915\n",
      "[126]\ttrain-rmse:0.216864\teval-rmse:0.227142\ttrain-rmspe:0.238255\teval-rmspe:0.252748\n",
      "[127]\ttrain-rmse:0.21615\teval-rmse:0.226471\ttrain-rmspe:0.236912\teval-rmspe:0.251372\n",
      "[128]\ttrain-rmse:0.215191\teval-rmse:0.225592\ttrain-rmspe:0.235307\teval-rmspe:0.249792\n",
      "[129]\ttrain-rmse:0.214028\teval-rmse:0.224576\ttrain-rmspe:0.233384\teval-rmspe:0.248011\n",
      "[130]\ttrain-rmse:0.213401\teval-rmse:0.224087\ttrain-rmspe:0.232178\teval-rmspe:0.246954\n",
      "[131]\ttrain-rmse:0.210912\teval-rmse:0.221713\ttrain-rmspe:0.228896\teval-rmspe:0.243801\n",
      "[132]\ttrain-rmse:0.210404\teval-rmse:0.221407\ttrain-rmspe:0.227864\teval-rmspe:0.242899\n",
      "[133]\ttrain-rmse:0.209842\teval-rmse:0.22107\ttrain-rmspe:0.226807\teval-rmspe:0.242037\n",
      "[134]\ttrain-rmse:0.20859\teval-rmse:0.219834\ttrain-rmspe:0.224828\teval-rmspe:0.240052\n",
      "[135]\ttrain-rmse:0.207794\teval-rmse:0.219083\ttrain-rmspe:0.223536\teval-rmspe:0.23877\n",
      "[136]\ttrain-rmse:0.206344\teval-rmse:0.217929\ttrain-rmspe:0.221466\teval-rmspe:0.237027\n",
      "[137]\ttrain-rmse:0.205701\teval-rmse:0.217416\ttrain-rmspe:0.220367\teval-rmspe:0.236064\n",
      "[138]\ttrain-rmse:0.205367\teval-rmse:0.217078\ttrain-rmspe:0.219639\teval-rmspe:0.235235\n",
      "[139]\ttrain-rmse:0.205039\teval-rmse:0.216777\ttrain-rmspe:0.218951\teval-rmspe:0.234546\n",
      "[140]\ttrain-rmse:0.204304\teval-rmse:0.216081\ttrain-rmspe:0.217842\teval-rmspe:0.23346\n",
      "[141]\ttrain-rmse:0.20342\teval-rmse:0.215323\ttrain-rmspe:0.216523\teval-rmspe:0.232193\n",
      "[142]\ttrain-rmse:0.202689\teval-rmse:0.214618\ttrain-rmspe:0.215365\teval-rmspe:0.231103\n",
      "[143]\ttrain-rmse:0.202207\teval-rmse:0.214191\ttrain-rmspe:0.214554\teval-rmspe:0.23033\n",
      "[144]\ttrain-rmse:0.201684\teval-rmse:0.213965\ttrain-rmspe:0.213701\teval-rmspe:0.229624\n",
      "[145]\ttrain-rmse:0.200696\teval-rmse:0.213204\ttrain-rmspe:0.212335\teval-rmspe:0.228466\n",
      "[146]\ttrain-rmse:0.200359\teval-rmse:0.212851\ttrain-rmspe:0.211707\teval-rmspe:0.227766\n",
      "[147]\ttrain-rmse:0.199742\teval-rmse:0.212271\ttrain-rmspe:0.210801\teval-rmspe:0.226876\n",
      "[148]\ttrain-rmse:0.19916\teval-rmse:0.211751\ttrain-rmspe:0.209919\teval-rmspe:0.225982\n",
      "[149]\ttrain-rmse:0.198598\teval-rmse:0.211316\ttrain-rmspe:0.209058\teval-rmspe:0.22524\n",
      "[150]\ttrain-rmse:0.197642\teval-rmse:0.210426\ttrain-rmspe:0.207732\teval-rmspe:0.223957\n",
      "[151]\ttrain-rmse:0.197325\teval-rmse:0.210122\ttrain-rmspe:0.207192\teval-rmspe:0.223411\n",
      "[152]\ttrain-rmse:0.196787\teval-rmse:0.209731\ttrain-rmspe:0.206407\teval-rmspe:0.222805\n",
      "[153]\ttrain-rmse:0.196638\teval-rmse:0.209574\ttrain-rmspe:0.206055\teval-rmspe:0.222395\n",
      "[154]\ttrain-rmse:0.194872\teval-rmse:0.207986\ttrain-rmspe:0.203783\teval-rmspe:0.220428\n",
      "[155]\ttrain-rmse:0.194468\teval-rmse:0.207598\ttrain-rmspe:0.203189\teval-rmspe:0.219828\n",
      "[156]\ttrain-rmse:0.194144\teval-rmse:0.207491\ttrain-rmspe:0.202674\teval-rmspe:0.219498\n",
      "[157]\ttrain-rmse:0.193543\teval-rmse:0.206884\ttrain-rmspe:0.20187\teval-rmspe:0.21861\n",
      "[158]\ttrain-rmse:0.193242\teval-rmse:0.206663\ttrain-rmspe:0.201409\teval-rmspe:0.218229\n",
      "[159]\ttrain-rmse:0.192923\teval-rmse:0.206357\ttrain-rmspe:0.200931\teval-rmspe:0.217749\n",
      "[160]\ttrain-rmse:0.192575\teval-rmse:0.20604\ttrain-rmspe:0.200413\teval-rmspe:0.217241\n",
      "[161]\ttrain-rmse:0.191425\teval-rmse:0.204952\ttrain-rmspe:0.199024\teval-rmspe:0.2159\n",
      "[162]\ttrain-rmse:0.191045\teval-rmse:0.204601\ttrain-rmspe:0.198512\teval-rmspe:0.2154\n",
      "[163]\ttrain-rmse:0.189434\teval-rmse:0.203086\ttrain-rmspe:0.19664\teval-rmspe:0.213709\n",
      "[164]\ttrain-rmse:0.189068\teval-rmse:0.202743\ttrain-rmspe:0.196135\teval-rmspe:0.213179\n",
      "[165]\ttrain-rmse:0.188783\teval-rmse:0.202469\ttrain-rmspe:0.195701\teval-rmspe:0.212743\n",
      "[166]\ttrain-rmse:0.188552\teval-rmse:0.202378\ttrain-rmspe:0.195352\teval-rmspe:0.212518\n",
      "[167]\ttrain-rmse:0.187788\teval-rmse:0.20167\ttrain-rmspe:0.194417\teval-rmspe:0.211668\n",
      "[168]\ttrain-rmse:0.187412\teval-rmse:0.201342\ttrain-rmspe:0.193949\teval-rmspe:0.211226\n",
      "[169]\ttrain-rmse:0.186325\teval-rmse:0.200375\ttrain-rmspe:0.192641\teval-rmspe:0.210089\n",
      "[170]\ttrain-rmse:0.185988\teval-rmse:0.200279\ttrain-rmspe:0.192162\teval-rmspe:0.209786\n",
      "[171]\ttrain-rmse:0.185247\teval-rmse:0.199582\ttrain-rmspe:0.191251\teval-rmspe:0.208952\n",
      "[172]\ttrain-rmse:0.184776\teval-rmse:0.199149\ttrain-rmspe:0.190632\teval-rmspe:0.208359\n",
      "[173]\ttrain-rmse:0.184056\teval-rmse:0.198506\ttrain-rmspe:0.189757\teval-rmspe:0.207595\n",
      "[174]\ttrain-rmse:0.18345\teval-rmse:0.198057\ttrain-rmspe:0.189044\teval-rmspe:0.207064\n",
      "[175]\ttrain-rmse:0.183091\teval-rmse:0.197669\ttrain-rmspe:0.188579\teval-rmspe:0.206522\n",
      "[176]\ttrain-rmse:0.182476\teval-rmse:0.197073\ttrain-rmspe:0.187827\teval-rmspe:0.205812\n",
      "[177]\ttrain-rmse:0.182294\teval-rmse:0.196907\ttrain-rmspe:0.187576\teval-rmspe:0.205568\n",
      "[178]\ttrain-rmse:0.182016\teval-rmse:0.196572\ttrain-rmspe:0.187205\teval-rmspe:0.205087\n",
      "[179]\ttrain-rmse:0.181858\teval-rmse:0.196442\ttrain-rmspe:0.186988\teval-rmspe:0.2049\n",
      "[180]\ttrain-rmse:0.181581\teval-rmse:0.19618\ttrain-rmspe:0.186628\teval-rmspe:0.204543\n",
      "[181]\ttrain-rmse:0.180516\teval-rmse:0.195166\ttrain-rmspe:0.185397\teval-rmspe:0.203405\n",
      "[182]\ttrain-rmse:0.180296\teval-rmse:0.195085\ttrain-rmspe:0.185111\teval-rmspe:0.203296\n",
      "[183]\ttrain-rmse:0.179169\teval-rmse:0.194008\ttrain-rmspe:0.183778\teval-rmspe:0.202101\n",
      "[184]\ttrain-rmse:0.179009\teval-rmse:0.19403\ttrain-rmspe:0.183559\teval-rmspe:0.202059\n",
      "[185]\ttrain-rmse:0.177543\teval-rmse:0.192718\ttrain-rmspe:0.181895\teval-rmspe:0.200705\n",
      "[186]\ttrain-rmse:0.177384\teval-rmse:0.192651\ttrain-rmspe:0.181672\teval-rmspe:0.200485\n",
      "[187]\ttrain-rmse:0.17727\teval-rmse:0.192554\ttrain-rmspe:0.181509\teval-rmspe:0.200338\n",
      "[188]\ttrain-rmse:0.177166\teval-rmse:0.192458\ttrain-rmspe:0.18136\teval-rmspe:0.200191\n",
      "[189]\ttrain-rmse:0.176608\teval-rmse:0.191983\ttrain-rmspe:0.180699\teval-rmspe:0.199643\n",
      "[190]\ttrain-rmse:0.176133\teval-rmse:0.19152\ttrain-rmspe:0.180127\teval-rmspe:0.199092\n",
      "[191]\ttrain-rmse:0.175515\teval-rmse:0.190948\ttrain-rmspe:0.17943\teval-rmspe:0.198472\n",
      "[192]\ttrain-rmse:0.174933\teval-rmse:0.190456\ttrain-rmspe:0.178721\teval-rmspe:0.197877\n",
      "[193]\ttrain-rmse:0.174148\teval-rmse:0.189827\ttrain-rmspe:0.177838\teval-rmspe:0.197164\n"
     ]
    },
    {
     "name": "stdout",
     "output_type": "stream",
     "text": [
      "[194]\ttrain-rmse:0.173065\teval-rmse:0.188906\ttrain-rmspe:0.176683\teval-rmspe:0.196192\n",
      "[195]\ttrain-rmse:0.17239\teval-rmse:0.188276\ttrain-rmspe:0.175895\teval-rmspe:0.195536\n",
      "[196]\ttrain-rmse:0.172178\teval-rmse:0.188186\ttrain-rmspe:0.175636\teval-rmspe:0.195356\n",
      "[197]\ttrain-rmse:0.171468\teval-rmse:0.187549\ttrain-rmspe:0.174876\teval-rmspe:0.194677\n",
      "[198]\ttrain-rmse:0.170983\teval-rmse:0.187181\ttrain-rmspe:0.174328\teval-rmspe:0.194285\n",
      "[199]\ttrain-rmse:0.170798\teval-rmse:0.187101\ttrain-rmspe:0.174107\teval-rmspe:0.19411\n",
      "[200]\ttrain-rmse:0.170649\teval-rmse:0.187037\ttrain-rmspe:0.173925\teval-rmspe:0.194001\n",
      "[201]\ttrain-rmse:0.169633\teval-rmse:0.186132\ttrain-rmspe:0.17268\teval-rmspe:0.193012\n",
      "[202]\ttrain-rmse:0.169096\teval-rmse:0.185573\ttrain-rmspe:0.1721\teval-rmspe:0.192424\n",
      "[203]\ttrain-rmse:0.168983\teval-rmse:0.185472\ttrain-rmspe:0.171966\teval-rmspe:0.192298\n",
      "[204]\ttrain-rmse:0.168402\teval-rmse:0.184966\ttrain-rmspe:0.17134\teval-rmspe:0.191783\n",
      "[205]\ttrain-rmse:0.168275\teval-rmse:0.184874\ttrain-rmspe:0.171182\teval-rmspe:0.191625\n",
      "[206]\ttrain-rmse:0.167061\teval-rmse:0.183767\ttrain-rmspe:0.169854\teval-rmspe:0.190504\n",
      "[207]\ttrain-rmse:0.166247\teval-rmse:0.183078\ttrain-rmspe:0.168987\teval-rmspe:0.189772\n",
      "[208]\ttrain-rmse:0.166111\teval-rmse:0.182955\ttrain-rmspe:0.168833\teval-rmspe:0.189619\n",
      "[209]\ttrain-rmse:0.165375\teval-rmse:0.182281\ttrain-rmspe:0.168056\teval-rmspe:0.188951\n",
      "[210]\ttrain-rmse:0.165309\teval-rmse:0.182208\ttrain-rmspe:0.167974\teval-rmspe:0.188855\n",
      "[211]\ttrain-rmse:0.164566\teval-rmse:0.181625\ttrain-rmspe:0.167106\teval-rmspe:0.18824\n",
      "[212]\ttrain-rmse:0.164159\teval-rmse:0.181306\ttrain-rmspe:0.166656\teval-rmspe:0.187889\n",
      "[213]\ttrain-rmse:0.163704\teval-rmse:0.180927\ttrain-rmspe:0.166129\teval-rmspe:0.187479\n",
      "[214]\ttrain-rmse:0.163316\teval-rmse:0.180613\ttrain-rmspe:0.165694\teval-rmspe:0.187137\n",
      "[215]\ttrain-rmse:0.162645\teval-rmse:0.179963\ttrain-rmspe:0.164921\teval-rmspe:0.186433\n",
      "[216]\ttrain-rmse:0.162011\teval-rmse:0.179339\ttrain-rmspe:0.164255\teval-rmspe:0.185782\n",
      "[217]\ttrain-rmse:0.161516\teval-rmse:0.178944\ttrain-rmspe:0.16372\teval-rmspe:0.18534\n",
      "[218]\ttrain-rmse:0.161257\teval-rmse:0.178795\ttrain-rmspe:0.163432\teval-rmspe:0.185207\n",
      "[219]\ttrain-rmse:0.160749\teval-rmse:0.178442\ttrain-rmspe:0.162846\teval-rmspe:0.184821\n",
      "[220]\ttrain-rmse:0.160096\teval-rmse:0.17791\ttrain-rmspe:0.162165\teval-rmspe:0.184276\n",
      "[221]\ttrain-rmse:0.159808\teval-rmse:0.177655\ttrain-rmspe:0.161828\teval-rmspe:0.183984\n",
      "[222]\ttrain-rmse:0.159282\teval-rmse:0.177189\ttrain-rmspe:0.161247\teval-rmspe:0.183487\n",
      "[223]\ttrain-rmse:0.159017\teval-rmse:0.176967\ttrain-rmspe:0.16092\teval-rmspe:0.183272\n",
      "[224]\ttrain-rmse:0.158609\teval-rmse:0.176634\ttrain-rmspe:0.160462\teval-rmspe:0.182913\n",
      "[225]\ttrain-rmse:0.158539\teval-rmse:0.176568\ttrain-rmspe:0.160382\teval-rmspe:0.182843\n",
      "[226]\ttrain-rmse:0.158452\teval-rmse:0.176486\ttrain-rmspe:0.160288\teval-rmspe:0.182756\n",
      "[227]\ttrain-rmse:0.157611\teval-rmse:0.175725\ttrain-rmspe:0.159356\teval-rmspe:0.18199\n",
      "[228]\ttrain-rmse:0.157107\teval-rmse:0.1753\ttrain-rmspe:0.158805\teval-rmspe:0.181538\n",
      "[229]\ttrain-rmse:0.156946\teval-rmse:0.175229\ttrain-rmspe:0.158626\teval-rmspe:0.181351\n",
      "[230]\ttrain-rmse:0.156802\teval-rmse:0.175172\ttrain-rmspe:0.158474\teval-rmspe:0.1813\n",
      "[231]\ttrain-rmse:0.156644\teval-rmse:0.174979\ttrain-rmspe:0.158304\teval-rmspe:0.181062\n",
      "[232]\ttrain-rmse:0.15653\teval-rmse:0.174815\ttrain-rmspe:0.158181\teval-rmspe:0.180877\n",
      "[233]\ttrain-rmse:0.156334\teval-rmse:0.174676\ttrain-rmspe:0.157977\teval-rmspe:0.18073\n",
      "[234]\ttrain-rmse:0.156197\teval-rmse:0.174581\ttrain-rmspe:0.157831\teval-rmspe:0.180623\n",
      "[235]\ttrain-rmse:0.155624\teval-rmse:0.174116\ttrain-rmspe:0.15721\teval-rmspe:0.180152\n",
      "[236]\ttrain-rmse:0.154963\teval-rmse:0.173509\ttrain-rmspe:0.15652\teval-rmspe:0.179527\n",
      "[237]\ttrain-rmse:0.15465\teval-rmse:0.173227\ttrain-rmspe:0.156195\teval-rmspe:0.179229\n",
      "[238]\ttrain-rmse:0.154598\teval-rmse:0.173172\ttrain-rmspe:0.156139\teval-rmspe:0.179159\n",
      "[239]\ttrain-rmse:0.153887\teval-rmse:0.172539\ttrain-rmspe:0.155345\teval-rmspe:0.178498\n",
      "[240]\ttrain-rmse:0.153735\teval-rmse:0.172404\ttrain-rmspe:0.155189\teval-rmspe:0.178359\n",
      "[241]\ttrain-rmse:0.153405\teval-rmse:0.172123\ttrain-rmspe:0.154815\teval-rmspe:0.178058\n",
      "[242]\ttrain-rmse:0.153104\teval-rmse:0.171862\ttrain-rmspe:0.154511\teval-rmspe:0.177803\n",
      "[243]\ttrain-rmse:0.152647\teval-rmse:0.171525\ttrain-rmspe:0.153994\teval-rmspe:0.177444\n",
      "[244]\ttrain-rmse:0.151901\teval-rmse:0.170868\ttrain-rmspe:0.153232\teval-rmspe:0.176801\n",
      "[245]\ttrain-rmse:0.151301\teval-rmse:0.170331\ttrain-rmspe:0.152602\teval-rmspe:0.176238\n",
      "[246]\ttrain-rmse:0.151176\teval-rmse:0.170231\ttrain-rmspe:0.152461\teval-rmspe:0.176126\n",
      "[247]\ttrain-rmse:0.150661\teval-rmse:0.169839\ttrain-rmspe:0.151893\teval-rmspe:0.175723\n",
      "[248]\ttrain-rmse:0.150609\teval-rmse:0.169787\ttrain-rmspe:0.151837\teval-rmspe:0.175666\n",
      "[249]\ttrain-rmse:0.150385\teval-rmse:0.169575\ttrain-rmspe:0.151605\teval-rmspe:0.175436\n",
      "[250]\ttrain-rmse:0.150225\teval-rmse:0.169511\ttrain-rmspe:0.151455\teval-rmspe:0.175367\n",
      "[251]\ttrain-rmse:0.150102\teval-rmse:0.169417\ttrain-rmspe:0.151318\teval-rmspe:0.175261\n",
      "[252]\ttrain-rmse:0.149778\teval-rmse:0.169175\ttrain-rmspe:0.150988\teval-rmspe:0.175026\n",
      "[253]\ttrain-rmse:0.149699\teval-rmse:0.169104\ttrain-rmspe:0.150904\teval-rmspe:0.17495\n",
      "[254]\ttrain-rmse:0.149411\teval-rmse:0.168865\ttrain-rmspe:0.150576\teval-rmspe:0.174695\n",
      "[255]\ttrain-rmse:0.148891\teval-rmse:0.168487\ttrain-rmspe:0.150012\teval-rmspe:0.174302\n",
      "[256]\ttrain-rmse:0.148596\teval-rmse:0.168266\ttrain-rmspe:0.149683\teval-rmspe:0.174059\n",
      "[257]\ttrain-rmse:0.147941\teval-rmse:0.16772\ttrain-rmspe:0.149023\teval-rmspe:0.173529\n",
      "[258]\ttrain-rmse:0.147678\teval-rmse:0.167519\ttrain-rmspe:0.148735\teval-rmspe:0.173315\n",
      "[259]\ttrain-rmse:0.147301\teval-rmse:0.167257\ttrain-rmspe:0.148328\teval-rmspe:0.173062\n",
      "[260]\ttrain-rmse:0.147142\teval-rmse:0.167162\ttrain-rmspe:0.148158\teval-rmspe:0.172971\n",
      "[261]\ttrain-rmse:0.14696\teval-rmse:0.167036\ttrain-rmspe:0.147969\teval-rmspe:0.172845\n",
      "[262]\ttrain-rmse:0.14659\teval-rmse:0.166747\ttrain-rmspe:0.14757\teval-rmspe:0.172542\n",
      "[263]\ttrain-rmse:0.146477\teval-rmse:0.166645\ttrain-rmspe:0.147455\teval-rmspe:0.172439\n",
      "[264]\ttrain-rmse:0.146113\teval-rmse:0.166313\ttrain-rmspe:0.147095\teval-rmspe:0.172124\n",
      "[265]\ttrain-rmse:0.145963\teval-rmse:0.166229\ttrain-rmspe:0.146952\teval-rmspe:0.172014\n",
      "[266]\ttrain-rmse:0.145611\teval-rmse:0.16582\ttrain-rmspe:0.146584\teval-rmspe:0.171603\n",
      "[267]\ttrain-rmse:0.145101\teval-rmse:0.165358\ttrain-rmspe:0.146068\teval-rmspe:0.171175\n",
      "[268]\ttrain-rmse:0.144831\teval-rmse:0.165186\ttrain-rmspe:0.145813\teval-rmspe:0.171023\n",
      "[269]\ttrain-rmse:0.144767\teval-rmse:0.165125\ttrain-rmspe:0.145748\teval-rmspe:0.170957\n",
      "[270]\ttrain-rmse:0.144428\teval-rmse:0.164845\ttrain-rmspe:0.145374\teval-rmspe:0.170665\n",
      "[271]\ttrain-rmse:0.143889\teval-rmse:0.164333\ttrain-rmspe:0.144816\teval-rmspe:0.170168\n",
      "[272]\ttrain-rmse:0.143745\teval-rmse:0.164259\ttrain-rmspe:0.144675\teval-rmspe:0.170091\n",
      "[273]\ttrain-rmse:0.1437\teval-rmse:0.164229\ttrain-rmspe:0.144629\teval-rmspe:0.170055\n",
      "[274]\ttrain-rmse:0.143532\teval-rmse:0.164083\ttrain-rmspe:0.144448\teval-rmspe:0.169907\n",
      "[275]\ttrain-rmse:0.143466\teval-rmse:0.16401\ttrain-rmspe:0.144378\teval-rmspe:0.169825\n",
      "[276]\ttrain-rmse:0.143161\teval-rmse:0.163736\ttrain-rmspe:0.144043\teval-rmspe:0.169545\n",
      "[277]\ttrain-rmse:0.143018\teval-rmse:0.16366\ttrain-rmspe:0.143893\teval-rmspe:0.169485\n",
      "[278]\ttrain-rmse:0.142922\teval-rmse:0.16359\ttrain-rmspe:0.143794\teval-rmspe:0.16941\n",
      "[279]\ttrain-rmse:0.14258\teval-rmse:0.163298\ttrain-rmspe:0.143425\teval-rmspe:0.169102\n",
      "[280]\ttrain-rmse:0.142431\teval-rmse:0.163262\ttrain-rmspe:0.143265\teval-rmspe:0.169078\n",
      "[281]\ttrain-rmse:0.142352\teval-rmse:0.163193\ttrain-rmspe:0.143187\teval-rmspe:0.169013\n",
      "[282]\ttrain-rmse:0.142179\teval-rmse:0.16304\ttrain-rmspe:0.14301\teval-rmspe:0.168873\n",
      "[283]\ttrain-rmse:0.141954\teval-rmse:0.16289\ttrain-rmspe:0.142771\teval-rmspe:0.168712\n",
      "[284]\ttrain-rmse:0.141735\teval-rmse:0.162732\ttrain-rmspe:0.142544\teval-rmspe:0.168551\n",
      "[285]\ttrain-rmse:0.141577\teval-rmse:0.162585\ttrain-rmspe:0.142365\teval-rmspe:0.168387\n",
      "[286]\ttrain-rmse:0.141387\teval-rmse:0.162471\ttrain-rmspe:0.142165\teval-rmspe:0.168305\n",
      "[287]\ttrain-rmse:0.141308\teval-rmse:0.16242\ttrain-rmspe:0.142083\teval-rmspe:0.168249\n",
      "[288]\ttrain-rmse:0.140795\teval-rmse:0.161951\ttrain-rmspe:0.141532\teval-rmspe:0.167775\n",
      "[289]\ttrain-rmse:0.140274\teval-rmse:0.161529\ttrain-rmspe:0.140979\teval-rmspe:0.167338\n"
     ]
    },
    {
     "name": "stdout",
     "output_type": "stream",
     "text": [
      "[290]\ttrain-rmse:0.140207\teval-rmse:0.161484\ttrain-rmspe:0.140911\teval-rmspe:0.167291\n",
      "[291]\ttrain-rmse:0.140052\teval-rmse:0.161408\ttrain-rmspe:0.140746\teval-rmspe:0.167221\n",
      "[292]\ttrain-rmse:0.139864\teval-rmse:0.161252\ttrain-rmspe:0.140546\teval-rmspe:0.167062\n",
      "[293]\ttrain-rmse:0.139751\teval-rmse:0.161155\ttrain-rmspe:0.140436\teval-rmspe:0.166962\n",
      "[294]\ttrain-rmse:0.139415\teval-rmse:0.160905\ttrain-rmspe:0.140085\teval-rmspe:0.166711\n",
      "[295]\ttrain-rmse:0.139285\teval-rmse:0.160933\ttrain-rmspe:0.139949\teval-rmspe:0.166671\n",
      "[296]\ttrain-rmse:0.139203\teval-rmse:0.160871\ttrain-rmspe:0.139862\teval-rmspe:0.166607\n",
      "[297]\ttrain-rmse:0.138908\teval-rmse:0.160655\ttrain-rmspe:0.13955\teval-rmspe:0.166385\n",
      "[298]\ttrain-rmse:0.138588\teval-rmse:0.160362\ttrain-rmspe:0.139239\teval-rmspe:0.166122\n",
      "[299]\ttrain-rmse:0.138223\teval-rmse:0.160032\ttrain-rmspe:0.13888\teval-rmspe:0.165817\n",
      "[300]\ttrain-rmse:0.137773\teval-rmse:0.159695\ttrain-rmspe:0.13841\teval-rmspe:0.165485\n",
      "[301]\ttrain-rmse:0.137407\teval-rmse:0.159434\ttrain-rmspe:0.138017\teval-rmspe:0.165243\n",
      "[302]\ttrain-rmse:0.137047\teval-rmse:0.159131\ttrain-rmspe:0.13763\teval-rmspe:0.164939\n",
      "[303]\ttrain-rmse:0.136834\teval-rmse:0.158965\ttrain-rmspe:0.137415\teval-rmspe:0.164783\n",
      "[304]\ttrain-rmse:0.136394\teval-rmse:0.158591\ttrain-rmspe:0.136969\teval-rmspe:0.164433\n",
      "[305]\ttrain-rmse:0.13597\teval-rmse:0.158226\ttrain-rmspe:0.13652\teval-rmspe:0.164085\n",
      "[306]\ttrain-rmse:0.135842\teval-rmse:0.158179\ttrain-rmspe:0.136388\teval-rmspe:0.164032\n",
      "[307]\ttrain-rmse:0.135668\teval-rmse:0.158079\ttrain-rmspe:0.136212\teval-rmspe:0.16393\n",
      "[308]\ttrain-rmse:0.135284\teval-rmse:0.157786\ttrain-rmspe:0.135791\teval-rmspe:0.163651\n",
      "[309]\ttrain-rmse:0.135126\teval-rmse:0.157669\ttrain-rmspe:0.135629\teval-rmspe:0.163542\n",
      "[310]\ttrain-rmse:0.134607\teval-rmse:0.157185\ttrain-rmspe:0.135093\teval-rmspe:0.16307\n",
      "[311]\ttrain-rmse:0.134139\teval-rmse:0.156777\ttrain-rmspe:0.134622\teval-rmspe:0.162689\n",
      "[312]\ttrain-rmse:0.133941\teval-rmse:0.156574\ttrain-rmspe:0.134395\teval-rmspe:0.162483\n",
      "[313]\ttrain-rmse:0.133759\teval-rmse:0.15642\ttrain-rmspe:0.134205\teval-rmspe:0.162345\n",
      "[314]\ttrain-rmse:0.133355\teval-rmse:0.156091\ttrain-rmspe:0.133812\teval-rmspe:0.162046\n",
      "[315]\ttrain-rmse:0.133064\teval-rmse:0.155831\ttrain-rmspe:0.133505\teval-rmspe:0.161797\n",
      "[316]\ttrain-rmse:0.132714\teval-rmse:0.155565\ttrain-rmspe:0.133115\teval-rmspe:0.161546\n",
      "[317]\ttrain-rmse:0.132426\teval-rmse:0.155344\ttrain-rmspe:0.132821\teval-rmspe:0.161329\n",
      "[318]\ttrain-rmse:0.132123\teval-rmse:0.155131\ttrain-rmspe:0.132513\teval-rmspe:0.161155\n",
      "[319]\ttrain-rmse:0.131995\teval-rmse:0.155106\ttrain-rmspe:0.13237\teval-rmspe:0.161078\n",
      "[320]\ttrain-rmse:0.13182\teval-rmse:0.15495\ttrain-rmspe:0.132175\teval-rmspe:0.160909\n",
      "[321]\ttrain-rmse:0.131642\teval-rmse:0.154807\ttrain-rmspe:0.131988\teval-rmspe:0.160771\n",
      "[322]\ttrain-rmse:0.131557\teval-rmse:0.154765\ttrain-rmspe:0.131909\teval-rmspe:0.160739\n",
      "[323]\ttrain-rmse:0.13142\teval-rmse:0.154646\ttrain-rmspe:0.131754\teval-rmspe:0.160608\n",
      "[324]\ttrain-rmse:0.130995\teval-rmse:0.154285\ttrain-rmspe:0.1313\teval-rmspe:0.160265\n",
      "[325]\ttrain-rmse:0.130903\teval-rmse:0.154206\ttrain-rmspe:0.131207\teval-rmspe:0.160187\n",
      "[326]\ttrain-rmse:0.130803\teval-rmse:0.1541\ttrain-rmspe:0.131097\teval-rmspe:0.160079\n",
      "[327]\ttrain-rmse:0.130747\teval-rmse:0.15406\ttrain-rmspe:0.13104\teval-rmspe:0.160039\n",
      "[328]\ttrain-rmse:0.130355\teval-rmse:0.153751\ttrain-rmspe:0.130641\teval-rmspe:0.15972\n",
      "[329]\ttrain-rmse:0.13022\teval-rmse:0.153645\ttrain-rmspe:0.130502\teval-rmspe:0.159607\n",
      "[330]\ttrain-rmse:0.130083\teval-rmse:0.153656\ttrain-rmspe:0.130365\teval-rmspe:0.159654\n",
      "[331]\ttrain-rmse:0.129739\teval-rmse:0.153356\ttrain-rmspe:0.130021\teval-rmspe:0.159381\n",
      "[332]\ttrain-rmse:0.129485\teval-rmse:0.153146\ttrain-rmspe:0.129757\teval-rmspe:0.159185\n",
      "[333]\ttrain-rmse:0.129389\teval-rmse:0.1531\ttrain-rmspe:0.129669\teval-rmspe:0.159154\n",
      "[334]\ttrain-rmse:0.129067\teval-rmse:0.152828\ttrain-rmspe:0.129338\teval-rmspe:0.158877\n",
      "[335]\ttrain-rmse:0.128656\teval-rmse:0.152473\ttrain-rmspe:0.128914\teval-rmspe:0.158535\n",
      "[336]\ttrain-rmse:0.12833\teval-rmse:0.152192\ttrain-rmspe:0.128575\teval-rmspe:0.158254\n",
      "[337]\ttrain-rmse:0.128029\teval-rmse:0.151954\ttrain-rmspe:0.128261\teval-rmspe:0.158028\n",
      "[338]\ttrain-rmse:0.127975\teval-rmse:0.15194\ttrain-rmspe:0.128206\teval-rmspe:0.157999\n",
      "[339]\ttrain-rmse:0.127797\teval-rmse:0.151799\ttrain-rmspe:0.12801\teval-rmspe:0.157863\n",
      "[340]\ttrain-rmse:0.127681\teval-rmse:0.151802\ttrain-rmspe:0.127881\teval-rmspe:0.157875\n",
      "[341]\ttrain-rmse:0.127535\teval-rmse:0.151686\ttrain-rmspe:0.127729\teval-rmspe:0.157766\n",
      "[342]\ttrain-rmse:0.127449\teval-rmse:0.151616\ttrain-rmspe:0.127644\teval-rmspe:0.157696\n",
      "[343]\ttrain-rmse:0.127236\teval-rmse:0.151453\ttrain-rmspe:0.127425\teval-rmspe:0.157532\n",
      "[344]\ttrain-rmse:0.127001\teval-rmse:0.151288\ttrain-rmspe:0.127156\teval-rmspe:0.157371\n",
      "[345]\ttrain-rmse:0.12691\teval-rmse:0.151252\ttrain-rmspe:0.127069\teval-rmspe:0.157349\n",
      "[346]\ttrain-rmse:0.126835\teval-rmse:0.151144\ttrain-rmspe:0.126987\teval-rmspe:0.157242\n",
      "[347]\ttrain-rmse:0.126711\teval-rmse:0.151043\ttrain-rmspe:0.12686\teval-rmspe:0.157144\n",
      "[348]\ttrain-rmse:0.126397\teval-rmse:0.150773\ttrain-rmspe:0.126545\teval-rmspe:0.156887\n",
      "[349]\ttrain-rmse:0.126037\teval-rmse:0.15046\ttrain-rmspe:0.126193\teval-rmspe:0.156602\n",
      "[350]\ttrain-rmse:0.12575\teval-rmse:0.150265\ttrain-rmspe:0.125912\teval-rmspe:0.156414\n",
      "[351]\ttrain-rmse:0.12555\teval-rmse:0.150107\ttrain-rmspe:0.125711\teval-rmspe:0.156279\n",
      "[352]\ttrain-rmse:0.125444\teval-rmse:0.150016\ttrain-rmspe:0.125607\teval-rmspe:0.156197\n",
      "[353]\ttrain-rmse:0.125269\teval-rmse:0.149878\ttrain-rmspe:0.125427\teval-rmspe:0.156071\n",
      "[354]\ttrain-rmse:0.125208\teval-rmse:0.149826\ttrain-rmspe:0.125366\teval-rmspe:0.156023\n",
      "[355]\ttrain-rmse:0.125006\teval-rmse:0.149693\ttrain-rmspe:0.125172\teval-rmspe:0.155922\n",
      "[356]\ttrain-rmse:0.124902\teval-rmse:0.149619\ttrain-rmspe:0.125067\teval-rmspe:0.155848\n",
      "[357]\ttrain-rmse:0.124604\teval-rmse:0.149385\ttrain-rmspe:0.124766\teval-rmspe:0.155633\n",
      "[358]\ttrain-rmse:0.12446\teval-rmse:0.149265\ttrain-rmspe:0.124626\teval-rmspe:0.155532\n",
      "[359]\ttrain-rmse:0.124346\teval-rmse:0.149191\ttrain-rmspe:0.124509\teval-rmspe:0.155459\n",
      "[360]\ttrain-rmse:0.124002\teval-rmse:0.148915\ttrain-rmspe:0.124168\teval-rmspe:0.155197\n",
      "[361]\ttrain-rmse:0.123917\teval-rmse:0.148846\ttrain-rmspe:0.124088\teval-rmspe:0.155138\n",
      "[362]\ttrain-rmse:0.12339\teval-rmse:0.148433\ttrain-rmspe:0.123565\teval-rmspe:0.154766\n",
      "[363]\ttrain-rmse:0.123256\teval-rmse:0.148343\ttrain-rmspe:0.123418\teval-rmspe:0.154685\n",
      "[364]\ttrain-rmse:0.123122\teval-rmse:0.148227\ttrain-rmspe:0.12328\teval-rmspe:0.154573\n",
      "[365]\ttrain-rmse:0.123089\teval-rmse:0.148203\ttrain-rmspe:0.123248\teval-rmspe:0.154551\n",
      "[366]\ttrain-rmse:0.122725\teval-rmse:0.147925\ttrain-rmspe:0.122875\teval-rmspe:0.154299\n",
      "[367]\ttrain-rmse:0.122614\teval-rmse:0.147857\ttrain-rmspe:0.122764\teval-rmspe:0.154241\n",
      "[368]\ttrain-rmse:0.122522\teval-rmse:0.147841\ttrain-rmspe:0.122675\teval-rmspe:0.154208\n",
      "[369]\ttrain-rmse:0.122476\teval-rmse:0.147801\ttrain-rmspe:0.122629\teval-rmspe:0.154169\n",
      "[370]\ttrain-rmse:0.122325\teval-rmse:0.147701\ttrain-rmspe:0.122469\teval-rmspe:0.154093\n",
      "[371]\ttrain-rmse:0.122185\teval-rmse:0.147595\ttrain-rmspe:0.122328\teval-rmspe:0.154001\n",
      "[372]\ttrain-rmse:0.121929\teval-rmse:0.147358\ttrain-rmspe:0.122064\teval-rmspe:0.153781\n",
      "[373]\ttrain-rmse:0.121827\teval-rmse:0.147285\ttrain-rmspe:0.12196\teval-rmspe:0.153711\n",
      "[374]\ttrain-rmse:0.121778\teval-rmse:0.147246\ttrain-rmspe:0.121911\teval-rmspe:0.153673\n",
      "[375]\ttrain-rmse:0.121743\teval-rmse:0.147209\ttrain-rmspe:0.121872\teval-rmspe:0.153634\n",
      "[376]\ttrain-rmse:0.121385\teval-rmse:0.146908\ttrain-rmspe:0.121502\teval-rmspe:0.153349\n",
      "[377]\ttrain-rmse:0.121178\teval-rmse:0.146755\ttrain-rmspe:0.121284\teval-rmspe:0.153211\n",
      "[378]\ttrain-rmse:0.121048\teval-rmse:0.146644\ttrain-rmspe:0.121158\teval-rmspe:0.153116\n",
      "[379]\ttrain-rmse:0.120888\teval-rmse:0.146521\ttrain-rmspe:0.121\teval-rmspe:0.153004\n",
      "[380]\ttrain-rmse:0.120738\teval-rmse:0.146418\ttrain-rmspe:0.120852\teval-rmspe:0.152909\n",
      "[381]\ttrain-rmse:0.120645\teval-rmse:0.146345\ttrain-rmspe:0.120756\teval-rmspe:0.152826\n",
      "[382]\ttrain-rmse:0.120269\teval-rmse:0.146062\ttrain-rmspe:0.120387\teval-rmspe:0.152567\n",
      "[383]\ttrain-rmse:0.120162\teval-rmse:0.145989\ttrain-rmspe:0.120277\teval-rmspe:0.152493\n",
      "[384]\ttrain-rmse:0.120011\teval-rmse:0.1459\ttrain-rmspe:0.120133\teval-rmspe:0.152393\n",
      "[385]\ttrain-rmse:0.119967\teval-rmse:0.145945\ttrain-rmspe:0.120085\teval-rmspe:0.152426\n"
     ]
    },
    {
     "name": "stdout",
     "output_type": "stream",
     "text": [
      "[386]\ttrain-rmse:0.119797\teval-rmse:0.145819\ttrain-rmspe:0.119923\teval-rmspe:0.15233\n",
      "[387]\ttrain-rmse:0.119606\teval-rmse:0.145656\ttrain-rmspe:0.11972\teval-rmspe:0.152181\n",
      "[388]\ttrain-rmse:0.119546\teval-rmse:0.145608\ttrain-rmspe:0.119661\teval-rmspe:0.152146\n",
      "[389]\ttrain-rmse:0.1195\teval-rmse:0.145584\ttrain-rmspe:0.11961\teval-rmspe:0.152137\n",
      "[390]\ttrain-rmse:0.119461\teval-rmse:0.145557\ttrain-rmspe:0.119569\teval-rmspe:0.152111\n",
      "[391]\ttrain-rmse:0.11928\teval-rmse:0.145395\ttrain-rmspe:0.119388\teval-rmspe:0.151956\n",
      "[392]\ttrain-rmse:0.119105\teval-rmse:0.145248\ttrain-rmspe:0.119202\teval-rmspe:0.151817\n",
      "[393]\ttrain-rmse:0.118894\teval-rmse:0.14508\ttrain-rmspe:0.118998\teval-rmspe:0.151666\n",
      "[394]\ttrain-rmse:0.118832\teval-rmse:0.145034\ttrain-rmspe:0.118938\teval-rmspe:0.151623\n",
      "[395]\ttrain-rmse:0.118613\teval-rmse:0.144868\ttrain-rmspe:0.118706\teval-rmspe:0.151472\n",
      "[396]\ttrain-rmse:0.118383\teval-rmse:0.144669\ttrain-rmspe:0.118471\teval-rmspe:0.151273\n",
      "[397]\ttrain-rmse:0.118197\teval-rmse:0.144547\ttrain-rmspe:0.118295\teval-rmspe:0.151164\n",
      "[398]\ttrain-rmse:0.118132\teval-rmse:0.144494\ttrain-rmspe:0.118226\teval-rmspe:0.151113\n",
      "[399]\ttrain-rmse:0.117993\teval-rmse:0.144341\ttrain-rmspe:0.118085\teval-rmspe:0.150957\n",
      "[400]\ttrain-rmse:0.117911\teval-rmse:0.144282\ttrain-rmspe:0.117993\teval-rmspe:0.150897\n",
      "[401]\ttrain-rmse:0.117856\teval-rmse:0.144238\ttrain-rmspe:0.117941\teval-rmspe:0.150855\n",
      "[402]\ttrain-rmse:0.117634\teval-rmse:0.144044\ttrain-rmspe:0.117714\teval-rmspe:0.150666\n",
      "[403]\ttrain-rmse:0.117574\teval-rmse:0.143994\ttrain-rmspe:0.117657\teval-rmspe:0.150627\n",
      "[404]\ttrain-rmse:0.117433\teval-rmse:0.143913\ttrain-rmspe:0.117518\teval-rmspe:0.150555\n",
      "[405]\ttrain-rmse:0.117413\teval-rmse:0.1439\ttrain-rmspe:0.117498\teval-rmspe:0.150539\n",
      "[406]\ttrain-rmse:0.117347\teval-rmse:0.143862\ttrain-rmspe:0.117434\teval-rmspe:0.150509\n",
      "[407]\ttrain-rmse:0.117268\teval-rmse:0.143793\ttrain-rmspe:0.117352\teval-rmspe:0.150437\n",
      "[408]\ttrain-rmse:0.117183\teval-rmse:0.143732\ttrain-rmspe:0.117273\teval-rmspe:0.15038\n",
      "[409]\ttrain-rmse:0.117173\teval-rmse:0.143718\ttrain-rmspe:0.117262\teval-rmspe:0.150379\n",
      "[410]\ttrain-rmse:0.117019\teval-rmse:0.143604\ttrain-rmspe:0.117098\teval-rmspe:0.150272\n",
      "[411]\ttrain-rmse:0.116842\teval-rmse:0.143456\ttrain-rmspe:0.116921\teval-rmspe:0.150134\n",
      "[412]\ttrain-rmse:0.116532\teval-rmse:0.143214\ttrain-rmspe:0.1166\teval-rmspe:0.149891\n",
      "[413]\ttrain-rmse:0.116467\teval-rmse:0.143178\ttrain-rmspe:0.116539\teval-rmspe:0.14987\n",
      "[414]\ttrain-rmse:0.116312\teval-rmse:0.143066\ttrain-rmspe:0.116383\teval-rmspe:0.149769\n",
      "[415]\ttrain-rmse:0.116211\teval-rmse:0.142975\ttrain-rmspe:0.116282\teval-rmspe:0.149686\n",
      "[416]\ttrain-rmse:0.116072\teval-rmse:0.142873\ttrain-rmspe:0.116146\teval-rmspe:0.149574\n",
      "[417]\ttrain-rmse:0.115974\teval-rmse:0.142811\ttrain-rmspe:0.116043\teval-rmspe:0.149511\n",
      "[418]\ttrain-rmse:0.115863\teval-rmse:0.142726\ttrain-rmspe:0.115933\teval-rmspe:0.149438\n",
      "[419]\ttrain-rmse:0.115727\teval-rmse:0.142643\ttrain-rmspe:0.115792\teval-rmspe:0.14936\n",
      "[420]\ttrain-rmse:0.115521\teval-rmse:0.142474\ttrain-rmspe:0.115582\teval-rmspe:0.149192\n",
      "[421]\ttrain-rmse:0.115442\teval-rmse:0.142462\ttrain-rmspe:0.115494\teval-rmspe:0.149174\n",
      "[422]\ttrain-rmse:0.115345\teval-rmse:0.142397\ttrain-rmspe:0.115394\teval-rmspe:0.149111\n",
      "[423]\ttrain-rmse:0.115221\teval-rmse:0.142307\ttrain-rmspe:0.115277\teval-rmspe:0.149031\n",
      "[424]\ttrain-rmse:0.115109\teval-rmse:0.142251\ttrain-rmspe:0.115158\teval-rmspe:0.148977\n",
      "[425]\ttrain-rmse:0.115029\teval-rmse:0.14218\ttrain-rmspe:0.115072\teval-rmspe:0.148908\n",
      "[426]\ttrain-rmse:0.114835\teval-rmse:0.142051\ttrain-rmspe:0.114875\teval-rmspe:0.148782\n",
      "[427]\ttrain-rmse:0.11471\teval-rmse:0.14195\ttrain-rmspe:0.114748\teval-rmspe:0.148683\n",
      "[428]\ttrain-rmse:0.114622\teval-rmse:0.141899\ttrain-rmspe:0.114654\teval-rmspe:0.148653\n",
      "[429]\ttrain-rmse:0.114537\teval-rmse:0.142003\ttrain-rmspe:0.114568\teval-rmspe:0.1487\n",
      "[430]\ttrain-rmse:0.114334\teval-rmse:0.141849\ttrain-rmspe:0.114362\teval-rmspe:0.14856\n",
      "[431]\ttrain-rmse:0.114247\teval-rmse:0.141849\ttrain-rmspe:0.114271\teval-rmspe:0.148536\n",
      "[432]\ttrain-rmse:0.114136\teval-rmse:0.141764\ttrain-rmspe:0.114158\teval-rmspe:0.148451\n",
      "[433]\ttrain-rmse:0.114076\teval-rmse:0.14176\ttrain-rmspe:0.114091\teval-rmspe:0.148447\n",
      "[434]\ttrain-rmse:0.113969\teval-rmse:0.141684\ttrain-rmspe:0.113983\teval-rmspe:0.148377\n",
      "[435]\ttrain-rmse:0.113907\teval-rmse:0.141644\ttrain-rmspe:0.113916\teval-rmspe:0.148336\n",
      "[436]\ttrain-rmse:0.113826\teval-rmse:0.141596\ttrain-rmspe:0.113829\teval-rmspe:0.148281\n",
      "[437]\ttrain-rmse:0.113704\teval-rmse:0.141491\ttrain-rmspe:0.113711\teval-rmspe:0.148182\n",
      "[438]\ttrain-rmse:0.113609\teval-rmse:0.141427\ttrain-rmspe:0.113614\teval-rmspe:0.148124\n",
      "[439]\ttrain-rmse:0.113531\teval-rmse:0.14138\ttrain-rmspe:0.113529\teval-rmspe:0.148074\n",
      "[440]\ttrain-rmse:0.113422\teval-rmse:0.141306\ttrain-rmspe:0.113406\teval-rmspe:0.148007\n",
      "[441]\ttrain-rmse:0.113284\teval-rmse:0.141195\ttrain-rmspe:0.113265\teval-rmspe:0.147898\n",
      "[442]\ttrain-rmse:0.113267\teval-rmse:0.141172\ttrain-rmspe:0.113246\teval-rmspe:0.147871\n",
      "[443]\ttrain-rmse:0.113196\teval-rmse:0.1411\ttrain-rmspe:0.113173\teval-rmspe:0.147798\n",
      "[444]\ttrain-rmse:0.113172\teval-rmse:0.14108\ttrain-rmspe:0.113136\teval-rmspe:0.147773\n",
      "[445]\ttrain-rmse:0.113068\teval-rmse:0.141016\ttrain-rmspe:0.113028\teval-rmspe:0.147711\n",
      "[446]\ttrain-rmse:0.112974\teval-rmse:0.140933\ttrain-rmspe:0.112932\teval-rmspe:0.147635\n",
      "[447]\ttrain-rmse:0.112848\teval-rmse:0.140841\ttrain-rmspe:0.112791\teval-rmspe:0.147541\n",
      "[448]\ttrain-rmse:0.112737\teval-rmse:0.140763\ttrain-rmspe:0.112676\teval-rmspe:0.147465\n",
      "[449]\ttrain-rmse:0.112563\teval-rmse:0.140639\ttrain-rmspe:0.112493\teval-rmspe:0.147346\n",
      "[450]\ttrain-rmse:0.112502\teval-rmse:0.140637\ttrain-rmspe:0.112431\teval-rmspe:0.147355\n",
      "[451]\ttrain-rmse:0.112454\teval-rmse:0.140601\ttrain-rmspe:0.112383\teval-rmspe:0.147328\n",
      "[452]\ttrain-rmse:0.112361\teval-rmse:0.140543\ttrain-rmspe:0.112289\teval-rmspe:0.147265\n",
      "[453]\ttrain-rmse:0.112126\teval-rmse:0.140374\ttrain-rmspe:0.112039\teval-rmspe:0.147102\n",
      "[454]\ttrain-rmse:0.112026\teval-rmse:0.140292\ttrain-rmspe:0.111938\teval-rmspe:0.14703\n",
      "[455]\ttrain-rmse:0.111967\teval-rmse:0.140262\ttrain-rmspe:0.111876\teval-rmspe:0.147012\n",
      "[456]\ttrain-rmse:0.11183\teval-rmse:0.140165\ttrain-rmspe:0.111746\teval-rmspe:0.146924\n",
      "[457]\ttrain-rmse:0.111742\teval-rmse:0.140106\ttrain-rmspe:0.111653\teval-rmspe:0.146873\n",
      "[458]\ttrain-rmse:0.111681\teval-rmse:0.140064\ttrain-rmspe:0.111598\teval-rmspe:0.146834\n",
      "[459]\ttrain-rmse:0.111653\teval-rmse:0.140035\ttrain-rmspe:0.11157\teval-rmspe:0.146808\n",
      "[460]\ttrain-rmse:0.111552\teval-rmse:0.139971\ttrain-rmspe:0.111471\teval-rmspe:0.146772\n",
      "[461]\ttrain-rmse:0.111415\teval-rmse:0.139937\ttrain-rmspe:0.111341\teval-rmspe:0.146743\n",
      "[462]\ttrain-rmse:0.111284\teval-rmse:0.139857\ttrain-rmspe:0.111206\teval-rmspe:0.146672\n",
      "[463]\ttrain-rmse:0.111132\teval-rmse:0.139734\ttrain-rmspe:0.111055\teval-rmspe:0.146555\n",
      "[464]\ttrain-rmse:0.111051\teval-rmse:0.139682\ttrain-rmspe:0.110966\teval-rmspe:0.146504\n",
      "[465]\ttrain-rmse:0.111003\teval-rmse:0.139662\ttrain-rmspe:0.110921\teval-rmspe:0.14649\n",
      "[466]\ttrain-rmse:0.110836\teval-rmse:0.139534\ttrain-rmspe:0.110755\teval-rmspe:0.146378\n",
      "[467]\ttrain-rmse:0.110771\teval-rmse:0.13959\ttrain-rmspe:0.110689\teval-rmspe:0.14637\n",
      "[468]\ttrain-rmse:0.110704\teval-rmse:0.139597\ttrain-rmspe:0.110617\teval-rmspe:0.146377\n",
      "[469]\ttrain-rmse:0.110616\teval-rmse:0.139532\ttrain-rmspe:0.110532\teval-rmspe:0.146313\n",
      "[470]\ttrain-rmse:0.110585\teval-rmse:0.13951\ttrain-rmspe:0.110501\teval-rmspe:0.146291\n",
      "[471]\ttrain-rmse:0.110476\teval-rmse:0.139417\ttrain-rmspe:0.110387\teval-rmspe:0.1462\n",
      "[472]\ttrain-rmse:0.110375\teval-rmse:0.139344\ttrain-rmspe:0.110286\teval-rmspe:0.146126\n",
      "[473]\ttrain-rmse:0.110352\teval-rmse:0.139331\ttrain-rmspe:0.110265\teval-rmspe:0.146112\n",
      "[474]\ttrain-rmse:0.110248\teval-rmse:0.139351\ttrain-rmspe:0.110157\teval-rmspe:0.146114\n",
      "[475]\ttrain-rmse:0.110122\teval-rmse:0.139264\ttrain-rmspe:0.110022\teval-rmspe:0.146039\n",
      "[476]\ttrain-rmse:0.109866\teval-rmse:0.139077\ttrain-rmspe:0.109773\teval-rmspe:0.145876\n",
      "[477]\ttrain-rmse:0.109756\teval-rmse:0.13899\ttrain-rmspe:0.109657\teval-rmspe:0.145788\n",
      "[478]\ttrain-rmse:0.109664\teval-rmse:0.138927\ttrain-rmspe:0.109551\teval-rmspe:0.145735\n",
      "[479]\ttrain-rmse:0.109577\teval-rmse:0.138873\ttrain-rmspe:0.109454\teval-rmspe:0.145684\n",
      "[480]\ttrain-rmse:0.109454\teval-rmse:0.138787\ttrain-rmspe:0.109333\teval-rmspe:0.145607\n",
      "[481]\ttrain-rmse:0.109407\teval-rmse:0.138744\ttrain-rmspe:0.109282\teval-rmspe:0.145576\n"
     ]
    },
    {
     "name": "stdout",
     "output_type": "stream",
     "text": [
      "[482]\ttrain-rmse:0.109327\teval-rmse:0.138671\ttrain-rmspe:0.109198\teval-rmspe:0.145507\n",
      "[483]\ttrain-rmse:0.109262\teval-rmse:0.138622\ttrain-rmspe:0.109128\teval-rmspe:0.145451\n",
      "[484]\ttrain-rmse:0.109129\teval-rmse:0.138511\ttrain-rmspe:0.108996\teval-rmspe:0.145344\n",
      "[485]\ttrain-rmse:0.109109\teval-rmse:0.138509\ttrain-rmspe:0.108974\teval-rmspe:0.145341\n",
      "[486]\ttrain-rmse:0.108954\teval-rmse:0.138389\ttrain-rmspe:0.108818\teval-rmspe:0.145223\n",
      "[487]\ttrain-rmse:0.108868\teval-rmse:0.138342\ttrain-rmspe:0.108724\teval-rmspe:0.145175\n",
      "[488]\ttrain-rmse:0.108719\teval-rmse:0.13823\ttrain-rmspe:0.108572\teval-rmspe:0.145071\n",
      "[489]\ttrain-rmse:0.108638\teval-rmse:0.138173\ttrain-rmspe:0.108494\teval-rmspe:0.145023\n",
      "[490]\ttrain-rmse:0.108559\teval-rmse:0.138122\ttrain-rmspe:0.108408\teval-rmspe:0.14498\n",
      "[491]\ttrain-rmse:0.108432\teval-rmse:0.138046\ttrain-rmspe:0.108287\teval-rmspe:0.144911\n",
      "[492]\ttrain-rmse:0.108409\teval-rmse:0.138023\ttrain-rmspe:0.108262\teval-rmspe:0.144889\n",
      "[493]\ttrain-rmse:0.108331\teval-rmse:0.137969\ttrain-rmspe:0.108181\teval-rmspe:0.144839\n",
      "[494]\ttrain-rmse:0.108263\teval-rmse:0.137928\ttrain-rmspe:0.108111\teval-rmspe:0.144791\n",
      "[495]\ttrain-rmse:0.108213\teval-rmse:0.137898\ttrain-rmspe:0.108061\teval-rmspe:0.144761\n",
      "[496]\ttrain-rmse:0.108107\teval-rmse:0.137827\ttrain-rmspe:0.107949\teval-rmspe:0.144695\n",
      "[497]\ttrain-rmse:0.108061\teval-rmse:0.13779\ttrain-rmspe:0.107901\teval-rmspe:0.144651\n",
      "[498]\ttrain-rmse:0.107999\teval-rmse:0.137737\ttrain-rmspe:0.107833\teval-rmspe:0.144605\n",
      "[499]\ttrain-rmse:0.107939\teval-rmse:0.137696\ttrain-rmspe:0.107773\teval-rmspe:0.144565\n",
      "[500]\ttrain-rmse:0.107876\teval-rmse:0.137726\ttrain-rmspe:0.107724\teval-rmspe:0.144582\n",
      "[501]\ttrain-rmse:0.10782\teval-rmse:0.137682\ttrain-rmspe:0.107664\teval-rmspe:0.144547\n",
      "[502]\ttrain-rmse:0.107729\teval-rmse:0.13761\ttrain-rmspe:0.107568\teval-rmspe:0.144476\n",
      "[503]\ttrain-rmse:0.107611\teval-rmse:0.137512\ttrain-rmspe:0.107454\teval-rmspe:0.144408\n",
      "[504]\ttrain-rmse:0.107562\teval-rmse:0.137513\ttrain-rmspe:0.107402\teval-rmspe:0.144407\n",
      "[505]\ttrain-rmse:0.107505\teval-rmse:0.137467\ttrain-rmspe:0.107348\teval-rmspe:0.144372\n",
      "[506]\ttrain-rmse:0.107411\teval-rmse:0.137383\ttrain-rmspe:0.107254\teval-rmspe:0.144291\n",
      "[507]\ttrain-rmse:0.107322\teval-rmse:0.137311\ttrain-rmspe:0.107161\teval-rmspe:0.144216\n",
      "[508]\ttrain-rmse:0.10725\teval-rmse:0.137269\ttrain-rmspe:0.107084\teval-rmspe:0.144179\n",
      "[509]\ttrain-rmse:0.10717\teval-rmse:0.137216\ttrain-rmspe:0.106998\teval-rmspe:0.144134\n",
      "[510]\ttrain-rmse:0.10706\teval-rmse:0.137241\ttrain-rmspe:0.1069\teval-rmspe:0.144115\n",
      "[511]\ttrain-rmse:0.106931\teval-rmse:0.13714\ttrain-rmspe:0.10677\teval-rmspe:0.144025\n",
      "[512]\ttrain-rmse:0.106873\teval-rmse:0.137098\ttrain-rmspe:0.106708\teval-rmspe:0.143984\n",
      "[513]\ttrain-rmse:0.106725\teval-rmse:0.137031\ttrain-rmspe:0.10656\teval-rmspe:0.14392\n",
      "[514]\ttrain-rmse:0.106654\teval-rmse:0.136959\ttrain-rmspe:0.106487\teval-rmspe:0.143841\n",
      "[515]\ttrain-rmse:0.106468\teval-rmse:0.136824\ttrain-rmspe:0.106303\teval-rmspe:0.143693\n",
      "[516]\ttrain-rmse:0.106402\teval-rmse:0.136797\ttrain-rmspe:0.106232\teval-rmspe:0.143669\n",
      "[517]\ttrain-rmse:0.106329\teval-rmse:0.136749\ttrain-rmspe:0.106161\teval-rmspe:0.143616\n",
      "[518]\ttrain-rmse:0.106162\teval-rmse:0.136616\ttrain-rmspe:0.106001\teval-rmspe:0.143496\n",
      "[519]\ttrain-rmse:0.105987\teval-rmse:0.136467\ttrain-rmspe:0.105828\teval-rmspe:0.14335\n",
      "[520]\ttrain-rmse:0.105883\teval-rmse:0.136391\ttrain-rmspe:0.105725\teval-rmspe:0.143276\n",
      "[521]\ttrain-rmse:0.105814\teval-rmse:0.13635\ttrain-rmspe:0.105655\teval-rmspe:0.14324\n",
      "[522]\ttrain-rmse:0.105743\teval-rmse:0.136301\ttrain-rmspe:0.105582\teval-rmspe:0.143193\n",
      "[523]\ttrain-rmse:0.105715\teval-rmse:0.136281\ttrain-rmspe:0.105556\teval-rmspe:0.143169\n",
      "[524]\ttrain-rmse:0.105563\teval-rmse:0.136219\ttrain-rmspe:0.105403\teval-rmspe:0.143103\n",
      "[525]\ttrain-rmse:0.105421\teval-rmse:0.136107\ttrain-rmspe:0.105256\teval-rmspe:0.142991\n",
      "[526]\ttrain-rmse:0.105389\teval-rmse:0.13608\ttrain-rmspe:0.105222\teval-rmspe:0.142965\n",
      "[527]\ttrain-rmse:0.105318\teval-rmse:0.136036\ttrain-rmspe:0.10515\teval-rmspe:0.142922\n",
      "[528]\ttrain-rmse:0.105293\teval-rmse:0.136011\ttrain-rmspe:0.105124\teval-rmspe:0.142897\n",
      "[529]\ttrain-rmse:0.105179\teval-rmse:0.13595\ttrain-rmspe:0.105007\teval-rmspe:0.142847\n",
      "[530]\ttrain-rmse:0.105085\teval-rmse:0.135905\ttrain-rmspe:0.104907\teval-rmspe:0.142809\n",
      "[531]\ttrain-rmse:0.105072\teval-rmse:0.1359\ttrain-rmspe:0.104897\teval-rmspe:0.142806\n",
      "[532]\ttrain-rmse:0.104994\teval-rmse:0.135836\ttrain-rmspe:0.104815\teval-rmspe:0.14274\n",
      "[533]\ttrain-rmse:0.104888\teval-rmse:0.135769\ttrain-rmspe:0.104702\teval-rmspe:0.142677\n",
      "[534]\ttrain-rmse:0.104835\teval-rmse:0.135745\ttrain-rmspe:0.104646\teval-rmspe:0.142654\n",
      "[535]\ttrain-rmse:0.104794\teval-rmse:0.135719\ttrain-rmspe:0.104605\teval-rmspe:0.142628\n",
      "[536]\ttrain-rmse:0.104744\teval-rmse:0.135693\ttrain-rmspe:0.104547\teval-rmspe:0.142602\n",
      "[537]\ttrain-rmse:0.104638\teval-rmse:0.135615\ttrain-rmspe:0.104438\teval-rmspe:0.142529\n",
      "[538]\ttrain-rmse:0.104533\teval-rmse:0.135543\ttrain-rmspe:0.104329\teval-rmspe:0.14245\n",
      "[539]\ttrain-rmse:0.104483\teval-rmse:0.135503\ttrain-rmspe:0.104274\teval-rmspe:0.142414\n",
      "[540]\ttrain-rmse:0.104429\teval-rmse:0.135487\ttrain-rmspe:0.104219\teval-rmspe:0.142397\n",
      "[541]\ttrain-rmse:0.104339\teval-rmse:0.13542\ttrain-rmspe:0.104133\teval-rmspe:0.142335\n",
      "[542]\ttrain-rmse:0.104267\teval-rmse:0.135374\ttrain-rmspe:0.104047\teval-rmspe:0.142289\n",
      "[543]\ttrain-rmse:0.104239\teval-rmse:0.135374\ttrain-rmspe:0.104017\teval-rmspe:0.142307\n",
      "[544]\ttrain-rmse:0.104194\teval-rmse:0.135354\ttrain-rmspe:0.10397\teval-rmspe:0.142287\n",
      "[545]\ttrain-rmse:0.104133\teval-rmse:0.135318\ttrain-rmspe:0.103908\teval-rmspe:0.142253\n",
      "[546]\ttrain-rmse:0.104058\teval-rmse:0.135273\ttrain-rmspe:0.10383\teval-rmspe:0.142217\n",
      "[547]\ttrain-rmse:0.103949\teval-rmse:0.135199\ttrain-rmspe:0.103714\teval-rmspe:0.142151\n",
      "[548]\ttrain-rmse:0.103887\teval-rmse:0.135155\ttrain-rmspe:0.103656\teval-rmspe:0.142112\n",
      "[549]\ttrain-rmse:0.103825\teval-rmse:0.135105\ttrain-rmspe:0.103593\teval-rmspe:0.142068\n",
      "[550]\ttrain-rmse:0.103723\teval-rmse:0.135031\ttrain-rmspe:0.103492\teval-rmspe:0.141998\n",
      "[551]\ttrain-rmse:0.103634\teval-rmse:0.134967\ttrain-rmspe:0.103398\teval-rmspe:0.141933\n",
      "[552]\ttrain-rmse:0.103556\teval-rmse:0.134973\ttrain-rmspe:0.103314\teval-rmspe:0.141951\n",
      "[553]\ttrain-rmse:0.103501\teval-rmse:0.13495\ttrain-rmspe:0.103256\teval-rmspe:0.14194\n",
      "[554]\ttrain-rmse:0.103479\teval-rmse:0.134943\ttrain-rmspe:0.103233\teval-rmspe:0.14193\n",
      "[555]\ttrain-rmse:0.103404\teval-rmse:0.134941\ttrain-rmspe:0.103161\teval-rmspe:0.141918\n",
      "[556]\ttrain-rmse:0.103358\teval-rmse:0.134929\ttrain-rmspe:0.103115\teval-rmspe:0.141905\n",
      "[557]\ttrain-rmse:0.103302\teval-rmse:0.134926\ttrain-rmspe:0.10307\teval-rmspe:0.141903\n",
      "[558]\ttrain-rmse:0.103243\teval-rmse:0.134875\ttrain-rmspe:0.103013\teval-rmspe:0.141857\n",
      "[559]\ttrain-rmse:0.103197\teval-rmse:0.134849\ttrain-rmspe:0.102967\teval-rmspe:0.14182\n",
      "[560]\ttrain-rmse:0.103121\teval-rmse:0.134871\ttrain-rmspe:0.102893\teval-rmspe:0.141852\n",
      "[561]\ttrain-rmse:0.103054\teval-rmse:0.134816\ttrain-rmspe:0.102828\teval-rmspe:0.141799\n",
      "[562]\ttrain-rmse:0.102989\teval-rmse:0.134854\ttrain-rmspe:0.102761\teval-rmspe:0.141812\n",
      "[563]\ttrain-rmse:0.102884\teval-rmse:0.134778\ttrain-rmspe:0.102657\teval-rmspe:0.141744\n",
      "[564]\ttrain-rmse:0.102844\teval-rmse:0.134764\ttrain-rmspe:0.10261\teval-rmspe:0.141729\n",
      "[565]\ttrain-rmse:0.102813\teval-rmse:0.13474\ttrain-rmspe:0.102577\teval-rmspe:0.141711\n",
      "[566]\ttrain-rmse:0.102721\teval-rmse:0.134756\ttrain-rmspe:0.10249\teval-rmspe:0.141709\n",
      "[567]\ttrain-rmse:0.102686\teval-rmse:0.134733\ttrain-rmspe:0.102456\teval-rmspe:0.141687\n",
      "[568]\ttrain-rmse:0.102588\teval-rmse:0.134674\ttrain-rmspe:0.102345\teval-rmspe:0.141633\n",
      "[569]\ttrain-rmse:0.102475\teval-rmse:0.134593\ttrain-rmspe:0.102231\teval-rmspe:0.141555\n",
      "[570]\ttrain-rmse:0.102381\teval-rmse:0.13454\ttrain-rmspe:0.10214\teval-rmspe:0.141514\n",
      "[571]\ttrain-rmse:0.102313\teval-rmse:0.134493\ttrain-rmspe:0.102067\teval-rmspe:0.141467\n",
      "[572]\ttrain-rmse:0.102282\teval-rmse:0.134466\ttrain-rmspe:0.102034\teval-rmspe:0.141439\n",
      "[573]\ttrain-rmse:0.102255\teval-rmse:0.134442\ttrain-rmspe:0.102007\teval-rmspe:0.141417\n",
      "[574]\ttrain-rmse:0.102221\teval-rmse:0.134413\ttrain-rmspe:0.101973\teval-rmspe:0.14139\n",
      "[575]\ttrain-rmse:0.102148\teval-rmse:0.134426\ttrain-rmspe:0.101896\teval-rmspe:0.141424\n",
      "[576]\ttrain-rmse:0.102097\teval-rmse:0.134394\ttrain-rmspe:0.101842\teval-rmspe:0.141395\n",
      "[577]\ttrain-rmse:0.102052\teval-rmse:0.134375\ttrain-rmspe:0.101796\teval-rmspe:0.141375\n"
     ]
    },
    {
     "name": "stdout",
     "output_type": "stream",
     "text": [
      "[578]\ttrain-rmse:0.101996\teval-rmse:0.134335\ttrain-rmspe:0.101734\teval-rmspe:0.141337\n",
      "[579]\ttrain-rmse:0.101916\teval-rmse:0.13427\ttrain-rmspe:0.101653\teval-rmspe:0.141274\n",
      "[580]\ttrain-rmse:0.101856\teval-rmse:0.134231\ttrain-rmspe:0.101589\teval-rmspe:0.141234\n",
      "[581]\ttrain-rmse:0.101782\teval-rmse:0.134189\ttrain-rmspe:0.101516\teval-rmspe:0.1412\n",
      "[582]\ttrain-rmse:0.101726\teval-rmse:0.134163\ttrain-rmspe:0.101455\teval-rmspe:0.141177\n",
      "[583]\ttrain-rmse:0.101685\teval-rmse:0.134142\ttrain-rmspe:0.101412\teval-rmspe:0.14116\n",
      "[584]\ttrain-rmse:0.101649\teval-rmse:0.134121\ttrain-rmspe:0.101375\teval-rmspe:0.14114\n",
      "[585]\ttrain-rmse:0.101563\teval-rmse:0.134064\ttrain-rmspe:0.101288\teval-rmspe:0.141086\n",
      "[586]\ttrain-rmse:0.101484\teval-rmse:0.13404\ttrain-rmspe:0.101204\teval-rmspe:0.141074\n",
      "[587]\ttrain-rmse:0.101458\teval-rmse:0.134028\ttrain-rmspe:0.101176\teval-rmspe:0.141067\n",
      "[588]\ttrain-rmse:0.101437\teval-rmse:0.134017\ttrain-rmspe:0.101156\teval-rmspe:0.141056\n",
      "[589]\ttrain-rmse:0.101388\teval-rmse:0.133998\ttrain-rmspe:0.101101\teval-rmspe:0.141038\n",
      "[590]\ttrain-rmse:0.101341\teval-rmse:0.13397\ttrain-rmspe:0.101056\teval-rmspe:0.141014\n",
      "[591]\ttrain-rmse:0.101326\teval-rmse:0.133961\ttrain-rmspe:0.10104\teval-rmspe:0.141006\n",
      "[592]\ttrain-rmse:0.101302\teval-rmse:0.133943\ttrain-rmspe:0.101016\teval-rmspe:0.14099\n",
      "[593]\ttrain-rmse:0.101263\teval-rmse:0.133921\ttrain-rmspe:0.100975\teval-rmspe:0.140962\n",
      "[594]\ttrain-rmse:0.101221\teval-rmse:0.133892\ttrain-rmspe:0.100931\teval-rmspe:0.140935\n",
      "[595]\ttrain-rmse:0.101206\teval-rmse:0.133886\ttrain-rmspe:0.100911\teval-rmspe:0.140928\n",
      "[596]\ttrain-rmse:0.101133\teval-rmse:0.133839\ttrain-rmspe:0.100827\teval-rmspe:0.140877\n",
      "[597]\ttrain-rmse:0.101106\teval-rmse:0.133828\ttrain-rmspe:0.100797\teval-rmspe:0.140872\n",
      "[598]\ttrain-rmse:0.101098\teval-rmse:0.133818\ttrain-rmspe:0.100788\teval-rmspe:0.140861\n",
      "[599]\ttrain-rmse:0.101027\teval-rmse:0.133773\ttrain-rmspe:0.100717\teval-rmspe:0.140808\n",
      "[600]\ttrain-rmse:0.100976\teval-rmse:0.13374\ttrain-rmspe:0.100662\teval-rmspe:0.140773\n",
      "[601]\ttrain-rmse:0.100955\teval-rmse:0.133727\ttrain-rmspe:0.100639\teval-rmspe:0.140761\n",
      "[602]\ttrain-rmse:0.100909\teval-rmse:0.133697\ttrain-rmspe:0.100592\teval-rmspe:0.140734\n",
      "[603]\ttrain-rmse:0.100755\teval-rmse:0.13358\ttrain-rmspe:0.100435\teval-rmspe:0.140622\n",
      "[604]\ttrain-rmse:0.100737\teval-rmse:0.133577\ttrain-rmspe:0.100417\teval-rmspe:0.140617\n",
      "[605]\ttrain-rmse:0.100706\teval-rmse:0.133571\ttrain-rmspe:0.100382\teval-rmspe:0.140611\n",
      "[606]\ttrain-rmse:0.100614\teval-rmse:0.133508\ttrain-rmspe:0.100287\teval-rmspe:0.140554\n",
      "[607]\ttrain-rmse:0.100509\teval-rmse:0.133446\ttrain-rmspe:0.100178\teval-rmspe:0.140497\n",
      "[608]\ttrain-rmse:0.10046\teval-rmse:0.133408\ttrain-rmspe:0.100128\teval-rmspe:0.140461\n",
      "[609]\ttrain-rmse:0.100421\teval-rmse:0.133386\ttrain-rmspe:0.100086\teval-rmspe:0.140438\n",
      "[610]\ttrain-rmse:0.100341\teval-rmse:0.133337\ttrain-rmspe:0.100007\teval-rmspe:0.140396\n",
      "[611]\ttrain-rmse:0.100225\teval-rmse:0.133248\ttrain-rmspe:0.099894\teval-rmspe:0.140314\n",
      "[612]\ttrain-rmse:0.100209\teval-rmse:0.133246\ttrain-rmspe:0.099877\teval-rmspe:0.140313\n",
      "[613]\ttrain-rmse:0.100132\teval-rmse:0.133192\ttrain-rmspe:0.099797\teval-rmspe:0.140261\n",
      "[614]\ttrain-rmse:0.100116\teval-rmse:0.133195\ttrain-rmspe:0.099777\teval-rmspe:0.140266\n",
      "[615]\ttrain-rmse:0.100065\teval-rmse:0.133164\ttrain-rmspe:0.099728\teval-rmspe:0.140241\n",
      "[616]\ttrain-rmse:0.100037\teval-rmse:0.133137\ttrain-rmspe:0.0997\teval-rmspe:0.140212\n",
      "[617]\ttrain-rmse:0.099922\teval-rmse:0.133058\ttrain-rmspe:0.099586\teval-rmspe:0.140138\n",
      "[618]\ttrain-rmse:0.099879\teval-rmse:0.133038\ttrain-rmspe:0.099544\teval-rmspe:0.140121\n",
      "[619]\ttrain-rmse:0.099842\teval-rmse:0.133019\ttrain-rmspe:0.099505\teval-rmspe:0.140102\n",
      "[620]\ttrain-rmse:0.099789\teval-rmse:0.13298\ttrain-rmspe:0.099451\teval-rmspe:0.140063\n",
      "[621]\ttrain-rmse:0.099757\teval-rmse:0.132969\ttrain-rmspe:0.099417\teval-rmspe:0.140049\n",
      "[622]\ttrain-rmse:0.099746\teval-rmse:0.132963\ttrain-rmspe:0.099406\teval-rmspe:0.140042\n",
      "[623]\ttrain-rmse:0.099728\teval-rmse:0.132956\ttrain-rmspe:0.09939\teval-rmspe:0.140039\n",
      "[624]\ttrain-rmse:0.099703\teval-rmse:0.132941\ttrain-rmspe:0.099365\teval-rmspe:0.140024\n",
      "[625]\ttrain-rmse:0.099658\teval-rmse:0.132915\ttrain-rmspe:0.099323\teval-rmspe:0.14\n",
      "[626]\ttrain-rmse:0.099625\teval-rmse:0.132896\ttrain-rmspe:0.09928\teval-rmspe:0.139981\n",
      "[627]\ttrain-rmse:0.099592\teval-rmse:0.132911\ttrain-rmspe:0.099244\teval-rmspe:0.139989\n",
      "[628]\ttrain-rmse:0.099534\teval-rmse:0.132873\ttrain-rmspe:0.099186\teval-rmspe:0.139965\n",
      "[629]\ttrain-rmse:0.099497\teval-rmse:0.132857\ttrain-rmspe:0.099143\teval-rmspe:0.139942\n",
      "[630]\ttrain-rmse:0.09943\teval-rmse:0.132832\ttrain-rmspe:0.099071\teval-rmspe:0.139915\n",
      "[631]\ttrain-rmse:0.099353\teval-rmse:0.132774\ttrain-rmspe:0.098996\teval-rmspe:0.139862\n",
      "[632]\ttrain-rmse:0.099288\teval-rmse:0.13273\ttrain-rmspe:0.098931\teval-rmspe:0.139822\n",
      "[633]\ttrain-rmse:0.099226\teval-rmse:0.132698\ttrain-rmspe:0.098867\teval-rmspe:0.139794\n",
      "[634]\ttrain-rmse:0.099127\teval-rmse:0.132623\ttrain-rmspe:0.098768\teval-rmspe:0.13972\n",
      "[635]\ttrain-rmse:0.099048\teval-rmse:0.132572\ttrain-rmspe:0.098676\teval-rmspe:0.139674\n",
      "[636]\ttrain-rmse:0.099008\teval-rmse:0.132547\ttrain-rmspe:0.098634\teval-rmspe:0.139651\n",
      "[637]\ttrain-rmse:0.098949\teval-rmse:0.132525\ttrain-rmspe:0.098561\teval-rmspe:0.139627\n",
      "[638]\ttrain-rmse:0.098945\teval-rmse:0.132521\ttrain-rmspe:0.098557\teval-rmspe:0.139625\n",
      "[639]\ttrain-rmse:0.098882\teval-rmse:0.132535\ttrain-rmspe:0.098504\teval-rmspe:0.139636\n",
      "[640]\ttrain-rmse:0.098817\teval-rmse:0.132481\ttrain-rmspe:0.098443\teval-rmspe:0.139588\n",
      "[641]\ttrain-rmse:0.09873\teval-rmse:0.132422\ttrain-rmspe:0.098357\teval-rmspe:0.139533\n",
      "[642]\ttrain-rmse:0.098678\teval-rmse:0.13239\ttrain-rmspe:0.098302\teval-rmspe:0.139502\n",
      "[643]\ttrain-rmse:0.098639\teval-rmse:0.132366\ttrain-rmspe:0.09826\teval-rmspe:0.139478\n",
      "[644]\ttrain-rmse:0.098629\teval-rmse:0.132365\ttrain-rmspe:0.09825\teval-rmspe:0.139477\n",
      "[645]\ttrain-rmse:0.098569\teval-rmse:0.132332\ttrain-rmspe:0.098189\teval-rmspe:0.139443\n",
      "[646]\ttrain-rmse:0.09855\teval-rmse:0.132326\ttrain-rmspe:0.098171\teval-rmspe:0.139433\n",
      "[647]\ttrain-rmse:0.098502\teval-rmse:0.132299\ttrain-rmspe:0.098122\teval-rmspe:0.139416\n",
      "[648]\ttrain-rmse:0.098447\teval-rmse:0.132255\ttrain-rmspe:0.098064\teval-rmspe:0.139372\n",
      "[649]\ttrain-rmse:0.098384\teval-rmse:0.132218\ttrain-rmspe:0.098\teval-rmspe:0.139336\n",
      "[650]\ttrain-rmse:0.098295\teval-rmse:0.132148\ttrain-rmspe:0.097915\teval-rmspe:0.139275\n",
      "[651]\ttrain-rmse:0.098212\teval-rmse:0.132093\ttrain-rmspe:0.097832\teval-rmspe:0.139219\n",
      "[652]\ttrain-rmse:0.098157\teval-rmse:0.132064\ttrain-rmspe:0.097769\teval-rmspe:0.139191\n",
      "[653]\ttrain-rmse:0.098132\teval-rmse:0.132049\ttrain-rmspe:0.097741\teval-rmspe:0.139178\n",
      "[654]\ttrain-rmse:0.09812\teval-rmse:0.132043\ttrain-rmspe:0.097729\teval-rmspe:0.139173\n",
      "[655]\ttrain-rmse:0.098056\teval-rmse:0.132015\ttrain-rmspe:0.097665\teval-rmspe:0.13916\n",
      "[656]\ttrain-rmse:0.097991\teval-rmse:0.131973\ttrain-rmspe:0.0976\teval-rmspe:0.139123\n",
      "[657]\ttrain-rmse:0.09794\teval-rmse:0.131954\ttrain-rmspe:0.097553\teval-rmspe:0.1391\n",
      "[658]\ttrain-rmse:0.097907\teval-rmse:0.131937\ttrain-rmspe:0.097521\teval-rmspe:0.139079\n",
      "[659]\ttrain-rmse:0.097852\teval-rmse:0.131944\ttrain-rmspe:0.097464\teval-rmspe:0.13911\n",
      "[660]\ttrain-rmse:0.097808\teval-rmse:0.13192\ttrain-rmspe:0.097419\teval-rmspe:0.139089\n",
      "[661]\ttrain-rmse:0.097792\teval-rmse:0.131912\ttrain-rmspe:0.097403\teval-rmspe:0.139079\n",
      "[662]\ttrain-rmse:0.097716\teval-rmse:0.131864\ttrain-rmspe:0.097328\teval-rmspe:0.139033\n",
      "[663]\ttrain-rmse:0.097673\teval-rmse:0.131834\ttrain-rmspe:0.097285\teval-rmspe:0.139004\n",
      "[664]\ttrain-rmse:0.097615\teval-rmse:0.131794\ttrain-rmspe:0.097226\teval-rmspe:0.138966\n",
      "[665]\ttrain-rmse:0.097534\teval-rmse:0.13174\ttrain-rmspe:0.097147\teval-rmspe:0.138922\n",
      "[666]\ttrain-rmse:0.097495\teval-rmse:0.131718\ttrain-rmspe:0.097107\teval-rmspe:0.138903\n",
      "[667]\ttrain-rmse:0.097473\teval-rmse:0.13171\ttrain-rmspe:0.097084\teval-rmspe:0.138897\n",
      "[668]\ttrain-rmse:0.097425\teval-rmse:0.131695\ttrain-rmspe:0.097037\teval-rmspe:0.138873\n",
      "[669]\ttrain-rmse:0.097386\teval-rmse:0.131664\ttrain-rmspe:0.097\teval-rmspe:0.138846\n",
      "[670]\ttrain-rmse:0.097361\teval-rmse:0.131653\ttrain-rmspe:0.096976\teval-rmspe:0.138834\n",
      "[671]\ttrain-rmse:0.097296\teval-rmse:0.131611\ttrain-rmspe:0.09691\teval-rmspe:0.138795\n",
      "[672]\ttrain-rmse:0.097278\teval-rmse:0.131598\ttrain-rmspe:0.09689\teval-rmspe:0.138783\n",
      "[673]\ttrain-rmse:0.097251\teval-rmse:0.13162\ttrain-rmspe:0.096863\teval-rmspe:0.13879\n"
     ]
    },
    {
     "name": "stdout",
     "output_type": "stream",
     "text": [
      "[674]\ttrain-rmse:0.097231\teval-rmse:0.131598\ttrain-rmspe:0.096843\teval-rmspe:0.13877\n",
      "[675]\ttrain-rmse:0.097191\teval-rmse:0.131572\ttrain-rmspe:0.096803\teval-rmspe:0.138746\n",
      "[676]\ttrain-rmse:0.097148\teval-rmse:0.131572\ttrain-rmspe:0.096776\teval-rmspe:0.13875\n",
      "[677]\ttrain-rmse:0.097112\teval-rmse:0.131552\ttrain-rmspe:0.096737\teval-rmspe:0.138736\n",
      "[678]\ttrain-rmse:0.097094\teval-rmse:0.13154\ttrain-rmspe:0.096719\teval-rmspe:0.138724\n",
      "[679]\ttrain-rmse:0.097057\teval-rmse:0.131517\ttrain-rmspe:0.096683\teval-rmspe:0.138703\n",
      "[680]\ttrain-rmse:0.097016\teval-rmse:0.13149\ttrain-rmspe:0.096641\teval-rmspe:0.13868\n",
      "[681]\ttrain-rmse:0.096952\teval-rmse:0.131457\ttrain-rmspe:0.096579\teval-rmspe:0.138652\n",
      "[682]\ttrain-rmse:0.096927\teval-rmse:0.131439\ttrain-rmspe:0.096555\teval-rmspe:0.138637\n",
      "[683]\ttrain-rmse:0.096879\teval-rmse:0.13144\ttrain-rmspe:0.096509\teval-rmspe:0.138646\n",
      "[684]\ttrain-rmse:0.096801\teval-rmse:0.131386\ttrain-rmspe:0.096434\teval-rmspe:0.138603\n",
      "[685]\ttrain-rmse:0.096755\teval-rmse:0.131359\ttrain-rmspe:0.09639\teval-rmspe:0.138581\n",
      "[686]\ttrain-rmse:0.096699\teval-rmse:0.131334\ttrain-rmspe:0.09633\teval-rmspe:0.138559\n",
      "[687]\ttrain-rmse:0.096638\teval-rmse:0.131302\ttrain-rmspe:0.096269\teval-rmspe:0.138528\n",
      "[688]\ttrain-rmse:0.096565\teval-rmse:0.131264\ttrain-rmspe:0.096189\teval-rmspe:0.138493\n",
      "[689]\ttrain-rmse:0.096529\teval-rmse:0.131256\ttrain-rmspe:0.096152\teval-rmspe:0.138484\n",
      "[690]\ttrain-rmse:0.096521\teval-rmse:0.131253\ttrain-rmspe:0.096143\teval-rmspe:0.138485\n",
      "[691]\ttrain-rmse:0.096495\teval-rmse:0.131247\ttrain-rmspe:0.096118\teval-rmspe:0.138469\n",
      "[692]\ttrain-rmse:0.096435\teval-rmse:0.131205\ttrain-rmspe:0.096058\teval-rmspe:0.138431\n",
      "[693]\ttrain-rmse:0.096343\teval-rmse:0.131143\ttrain-rmspe:0.095969\teval-rmspe:0.138376\n",
      "[694]\ttrain-rmse:0.096303\teval-rmse:0.131123\ttrain-rmspe:0.095929\teval-rmspe:0.13836\n",
      "[695]\ttrain-rmse:0.096291\teval-rmse:0.131117\ttrain-rmspe:0.095917\teval-rmspe:0.138355\n",
      "[696]\ttrain-rmse:0.096256\teval-rmse:0.131105\ttrain-rmspe:0.09588\teval-rmspe:0.138349\n",
      "[697]\ttrain-rmse:0.096246\teval-rmse:0.131098\ttrain-rmspe:0.095869\teval-rmspe:0.138341\n",
      "[698]\ttrain-rmse:0.096225\teval-rmse:0.131095\ttrain-rmspe:0.095844\teval-rmspe:0.138336\n",
      "[699]\ttrain-rmse:0.096188\teval-rmse:0.13108\ttrain-rmspe:0.095802\teval-rmspe:0.138319\n",
      "[700]\ttrain-rmse:0.096153\teval-rmse:0.131069\ttrain-rmspe:0.095766\teval-rmspe:0.138304\n",
      "[701]\ttrain-rmse:0.096096\teval-rmse:0.131031\ttrain-rmspe:0.095711\teval-rmspe:0.138269\n",
      "[702]\ttrain-rmse:0.096051\teval-rmse:0.13103\ttrain-rmspe:0.095675\teval-rmspe:0.138266\n",
      "[703]\ttrain-rmse:0.096023\teval-rmse:0.131034\ttrain-rmspe:0.095645\teval-rmspe:0.138265\n",
      "[704]\ttrain-rmse:0.095978\teval-rmse:0.131008\ttrain-rmspe:0.095593\teval-rmspe:0.138241\n",
      "[705]\ttrain-rmse:0.095915\teval-rmse:0.130972\ttrain-rmspe:0.095528\teval-rmspe:0.138207\n",
      "[706]\ttrain-rmse:0.095901\teval-rmse:0.130968\ttrain-rmspe:0.095514\teval-rmspe:0.138204\n",
      "[707]\ttrain-rmse:0.095821\teval-rmse:0.130921\ttrain-rmspe:0.095424\teval-rmspe:0.138159\n",
      "[708]\ttrain-rmse:0.095794\teval-rmse:0.130904\ttrain-rmspe:0.095396\teval-rmspe:0.138143\n",
      "[709]\ttrain-rmse:0.09572\teval-rmse:0.130867\ttrain-rmspe:0.095317\teval-rmspe:0.138113\n",
      "[710]\ttrain-rmse:0.095685\teval-rmse:0.130853\ttrain-rmspe:0.09528\teval-rmspe:0.138098\n",
      "[711]\ttrain-rmse:0.095663\teval-rmse:0.130841\ttrain-rmspe:0.095255\teval-rmspe:0.138085\n",
      "[712]\ttrain-rmse:0.095636\teval-rmse:0.130825\ttrain-rmspe:0.095227\teval-rmspe:0.138068\n",
      "[713]\ttrain-rmse:0.095542\teval-rmse:0.130755\ttrain-rmspe:0.095135\teval-rmspe:0.138008\n",
      "[714]\ttrain-rmse:0.095531\teval-rmse:0.130749\ttrain-rmspe:0.095124\teval-rmspe:0.138002\n",
      "[715]\ttrain-rmse:0.095497\teval-rmse:0.130734\ttrain-rmspe:0.095089\teval-rmspe:0.137987\n",
      "[716]\ttrain-rmse:0.095461\teval-rmse:0.130703\ttrain-rmspe:0.095045\teval-rmspe:0.137951\n",
      "[717]\ttrain-rmse:0.095416\teval-rmse:0.130681\ttrain-rmspe:0.095\teval-rmspe:0.137927\n",
      "[718]\ttrain-rmse:0.095393\teval-rmse:0.130667\ttrain-rmspe:0.094977\teval-rmspe:0.137914\n",
      "[719]\ttrain-rmse:0.095358\teval-rmse:0.130646\ttrain-rmspe:0.094939\teval-rmspe:0.137894\n",
      "[720]\ttrain-rmse:0.095289\teval-rmse:0.130657\ttrain-rmspe:0.094878\teval-rmspe:0.137886\n",
      "[721]\ttrain-rmse:0.095277\teval-rmse:0.130652\ttrain-rmspe:0.094866\teval-rmspe:0.137869\n",
      "[722]\ttrain-rmse:0.09523\teval-rmse:0.130633\ttrain-rmspe:0.094823\teval-rmspe:0.13785\n",
      "[723]\ttrain-rmse:0.095189\teval-rmse:0.130607\ttrain-rmspe:0.094779\teval-rmspe:0.13783\n",
      "[724]\ttrain-rmse:0.095165\teval-rmse:0.130596\ttrain-rmspe:0.094756\teval-rmspe:0.13782\n",
      "[725]\ttrain-rmse:0.095095\teval-rmse:0.130562\ttrain-rmspe:0.094688\teval-rmspe:0.137789\n",
      "[726]\ttrain-rmse:0.095057\teval-rmse:0.130551\ttrain-rmspe:0.094643\teval-rmspe:0.137779\n",
      "[727]\ttrain-rmse:0.095042\teval-rmse:0.13055\ttrain-rmspe:0.09463\teval-rmspe:0.137776\n",
      "[728]\ttrain-rmse:0.095023\teval-rmse:0.13054\ttrain-rmspe:0.09461\teval-rmspe:0.137764\n",
      "[729]\ttrain-rmse:0.094986\teval-rmse:0.13059\ttrain-rmspe:0.094574\teval-rmspe:0.137797\n",
      "[730]\ttrain-rmse:0.094954\teval-rmse:0.130573\ttrain-rmspe:0.094534\teval-rmspe:0.137783\n",
      "[731]\ttrain-rmse:0.094944\teval-rmse:0.130567\ttrain-rmspe:0.094526\teval-rmspe:0.137777\n",
      "[732]\ttrain-rmse:0.0949\teval-rmse:0.130542\ttrain-rmspe:0.094483\teval-rmspe:0.137754\n",
      "[733]\ttrain-rmse:0.094891\teval-rmse:0.13054\ttrain-rmspe:0.094474\teval-rmspe:0.137752\n",
      "[734]\ttrain-rmse:0.094802\teval-rmse:0.130575\ttrain-rmspe:0.094404\teval-rmspe:0.137742\n",
      "[735]\ttrain-rmse:0.094741\teval-rmse:0.130539\ttrain-rmspe:0.094346\teval-rmspe:0.137713\n",
      "[736]\ttrain-rmse:0.094672\teval-rmse:0.130522\ttrain-rmspe:0.094286\teval-rmspe:0.137696\n",
      "[737]\ttrain-rmse:0.094611\teval-rmse:0.130482\ttrain-rmspe:0.094222\teval-rmspe:0.137649\n",
      "[738]\ttrain-rmse:0.09457\teval-rmse:0.130472\ttrain-rmspe:0.09418\teval-rmspe:0.137636\n",
      "[739]\ttrain-rmse:0.094529\teval-rmse:0.130463\ttrain-rmspe:0.09414\teval-rmspe:0.137629\n",
      "[740]\ttrain-rmse:0.094482\teval-rmse:0.130437\ttrain-rmspe:0.094084\teval-rmspe:0.137605\n",
      "[741]\ttrain-rmse:0.094433\teval-rmse:0.130415\ttrain-rmspe:0.094032\teval-rmspe:0.137583\n",
      "[742]\ttrain-rmse:0.094414\teval-rmse:0.130404\ttrain-rmspe:0.094007\teval-rmspe:0.137574\n",
      "[743]\ttrain-rmse:0.094347\teval-rmse:0.13037\ttrain-rmspe:0.093932\teval-rmspe:0.137545\n",
      "[744]\ttrain-rmse:0.094338\teval-rmse:0.130366\ttrain-rmspe:0.093923\teval-rmspe:0.137546\n",
      "[745]\ttrain-rmse:0.094282\teval-rmse:0.130331\ttrain-rmspe:0.093866\teval-rmspe:0.137515\n",
      "[746]\ttrain-rmse:0.09426\teval-rmse:0.130321\ttrain-rmspe:0.093843\teval-rmspe:0.137507\n",
      "[747]\ttrain-rmse:0.094222\teval-rmse:0.130327\ttrain-rmspe:0.093807\teval-rmspe:0.13752\n",
      "[748]\ttrain-rmse:0.094214\teval-rmse:0.130323\ttrain-rmspe:0.093798\teval-rmspe:0.137515\n",
      "[749]\ttrain-rmse:0.094169\teval-rmse:0.130314\ttrain-rmspe:0.093755\teval-rmspe:0.137505\n",
      "[750]\ttrain-rmse:0.094123\teval-rmse:0.130289\ttrain-rmspe:0.093704\teval-rmspe:0.137478\n",
      "[751]\ttrain-rmse:0.094092\teval-rmse:0.130277\ttrain-rmspe:0.093673\teval-rmspe:0.137471\n",
      "[752]\ttrain-rmse:0.094076\teval-rmse:0.130266\ttrain-rmspe:0.093658\teval-rmspe:0.137463\n",
      "[753]\ttrain-rmse:0.094063\teval-rmse:0.130266\ttrain-rmspe:0.093646\teval-rmspe:0.137466\n",
      "[754]\ttrain-rmse:0.094042\teval-rmse:0.13026\ttrain-rmspe:0.093624\teval-rmspe:0.137465\n",
      "[755]\ttrain-rmse:0.094\teval-rmse:0.130297\ttrain-rmspe:0.093579\teval-rmspe:0.137482\n",
      "[756]\ttrain-rmse:0.093957\teval-rmse:0.130277\ttrain-rmspe:0.093531\teval-rmspe:0.137459\n",
      "[757]\ttrain-rmse:0.093893\teval-rmse:0.130241\ttrain-rmspe:0.093467\teval-rmspe:0.137424\n",
      "[758]\ttrain-rmse:0.093863\teval-rmse:0.130233\ttrain-rmspe:0.093432\teval-rmspe:0.137414\n",
      "[759]\ttrain-rmse:0.093839\teval-rmse:0.130226\ttrain-rmspe:0.093397\teval-rmspe:0.137405\n",
      "[760]\ttrain-rmse:0.093809\teval-rmse:0.130209\ttrain-rmspe:0.093367\teval-rmspe:0.13739\n",
      "[761]\ttrain-rmse:0.093778\teval-rmse:0.130193\ttrain-rmspe:0.093331\teval-rmspe:0.13738\n",
      "[762]\ttrain-rmse:0.093756\teval-rmse:0.130189\ttrain-rmspe:0.093307\teval-rmspe:0.137376\n",
      "[763]\ttrain-rmse:0.093746\teval-rmse:0.130183\ttrain-rmspe:0.093295\teval-rmspe:0.137369\n",
      "[764]\ttrain-rmse:0.093691\teval-rmse:0.130158\ttrain-rmspe:0.093236\teval-rmspe:0.137353\n",
      "[765]\ttrain-rmse:0.093668\teval-rmse:0.130161\ttrain-rmspe:0.093209\teval-rmspe:0.137355\n",
      "[766]\ttrain-rmse:0.09363\teval-rmse:0.130141\ttrain-rmspe:0.093171\teval-rmspe:0.137338\n",
      "[767]\ttrain-rmse:0.093589\teval-rmse:0.13012\ttrain-rmspe:0.093126\teval-rmspe:0.137318\n",
      "[768]\ttrain-rmse:0.093547\teval-rmse:0.130099\ttrain-rmspe:0.093084\teval-rmspe:0.137299\n",
      "[769]\ttrain-rmse:0.093493\teval-rmse:0.130069\ttrain-rmspe:0.093027\teval-rmspe:0.137272\n"
     ]
    },
    {
     "name": "stdout",
     "output_type": "stream",
     "text": [
      "[770]\ttrain-rmse:0.093452\teval-rmse:0.130037\ttrain-rmspe:0.092987\teval-rmspe:0.137242\n",
      "[771]\ttrain-rmse:0.093439\teval-rmse:0.130043\ttrain-rmspe:0.092975\teval-rmspe:0.137252\n",
      "[772]\ttrain-rmse:0.093416\teval-rmse:0.130027\ttrain-rmspe:0.092953\teval-rmspe:0.137236\n",
      "[773]\ttrain-rmse:0.093396\teval-rmse:0.130024\ttrain-rmspe:0.092936\teval-rmspe:0.137232\n",
      "[774]\ttrain-rmse:0.093345\teval-rmse:0.130005\ttrain-rmspe:0.092883\teval-rmspe:0.137217\n",
      "[775]\ttrain-rmse:0.093321\teval-rmse:0.129996\ttrain-rmspe:0.092858\teval-rmspe:0.137204\n",
      "[776]\ttrain-rmse:0.093265\teval-rmse:0.129988\ttrain-rmspe:0.092811\teval-rmspe:0.137196\n",
      "[777]\ttrain-rmse:0.093214\teval-rmse:0.129969\ttrain-rmspe:0.092757\teval-rmspe:0.137176\n",
      "[778]\ttrain-rmse:0.09319\teval-rmse:0.129951\ttrain-rmspe:0.092731\teval-rmspe:0.137158\n",
      "[779]\ttrain-rmse:0.093172\teval-rmse:0.129943\ttrain-rmspe:0.092711\teval-rmspe:0.137152\n",
      "[780]\ttrain-rmse:0.093145\teval-rmse:0.12993\ttrain-rmspe:0.092685\teval-rmspe:0.137146\n",
      "[781]\ttrain-rmse:0.093111\teval-rmse:0.129924\ttrain-rmspe:0.092652\teval-rmspe:0.137141\n",
      "[782]\ttrain-rmse:0.093092\teval-rmse:0.129917\ttrain-rmspe:0.092635\teval-rmspe:0.137139\n",
      "[783]\ttrain-rmse:0.093074\teval-rmse:0.129908\ttrain-rmspe:0.092616\teval-rmspe:0.13713\n",
      "[784]\ttrain-rmse:0.093056\teval-rmse:0.129896\ttrain-rmspe:0.092594\teval-rmspe:0.137119\n",
      "[785]\ttrain-rmse:0.093039\teval-rmse:0.129889\ttrain-rmspe:0.092578\teval-rmspe:0.137114\n",
      "[786]\ttrain-rmse:0.093001\teval-rmse:0.12987\ttrain-rmspe:0.092541\teval-rmspe:0.137097\n",
      "[787]\ttrain-rmse:0.092969\teval-rmse:0.129853\ttrain-rmspe:0.09251\teval-rmspe:0.137094\n",
      "[788]\ttrain-rmse:0.092919\teval-rmse:0.129822\ttrain-rmspe:0.092456\teval-rmspe:0.137065\n",
      "[789]\ttrain-rmse:0.092873\teval-rmse:0.129786\ttrain-rmspe:0.092409\teval-rmspe:0.137033\n",
      "[790]\ttrain-rmse:0.09286\teval-rmse:0.129772\ttrain-rmspe:0.092389\teval-rmspe:0.137013\n",
      "[791]\ttrain-rmse:0.092836\teval-rmse:0.129762\ttrain-rmspe:0.092362\teval-rmspe:0.137006\n",
      "[792]\ttrain-rmse:0.092777\teval-rmse:0.129746\ttrain-rmspe:0.092304\teval-rmspe:0.137005\n",
      "[793]\ttrain-rmse:0.092717\teval-rmse:0.129709\ttrain-rmspe:0.092242\teval-rmspe:0.136971\n",
      "[794]\ttrain-rmse:0.092693\teval-rmse:0.129704\ttrain-rmspe:0.092219\teval-rmspe:0.136967\n",
      "[795]\ttrain-rmse:0.092646\teval-rmse:0.12967\ttrain-rmspe:0.092172\teval-rmspe:0.136931\n",
      "[796]\ttrain-rmse:0.092604\teval-rmse:0.129685\ttrain-rmspe:0.092135\teval-rmspe:0.136941\n",
      "[797]\ttrain-rmse:0.092555\teval-rmse:0.129657\ttrain-rmspe:0.092088\teval-rmspe:0.136914\n",
      "[798]\ttrain-rmse:0.092539\teval-rmse:0.129646\ttrain-rmspe:0.092072\teval-rmspe:0.136904\n",
      "[799]\ttrain-rmse:0.092508\teval-rmse:0.129629\ttrain-rmspe:0.092038\teval-rmspe:0.136888\n",
      "[800]\ttrain-rmse:0.092476\teval-rmse:0.129615\ttrain-rmspe:0.092004\teval-rmspe:0.136873\n",
      "[801]\ttrain-rmse:0.092436\teval-rmse:0.129601\ttrain-rmspe:0.091961\teval-rmspe:0.136858\n",
      "[802]\ttrain-rmse:0.092395\teval-rmse:0.129579\ttrain-rmspe:0.091914\teval-rmspe:0.13684\n",
      "[803]\ttrain-rmse:0.092371\teval-rmse:0.129576\ttrain-rmspe:0.091887\teval-rmspe:0.136842\n",
      "[804]\ttrain-rmse:0.092323\teval-rmse:0.129562\ttrain-rmspe:0.091836\teval-rmspe:0.136829\n",
      "[805]\ttrain-rmse:0.092282\teval-rmse:0.129568\ttrain-rmspe:0.091796\teval-rmspe:0.13684\n",
      "[806]\ttrain-rmse:0.092261\teval-rmse:0.129558\ttrain-rmspe:0.091776\teval-rmspe:0.136829\n",
      "[807]\ttrain-rmse:0.092243\teval-rmse:0.129548\ttrain-rmspe:0.091756\teval-rmspe:0.136821\n",
      "[808]\ttrain-rmse:0.092217\teval-rmse:0.129533\ttrain-rmspe:0.091727\teval-rmspe:0.136809\n",
      "[809]\ttrain-rmse:0.092165\teval-rmse:0.129499\ttrain-rmspe:0.091674\teval-rmspe:0.136775\n",
      "[810]\ttrain-rmse:0.092116\teval-rmse:0.129466\ttrain-rmspe:0.091626\teval-rmspe:0.136749\n",
      "[811]\ttrain-rmse:0.092106\teval-rmse:0.129466\ttrain-rmspe:0.091615\teval-rmspe:0.136749\n",
      "[812]\ttrain-rmse:0.092079\teval-rmse:0.129448\ttrain-rmspe:0.091588\teval-rmspe:0.136734\n",
      "[813]\ttrain-rmse:0.092062\teval-rmse:0.12945\ttrain-rmspe:0.091572\teval-rmspe:0.136742\n",
      "[814]\ttrain-rmse:0.092021\teval-rmse:0.129439\ttrain-rmspe:0.091533\teval-rmspe:0.13674\n",
      "[815]\ttrain-rmse:0.091992\teval-rmse:0.129417\ttrain-rmspe:0.091504\teval-rmspe:0.136715\n",
      "[816]\ttrain-rmse:0.091953\teval-rmse:0.129396\ttrain-rmspe:0.091464\teval-rmspe:0.136695\n",
      "[817]\ttrain-rmse:0.091934\teval-rmse:0.129384\ttrain-rmspe:0.091446\teval-rmspe:0.136683\n",
      "[818]\ttrain-rmse:0.091897\teval-rmse:0.129359\ttrain-rmspe:0.091408\teval-rmspe:0.13666\n",
      "[819]\ttrain-rmse:0.091867\teval-rmse:0.129345\ttrain-rmspe:0.091378\teval-rmspe:0.136646\n",
      "[820]\ttrain-rmse:0.091832\teval-rmse:0.129328\ttrain-rmspe:0.09134\teval-rmspe:0.136636\n",
      "[821]\ttrain-rmse:0.091809\teval-rmse:0.129315\ttrain-rmspe:0.091318\teval-rmspe:0.136624\n",
      "[822]\ttrain-rmse:0.091795\teval-rmse:0.129306\ttrain-rmspe:0.091301\teval-rmspe:0.136618\n",
      "[823]\ttrain-rmse:0.09175\teval-rmse:0.12928\ttrain-rmspe:0.091257\teval-rmspe:0.1366\n",
      "[824]\ttrain-rmse:0.091712\teval-rmse:0.129254\ttrain-rmspe:0.091219\teval-rmspe:0.136576\n",
      "[825]\ttrain-rmse:0.091693\teval-rmse:0.129261\ttrain-rmspe:0.091197\teval-rmspe:0.136584\n",
      "[826]\ttrain-rmse:0.091677\teval-rmse:0.129251\ttrain-rmspe:0.091177\teval-rmspe:0.136577\n",
      "[827]\ttrain-rmse:0.09166\teval-rmse:0.129236\ttrain-rmspe:0.09116\teval-rmspe:0.136564\n",
      "[828]\ttrain-rmse:0.091624\teval-rmse:0.129203\ttrain-rmspe:0.091123\teval-rmspe:0.136523\n",
      "[829]\ttrain-rmse:0.091598\teval-rmse:0.12919\ttrain-rmspe:0.091095\teval-rmspe:0.13651\n",
      "[830]\ttrain-rmse:0.091579\teval-rmse:0.129172\ttrain-rmspe:0.091076\teval-rmspe:0.136492\n",
      "[831]\ttrain-rmse:0.091532\teval-rmse:0.129148\ttrain-rmspe:0.091027\teval-rmspe:0.136467\n",
      "[832]\ttrain-rmse:0.091495\teval-rmse:0.129138\ttrain-rmspe:0.090984\teval-rmspe:0.136456\n",
      "[833]\ttrain-rmse:0.091478\teval-rmse:0.129124\ttrain-rmspe:0.090967\teval-rmspe:0.136441\n",
      "[834]\ttrain-rmse:0.091464\teval-rmse:0.129117\ttrain-rmspe:0.090955\teval-rmspe:0.136434\n",
      "[835]\ttrain-rmse:0.091428\teval-rmse:0.129089\ttrain-rmspe:0.09092\teval-rmspe:0.13641\n",
      "[836]\ttrain-rmse:0.091391\teval-rmse:0.129106\ttrain-rmspe:0.090882\teval-rmspe:0.136447\n",
      "[837]\ttrain-rmse:0.091373\teval-rmse:0.129096\ttrain-rmspe:0.090865\teval-rmspe:0.136437\n",
      "[838]\ttrain-rmse:0.091359\teval-rmse:0.12909\ttrain-rmspe:0.09085\teval-rmspe:0.136432\n",
      "[839]\ttrain-rmse:0.091318\teval-rmse:0.12907\ttrain-rmspe:0.090808\teval-rmspe:0.13641\n",
      "[840]\ttrain-rmse:0.091296\teval-rmse:0.129052\ttrain-rmspe:0.090786\teval-rmspe:0.136387\n",
      "[841]\ttrain-rmse:0.091277\teval-rmse:0.129039\ttrain-rmspe:0.090766\teval-rmspe:0.136376\n",
      "[842]\ttrain-rmse:0.091249\teval-rmse:0.12902\ttrain-rmspe:0.090737\teval-rmspe:0.136358\n",
      "[843]\ttrain-rmse:0.091217\teval-rmse:0.129004\ttrain-rmspe:0.090701\teval-rmspe:0.136345\n",
      "[844]\ttrain-rmse:0.091192\teval-rmse:0.128994\ttrain-rmspe:0.090675\teval-rmspe:0.136336\n",
      "[845]\ttrain-rmse:0.091171\teval-rmse:0.128983\ttrain-rmspe:0.090655\teval-rmspe:0.136328\n",
      "[846]\ttrain-rmse:0.091137\teval-rmse:0.128974\ttrain-rmspe:0.090628\teval-rmspe:0.136318\n",
      "[847]\ttrain-rmse:0.091107\teval-rmse:0.128957\ttrain-rmspe:0.090595\teval-rmspe:0.136301\n",
      "[848]\ttrain-rmse:0.091096\teval-rmse:0.128944\ttrain-rmspe:0.090584\teval-rmspe:0.136291\n",
      "[849]\ttrain-rmse:0.09108\teval-rmse:0.128941\ttrain-rmspe:0.090569\teval-rmspe:0.136292\n",
      "[850]\ttrain-rmse:0.09105\teval-rmse:0.12893\ttrain-rmspe:0.090538\teval-rmspe:0.136285\n",
      "[851]\ttrain-rmse:0.091028\teval-rmse:0.128916\ttrain-rmspe:0.090516\teval-rmspe:0.136275\n",
      "[852]\ttrain-rmse:0.090999\teval-rmse:0.128899\ttrain-rmspe:0.090486\teval-rmspe:0.136257\n",
      "[853]\ttrain-rmse:0.090976\teval-rmse:0.128895\ttrain-rmspe:0.090459\teval-rmspe:0.136251\n",
      "[854]\ttrain-rmse:0.090941\teval-rmse:0.128892\ttrain-rmspe:0.090423\teval-rmspe:0.136253\n",
      "[855]\ttrain-rmse:0.090909\teval-rmse:0.128871\ttrain-rmspe:0.090392\teval-rmspe:0.136236\n",
      "[856]\ttrain-rmse:0.090853\teval-rmse:0.128838\ttrain-rmspe:0.090333\teval-rmspe:0.136208\n",
      "[857]\ttrain-rmse:0.090829\teval-rmse:0.128848\ttrain-rmspe:0.090305\teval-rmspe:0.136221\n",
      "[858]\ttrain-rmse:0.090791\teval-rmse:0.128856\ttrain-rmspe:0.090267\teval-rmspe:0.136243\n",
      "[859]\ttrain-rmse:0.090768\teval-rmse:0.12886\ttrain-rmspe:0.090245\teval-rmspe:0.136243\n",
      "[860]\ttrain-rmse:0.090747\teval-rmse:0.128864\ttrain-rmspe:0.090223\teval-rmspe:0.136249\n",
      "[861]\ttrain-rmse:0.090713\teval-rmse:0.128855\ttrain-rmspe:0.090193\teval-rmspe:0.136243\n",
      "[862]\ttrain-rmse:0.09069\teval-rmse:0.128849\ttrain-rmspe:0.09017\teval-rmspe:0.136239\n",
      "[863]\ttrain-rmse:0.09067\teval-rmse:0.128847\ttrain-rmspe:0.090153\teval-rmspe:0.136238\n",
      "[864]\ttrain-rmse:0.090632\teval-rmse:0.128831\ttrain-rmspe:0.090112\teval-rmspe:0.136219\n",
      "[865]\ttrain-rmse:0.090625\teval-rmse:0.12883\ttrain-rmspe:0.090105\teval-rmspe:0.136219\n"
     ]
    },
    {
     "name": "stdout",
     "output_type": "stream",
     "text": [
      "[866]\ttrain-rmse:0.090604\teval-rmse:0.128816\ttrain-rmspe:0.090085\teval-rmspe:0.136212\n",
      "[867]\ttrain-rmse:0.09059\teval-rmse:0.128809\ttrain-rmspe:0.09007\teval-rmspe:0.136205\n",
      "[868]\ttrain-rmse:0.090556\teval-rmse:0.128797\ttrain-rmspe:0.090032\teval-rmspe:0.136189\n",
      "[869]\ttrain-rmse:0.090533\teval-rmse:0.128782\ttrain-rmspe:0.090008\teval-rmspe:0.136176\n",
      "[870]\ttrain-rmse:0.090504\teval-rmse:0.128767\ttrain-rmspe:0.089981\teval-rmspe:0.136163\n",
      "[871]\ttrain-rmse:0.090464\teval-rmse:0.128748\ttrain-rmspe:0.089941\teval-rmspe:0.136147\n",
      "[872]\ttrain-rmse:0.090435\teval-rmse:0.128737\ttrain-rmspe:0.08991\teval-rmspe:0.136136\n",
      "[873]\ttrain-rmse:0.090413\teval-rmse:0.128727\ttrain-rmspe:0.089883\teval-rmspe:0.136124\n",
      "[874]\ttrain-rmse:0.090392\teval-rmse:0.128714\ttrain-rmspe:0.089862\teval-rmspe:0.136114\n",
      "[875]\ttrain-rmse:0.090367\teval-rmse:0.12871\ttrain-rmspe:0.089835\teval-rmspe:0.136112\n",
      "[876]\ttrain-rmse:0.090352\teval-rmse:0.128703\ttrain-rmspe:0.089821\teval-rmspe:0.136108\n",
      "[877]\ttrain-rmse:0.09032\teval-rmse:0.128682\ttrain-rmspe:0.089789\teval-rmspe:0.136085\n",
      "[878]\ttrain-rmse:0.090302\teval-rmse:0.128674\ttrain-rmspe:0.089768\teval-rmspe:0.136074\n",
      "[879]\ttrain-rmse:0.090271\teval-rmse:0.128661\ttrain-rmspe:0.089736\teval-rmspe:0.136063\n",
      "[880]\ttrain-rmse:0.090234\teval-rmse:0.128638\ttrain-rmspe:0.089694\teval-rmspe:0.136042\n",
      "[881]\ttrain-rmse:0.090194\teval-rmse:0.12862\ttrain-rmspe:0.089654\teval-rmspe:0.136027\n",
      "[882]\ttrain-rmse:0.09017\teval-rmse:0.128611\ttrain-rmspe:0.089629\teval-rmspe:0.136017\n",
      "[883]\ttrain-rmse:0.090158\teval-rmse:0.128607\ttrain-rmspe:0.089618\teval-rmspe:0.136013\n",
      "[884]\ttrain-rmse:0.090132\teval-rmse:0.128594\ttrain-rmspe:0.089594\teval-rmspe:0.136001\n",
      "[885]\ttrain-rmse:0.090112\teval-rmse:0.128591\ttrain-rmspe:0.089571\teval-rmspe:0.135994\n",
      "[886]\ttrain-rmse:0.09008\teval-rmse:0.12858\ttrain-rmspe:0.089536\teval-rmspe:0.135983\n",
      "[887]\ttrain-rmse:0.090063\teval-rmse:0.128575\ttrain-rmspe:0.089519\teval-rmspe:0.135978\n",
      "[888]\ttrain-rmse:0.090039\teval-rmse:0.128558\ttrain-rmspe:0.089493\teval-rmspe:0.135963\n",
      "[889]\ttrain-rmse:0.089999\teval-rmse:0.128543\ttrain-rmspe:0.089453\teval-rmspe:0.135945\n",
      "[890]\ttrain-rmse:0.089979\teval-rmse:0.128536\ttrain-rmspe:0.089431\teval-rmspe:0.13594\n",
      "[891]\ttrain-rmse:0.089951\teval-rmse:0.128528\ttrain-rmspe:0.089397\teval-rmspe:0.13593\n",
      "[892]\ttrain-rmse:0.089943\teval-rmse:0.128526\ttrain-rmspe:0.089388\teval-rmspe:0.135927\n",
      "[893]\ttrain-rmse:0.089912\teval-rmse:0.128516\ttrain-rmspe:0.089352\teval-rmspe:0.135913\n",
      "[894]\ttrain-rmse:0.089898\teval-rmse:0.128508\ttrain-rmspe:0.089338\teval-rmspe:0.135904\n",
      "[895]\ttrain-rmse:0.089887\teval-rmse:0.128508\ttrain-rmspe:0.089327\teval-rmspe:0.135903\n",
      "[896]\ttrain-rmse:0.089844\teval-rmse:0.128485\ttrain-rmspe:0.089283\teval-rmspe:0.135884\n",
      "[897]\ttrain-rmse:0.089812\teval-rmse:0.128496\ttrain-rmspe:0.089248\teval-rmspe:0.135878\n",
      "[898]\ttrain-rmse:0.089759\teval-rmse:0.128462\ttrain-rmspe:0.089193\teval-rmspe:0.135849\n",
      "[899]\ttrain-rmse:0.089737\teval-rmse:0.128464\ttrain-rmspe:0.089166\teval-rmspe:0.135855\n",
      "[900]\ttrain-rmse:0.089725\teval-rmse:0.12846\ttrain-rmspe:0.089154\teval-rmspe:0.135849\n",
      "[901]\ttrain-rmse:0.08969\teval-rmse:0.128441\ttrain-rmspe:0.089118\teval-rmspe:0.135831\n",
      "[902]\ttrain-rmse:0.089635\teval-rmse:0.128411\ttrain-rmspe:0.089061\teval-rmspe:0.135809\n",
      "[903]\ttrain-rmse:0.089607\teval-rmse:0.128391\ttrain-rmspe:0.08903\teval-rmspe:0.135786\n",
      "[904]\ttrain-rmse:0.089574\teval-rmse:0.128374\ttrain-rmspe:0.088997\teval-rmspe:0.135775\n",
      "[905]\ttrain-rmse:0.089522\teval-rmse:0.128368\ttrain-rmspe:0.088958\teval-rmspe:0.135748\n",
      "[906]\ttrain-rmse:0.089486\teval-rmse:0.128356\ttrain-rmspe:0.088923\teval-rmspe:0.135739\n",
      "[907]\ttrain-rmse:0.089444\teval-rmse:0.12837\ttrain-rmspe:0.088879\teval-rmspe:0.135752\n",
      "[908]\ttrain-rmse:0.089415\teval-rmse:0.128358\ttrain-rmspe:0.088848\teval-rmspe:0.135732\n",
      "[909]\ttrain-rmse:0.089384\teval-rmse:0.128356\ttrain-rmspe:0.088815\teval-rmspe:0.135733\n",
      "[910]\ttrain-rmse:0.089367\teval-rmse:0.128355\ttrain-rmspe:0.088796\teval-rmspe:0.135736\n",
      "[911]\ttrain-rmse:0.089331\teval-rmse:0.12835\ttrain-rmspe:0.088759\teval-rmspe:0.135727\n",
      "[912]\ttrain-rmse:0.089304\teval-rmse:0.128339\ttrain-rmspe:0.088731\teval-rmspe:0.135714\n",
      "[913]\ttrain-rmse:0.089274\teval-rmse:0.128328\ttrain-rmspe:0.088699\teval-rmspe:0.135707\n",
      "[914]\ttrain-rmse:0.089237\teval-rmse:0.128347\ttrain-rmspe:0.088666\teval-rmspe:0.135719\n",
      "[915]\ttrain-rmse:0.089216\teval-rmse:0.128337\ttrain-rmspe:0.088647\teval-rmspe:0.135711\n",
      "[916]\ttrain-rmse:0.089206\teval-rmse:0.128331\ttrain-rmspe:0.088635\teval-rmspe:0.135706\n",
      "[917]\ttrain-rmse:0.089171\teval-rmse:0.128312\ttrain-rmspe:0.088599\teval-rmspe:0.135687\n",
      "[918]\ttrain-rmse:0.089157\teval-rmse:0.128316\ttrain-rmspe:0.088584\teval-rmspe:0.135699\n",
      "[919]\ttrain-rmse:0.089132\teval-rmse:0.128309\ttrain-rmspe:0.088558\teval-rmspe:0.135692\n",
      "[920]\ttrain-rmse:0.089117\teval-rmse:0.128303\ttrain-rmspe:0.088538\teval-rmspe:0.13569\n",
      "[921]\ttrain-rmse:0.089102\teval-rmse:0.128302\ttrain-rmspe:0.088522\teval-rmspe:0.135692\n",
      "[922]\ttrain-rmse:0.089092\teval-rmse:0.128295\ttrain-rmspe:0.088513\teval-rmspe:0.135684\n",
      "[923]\ttrain-rmse:0.089055\teval-rmse:0.128324\ttrain-rmspe:0.088472\teval-rmspe:0.135684\n",
      "[924]\ttrain-rmse:0.089045\teval-rmse:0.128325\ttrain-rmspe:0.088458\teval-rmspe:0.135685\n",
      "[925]\ttrain-rmse:0.089031\teval-rmse:0.128324\ttrain-rmspe:0.088444\teval-rmspe:0.135682\n",
      "[926]\ttrain-rmse:0.088995\teval-rmse:0.128311\ttrain-rmspe:0.088404\teval-rmspe:0.13567\n",
      "[927]\ttrain-rmse:0.088963\teval-rmse:0.128297\ttrain-rmspe:0.08837\teval-rmspe:0.135663\n",
      "[928]\ttrain-rmse:0.088951\teval-rmse:0.128296\ttrain-rmspe:0.08836\teval-rmspe:0.13567\n",
      "[929]\ttrain-rmse:0.088905\teval-rmse:0.128271\ttrain-rmspe:0.088316\teval-rmspe:0.135642\n",
      "[930]\ttrain-rmse:0.088876\teval-rmse:0.128266\ttrain-rmspe:0.088292\teval-rmspe:0.135636\n",
      "[931]\ttrain-rmse:0.088839\teval-rmse:0.128244\ttrain-rmspe:0.088255\teval-rmspe:0.135617\n",
      "[932]\ttrain-rmse:0.088805\teval-rmse:0.128226\ttrain-rmspe:0.088214\teval-rmspe:0.135604\n",
      "[933]\ttrain-rmse:0.088788\teval-rmse:0.128216\ttrain-rmspe:0.088196\teval-rmspe:0.135594\n",
      "[934]\ttrain-rmse:0.088761\teval-rmse:0.128201\ttrain-rmspe:0.08817\teval-rmspe:0.135579\n",
      "[935]\ttrain-rmse:0.08873\teval-rmse:0.128189\ttrain-rmspe:0.088135\teval-rmspe:0.135572\n",
      "[936]\ttrain-rmse:0.088714\teval-rmse:0.128179\ttrain-rmspe:0.088118\teval-rmspe:0.135563\n",
      "[937]\ttrain-rmse:0.088668\teval-rmse:0.12815\ttrain-rmspe:0.088073\teval-rmspe:0.135536\n",
      "[938]\ttrain-rmse:0.088639\teval-rmse:0.128141\ttrain-rmspe:0.088039\teval-rmspe:0.135528\n",
      "[939]\ttrain-rmse:0.088621\teval-rmse:0.128137\ttrain-rmspe:0.08802\teval-rmspe:0.135518\n",
      "[940]\ttrain-rmse:0.088596\teval-rmse:0.128122\ttrain-rmspe:0.087992\teval-rmspe:0.135503\n",
      "[941]\ttrain-rmse:0.088576\teval-rmse:0.128115\ttrain-rmspe:0.087973\teval-rmspe:0.135497\n",
      "[942]\ttrain-rmse:0.088564\teval-rmse:0.128112\ttrain-rmspe:0.087959\teval-rmspe:0.135494\n",
      "[943]\ttrain-rmse:0.088532\teval-rmse:0.128086\ttrain-rmspe:0.087926\teval-rmspe:0.135469\n",
      "[944]\ttrain-rmse:0.088485\teval-rmse:0.128067\ttrain-rmspe:0.087875\teval-rmspe:0.135449\n",
      "[945]\ttrain-rmse:0.088471\teval-rmse:0.128062\ttrain-rmspe:0.087859\teval-rmspe:0.135442\n",
      "[946]\ttrain-rmse:0.088453\teval-rmse:0.128055\ttrain-rmspe:0.087841\teval-rmspe:0.135434\n",
      "[947]\ttrain-rmse:0.088442\teval-rmse:0.12805\ttrain-rmspe:0.087824\teval-rmspe:0.13543\n",
      "[948]\ttrain-rmse:0.08843\teval-rmse:0.128037\ttrain-rmspe:0.087811\teval-rmspe:0.135419\n",
      "[949]\ttrain-rmse:0.088396\teval-rmse:0.12802\ttrain-rmspe:0.087781\teval-rmspe:0.135412\n",
      "[950]\ttrain-rmse:0.08838\teval-rmse:0.128011\ttrain-rmspe:0.087763\teval-rmspe:0.135408\n",
      "[951]\ttrain-rmse:0.088359\teval-rmse:0.128007\ttrain-rmspe:0.08774\teval-rmspe:0.135405\n",
      "[952]\ttrain-rmse:0.088349\teval-rmse:0.12799\ttrain-rmspe:0.087729\teval-rmspe:0.135392\n",
      "[953]\ttrain-rmse:0.08833\teval-rmse:0.127981\ttrain-rmspe:0.087711\teval-rmspe:0.135383\n",
      "[954]\ttrain-rmse:0.088301\teval-rmse:0.127973\ttrain-rmspe:0.087678\teval-rmspe:0.135377\n",
      "[955]\ttrain-rmse:0.088286\teval-rmse:0.127972\ttrain-rmspe:0.087664\teval-rmspe:0.135375\n",
      "[956]\ttrain-rmse:0.088271\teval-rmse:0.127974\ttrain-rmspe:0.087646\teval-rmspe:0.135378\n",
      "[957]\ttrain-rmse:0.088243\teval-rmse:0.127964\ttrain-rmspe:0.087617\teval-rmspe:0.135366\n",
      "[958]\ttrain-rmse:0.088227\teval-rmse:0.127956\ttrain-rmspe:0.0876\teval-rmspe:0.135363\n",
      "[959]\ttrain-rmse:0.088199\teval-rmse:0.127949\ttrain-rmspe:0.08757\teval-rmspe:0.135361\n",
      "[960]\ttrain-rmse:0.088172\teval-rmse:0.127947\ttrain-rmspe:0.087536\teval-rmspe:0.135361\n",
      "[961]\ttrain-rmse:0.08814\teval-rmse:0.127939\ttrain-rmspe:0.087502\teval-rmspe:0.135352\n"
     ]
    },
    {
     "name": "stdout",
     "output_type": "stream",
     "text": [
      "[962]\ttrain-rmse:0.088095\teval-rmse:0.127917\ttrain-rmspe:0.087457\teval-rmspe:0.135336\n",
      "[963]\ttrain-rmse:0.088078\teval-rmse:0.127907\ttrain-rmspe:0.087439\teval-rmspe:0.135327\n",
      "[964]\ttrain-rmse:0.088051\teval-rmse:0.127895\ttrain-rmspe:0.087414\teval-rmspe:0.135316\n",
      "[965]\ttrain-rmse:0.088022\teval-rmse:0.127883\ttrain-rmspe:0.087382\teval-rmspe:0.135305\n",
      "[966]\ttrain-rmse:0.088\teval-rmse:0.127868\ttrain-rmspe:0.08736\teval-rmspe:0.135292\n",
      "[967]\ttrain-rmse:0.087965\teval-rmse:0.127852\ttrain-rmspe:0.087327\teval-rmspe:0.135274\n",
      "[968]\ttrain-rmse:0.087944\teval-rmse:0.127841\ttrain-rmspe:0.087306\teval-rmspe:0.135265\n",
      "[969]\ttrain-rmse:0.087898\teval-rmse:0.127809\ttrain-rmspe:0.087261\teval-rmspe:0.13523\n",
      "[970]\ttrain-rmse:0.087882\teval-rmse:0.127802\ttrain-rmspe:0.087245\teval-rmspe:0.135225\n",
      "[971]\ttrain-rmse:0.087848\teval-rmse:0.127788\ttrain-rmspe:0.087212\teval-rmspe:0.135216\n",
      "[972]\ttrain-rmse:0.087829\teval-rmse:0.127778\ttrain-rmspe:0.087193\teval-rmspe:0.135208\n",
      "[973]\ttrain-rmse:0.087796\teval-rmse:0.12776\ttrain-rmspe:0.087159\teval-rmspe:0.135189\n",
      "[974]\ttrain-rmse:0.087765\teval-rmse:0.127767\ttrain-rmspe:0.087129\teval-rmspe:0.135186\n",
      "[975]\ttrain-rmse:0.087739\teval-rmse:0.127757\ttrain-rmspe:0.0871\teval-rmspe:0.135172\n",
      "[976]\ttrain-rmse:0.087705\teval-rmse:0.127741\ttrain-rmspe:0.087062\teval-rmspe:0.135154\n",
      "[977]\ttrain-rmse:0.087688\teval-rmse:0.12774\ttrain-rmspe:0.087044\teval-rmspe:0.135151\n",
      "[978]\ttrain-rmse:0.087659\teval-rmse:0.127723\ttrain-rmspe:0.087015\teval-rmspe:0.135132\n",
      "[979]\ttrain-rmse:0.087641\teval-rmse:0.127722\ttrain-rmspe:0.086996\teval-rmspe:0.135135\n",
      "[980]\ttrain-rmse:0.087611\teval-rmse:0.12772\ttrain-rmspe:0.086963\teval-rmspe:0.135139\n",
      "[981]\ttrain-rmse:0.087589\teval-rmse:0.127704\ttrain-rmspe:0.086942\teval-rmspe:0.135128\n",
      "[982]\ttrain-rmse:0.087569\teval-rmse:0.127693\ttrain-rmspe:0.086909\teval-rmspe:0.135118\n",
      "[983]\ttrain-rmse:0.087548\teval-rmse:0.127678\ttrain-rmspe:0.086888\teval-rmspe:0.135102\n",
      "[984]\ttrain-rmse:0.087512\teval-rmse:0.127725\ttrain-rmspe:0.086851\teval-rmspe:0.135145\n",
      "[985]\ttrain-rmse:0.087489\teval-rmse:0.127722\ttrain-rmspe:0.08683\teval-rmspe:0.135142\n",
      "[986]\ttrain-rmse:0.087464\teval-rmse:0.127725\ttrain-rmspe:0.086803\teval-rmspe:0.135134\n",
      "[987]\ttrain-rmse:0.087426\teval-rmse:0.127702\ttrain-rmspe:0.086767\teval-rmspe:0.135108\n",
      "[988]\ttrain-rmse:0.087411\teval-rmse:0.127696\ttrain-rmspe:0.086753\teval-rmspe:0.135101\n",
      "[989]\ttrain-rmse:0.087398\teval-rmse:0.127694\ttrain-rmspe:0.086741\teval-rmspe:0.135101\n",
      "[990]\ttrain-rmse:0.08738\teval-rmse:0.127703\ttrain-rmspe:0.086718\teval-rmspe:0.135107\n",
      "[991]\ttrain-rmse:0.087371\teval-rmse:0.127703\ttrain-rmspe:0.086708\teval-rmspe:0.135106\n",
      "[992]\ttrain-rmse:0.087354\teval-rmse:0.127698\ttrain-rmspe:0.086691\teval-rmspe:0.135102\n",
      "[993]\ttrain-rmse:0.08734\teval-rmse:0.127698\ttrain-rmspe:0.086676\teval-rmspe:0.135099\n",
      "[994]\ttrain-rmse:0.087322\teval-rmse:0.127689\ttrain-rmspe:0.086656\teval-rmspe:0.135087\n",
      "[995]\ttrain-rmse:0.087289\teval-rmse:0.127673\ttrain-rmspe:0.086621\teval-rmspe:0.13507\n",
      "[996]\ttrain-rmse:0.087277\teval-rmse:0.127668\ttrain-rmspe:0.086609\teval-rmspe:0.135066\n",
      "[997]\ttrain-rmse:0.087237\teval-rmse:0.127649\ttrain-rmspe:0.086569\teval-rmspe:0.135052\n",
      "[998]\ttrain-rmse:0.08722\teval-rmse:0.127647\ttrain-rmspe:0.086548\teval-rmspe:0.135053\n",
      "[999]\ttrain-rmse:0.087215\teval-rmse:0.127645\ttrain-rmspe:0.086544\teval-rmspe:0.135052\n"
     ]
    }
   ],
   "source": [
    "gmb = xgb.train(params=params5, dtrain=dtrain, num_boost_round=1000,\n",
    "                             feval=rmspe_xg,evals=watchlist, early_stopping_rounds=100 )"
   ]
  },
  {
   "cell_type": "code",
   "execution_count": 138,
   "metadata": {
    "scrolled": true
   },
   "outputs": [
    {
     "name": "stdout",
     "output_type": "stream",
     "text": [
      "validating\n",
      "RMSPE: 0.107623\n"
     ]
    }
   ],
   "source": [
    "#采用保留数据集进行检测\n",
    "print(\"validating\")\n",
    "yhat = gmb.predict(xgb.DMatrix(train_tra_x))\n",
    "error = rmspe(train_tra_y, yhat)\n",
    "\n",
    "print('RMSPE: {:.6f}'.format(error))"
   ]
  },
  {
   "cell_type": "code",
   "execution_count": 135,
   "metadata": {},
   "outputs": [],
   "source": [
    "test_sub = test.drop(['Id'],axis=1)\n",
    "test_sub['StateHoliday_b'] = 0\n",
    "test_sub['StateHoliday_c'] = 0\n",
    "test_sub = test_sub[train_val_x.columns]"
   ]
  },
  {
   "cell_type": "code",
   "execution_count": 136,
   "metadata": {},
   "outputs": [],
   "source": [
    "\n",
    "dtest = xgb.DMatrix(test_sub)\n",
    "\n",
    "test_probs = gmb.predict(dtest)"
   ]
  },
  {
   "cell_type": "code",
   "execution_count": 137,
   "metadata": {},
   "outputs": [],
   "source": [
    "result = pd.DataFrame({\"Id\": test['Id'], 'Sales': np.expm1(test_probs)})\n",
    "\n",
    "result.to_csv(\"Rossmann_submission_xgboost_tuned.csv\", index=False)"
   ]
  },
  {
   "cell_type": "markdown",
   "metadata": {},
   "source": [
    "### 在kaggle上計算到得分是0.10980，比起調參之前得到的0.12004有了較大提升"
   ]
  },
  {
   "cell_type": "markdown",
   "metadata": {},
   "source": []
  }
 ],
 "metadata": {
  "kernelspec": {
   "display_name": "Python 3",
   "language": "python",
   "name": "python3"
  },
  "language_info": {
   "codemirror_mode": {
    "name": "ipython",
    "version": 3
   },
   "file_extension": ".py",
   "mimetype": "text/x-python",
   "name": "python",
   "nbconvert_exporter": "python",
   "pygments_lexer": "ipython3",
   "version": "3.7.3"
  }
 },
 "nbformat": 4,
 "nbformat_minor": 2
}
